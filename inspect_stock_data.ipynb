{
 "cells": [
  {
   "cell_type": "code",
   "execution_count": 1,
   "metadata": {
    "collapsed": true
   },
   "outputs": [],
   "source": [
    "#inspect_stock_data.ipynb\n",
    "#\n",
    "#by Joe Hahn\n",
    "#jmh.datasciences@gmail.com\n",
    "#23 January 2018\n",
    "#\n",
    "#this reads some NYSE data and makes some charts"
   ]
  },
  {
   "cell_type": "code",
   "execution_count": null,
   "metadata": {
    "collapsed": true
   },
   "outputs": [],
   "source": [
    "#import matplotlib pandas etc\n",
    "%matplotlib inline\n",
    "import seaborn as sns\n",
    "import matplotlib.pyplot as plt\n",
    "import numpy as np\n",
    "import pandas as pd\n",
    "from matplotlib import rcParams\n",
    "sns.set(font_scale=1.5, font='DejaVu Sans')\n",
    "pd.set_option('display.max_columns', None)"
   ]
  },
  {
   "cell_type": "code",
   "execution_count": null,
   "metadata": {},
   "outputs": [],
   "source": [
    "#read NYSE data\n",
    "from helper_fns import *\n",
    "data_path = 'data'\n",
    "start_date = '2016-05-01'\n",
    "end_date = '2018-01-12'\n",
    "drop_holidays=True\n",
    "data = read_nyse_data(data_path, start_date=start_date, end_date=end_date, drop_holidays=drop_holidays)\n",
    "print data.dtypes\n",
    "data.tail(5)"
   ]
  },
  {
   "cell_type": "code",
   "execution_count": null,
   "metadata": {
    "collapsed": true
   },
   "outputs": [],
   "source": [
    "#select range of dates to be considered\n",
    "date_rng = ('2016-07-10', end_date)"
   ]
  },
  {
   "cell_type": "code",
   "execution_count": null,
   "metadata": {},
   "outputs": [],
   "source": [
    "#compute volume of shares traded each day\n",
    "daily_volume = data.groupby('date')['vol'].sum()"
   ]
  },
  {
   "cell_type": "code",
   "execution_count": null,
   "metadata": {},
   "outputs": [],
   "source": [
    "#plot daily volume vs date\n",
    "fig, ax = plt.subplots(figsize=(16, 6))\n",
    "xp = daily_volume.index\n",
    "yp = daily_volume.values/1.0e9\n",
    "p = ax.plot(xp, yp, linestyle='-')\n",
    "ax.set_title('NYSE daily share volume')\n",
    "ax.set_xlabel('date')\n",
    "ax.set_ylabel('shares traded    (G)')\n",
    "ax.set_ylim(0, 7)\n",
    "ax.set_xlim(date_rng)\n",
    "plt.savefig('figs/volume.png')"
   ]
  },
  {
   "cell_type": "code",
   "execution_count": null,
   "metadata": {
    "collapsed": true
   },
   "outputs": [],
   "source": [
    "#compute volume-weighted share price versus date\n",
    "def volume_weighted_share_price(record):\n",
    "    vwsp = None\n",
    "    cv = record['close']*record['vol']\n",
    "    v_total = record['vol'].sum()\n",
    "    if (v_total > 0.0):\n",
    "        vwsp = cv.sum()/v_total\n",
    "    return vwsp\n",
    "vwsp = data.groupby('date').apply(volume_weighted_share_price)"
   ]
  },
  {
   "cell_type": "code",
   "execution_count": null,
   "metadata": {},
   "outputs": [],
   "source": [
    "#plot volume-weighted share price vs date\n",
    "fig, ax = plt.subplots(figsize=(16, 6))\n",
    "xp = vwsp.index\n",
    "yp = vwsp.values\n",
    "p = ax.plot(xp, yp, linestyle='-')\n",
    "ax.set_title('NYSE volume-weighted mean share price')\n",
    "ax.set_xlabel('date')\n",
    "ax.set_ylabel('volume-weighted share price')\n",
    "ax.set_ylim(31, 45)\n",
    "ax.set_xlim(date_rng)\n",
    "plt.savefig('figs/vwsp.png')"
   ]
  },
  {
   "cell_type": "code",
   "execution_count": null,
   "metadata": {
    "collapsed": true
   },
   "outputs": [],
   "source": []
  }
 ],
 "metadata": {
  "hide_input": false,
  "kernelspec": {
   "display_name": "Python 2",
   "language": "python",
   "name": "python2"
  },
  "language_info": {
   "codemirror_mode": {
    "name": "ipython",
    "version": 2
   },
   "file_extension": ".py",
   "mimetype": "text/x-python",
   "name": "python",
   "nbconvert_exporter": "python",
   "pygments_lexer": "ipython2",
   "version": "2.7.6"
  }
 },
 "nbformat": 4,
 "nbformat_minor": 2
}
