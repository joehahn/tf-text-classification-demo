{
 "cells": [
  {
   "cell_type": "code",
   "execution_count": 1,
   "metadata": {
    "collapsed": true
   },
   "outputs": [],
   "source": [
    "#dl.ipynb\n",
    "#\n",
    "#by Joe Hahn\n",
    "#jmh.datasciences@gmail.com\n",
    "#24 January 2018"
   ]
  },
  {
   "cell_type": "code",
   "execution_count": 15,
   "metadata": {
    "collapsed": true
   },
   "outputs": [],
   "source": [
    "#import matplotlib pandas etc\n",
    "%matplotlib inline\n",
    "import seaborn as sns\n",
    "import matplotlib.pyplot as plt\n",
    "import datetime\n",
    "import numpy as np\n",
    "import pandas as pd\n",
    "from matplotlib import rcParams\n",
    "sns.set(font_scale=1.5, font='DejaVu Sans')\n",
    "pd.set_option('display.max_columns', None)"
   ]
  },
  {
   "cell_type": "code",
   "execution_count": 16,
   "metadata": {},
   "outputs": [
    {
     "name": "stdout",
     "output_type": "stream",
     "text": [
      "number of books =  496\n"
     ]
    }
   ],
   "source": [
    "#read books dataframe\n",
    "import pickle\n",
    "with open('books.pkl', 'rb') as fp:\n",
    "    books = pickle.load(fp).sort_values('author')\n",
    "print 'number of books = ', len(books)"
   ]
  },
  {
   "cell_type": "code",
   "execution_count": 17,
   "metadata": {},
   "outputs": [
    {
     "name": "stdout",
     "output_type": "stream",
     "text": [
      "number of books_max =  296\n"
     ]
    }
   ],
   "source": [
    "#among repeat authors, select book having greatest number of sentences\n",
    "books_max = books.sort_values('N_sentences', ascending=False).drop_duplicates(['author']).sort_values('author')\n",
    "print 'number of books_max = ', len(books_max)"
   ]
  },
  {
   "cell_type": "code",
   "execution_count": 18,
   "metadata": {},
   "outputs": [],
   "source": [
    "#check above\n",
    "debug = True\n",
    "if (debug):\n",
    "    books[books['author'].str.contains('Shakespeare')]"
   ]
  },
  {
   "cell_type": "code",
   "execution_count": 19,
   "metadata": {},
   "outputs": [],
   "source": [
    "if (debug):\n",
    "    books_max[books_max['author'].str.contains('Shakespeare')]"
   ]
  },
  {
   "cell_type": "code",
   "execution_count": 20,
   "metadata": {
    "scrolled": false
   },
   "outputs": [
    {
     "name": "stdout",
     "output_type": "stream",
     "text": [
      "height has been deprecated.\n",
      "\n"
     ]
    },
    {
     "data": {
      "text/html": [
       "<div>\n",
       "<table border=\"1\" class=\"dataframe\">\n",
       "  <thead>\n",
       "    <tr style=\"text-align: right;\">\n",
       "      <th></th>\n",
       "      <th>author</th>\n",
       "      <th>title</th>\n",
       "      <th>N_sentences</th>\n",
       "      <th>input_file</th>\n",
       "      <th>sentences</th>\n",
       "    </tr>\n",
       "  </thead>\n",
       "  <tbody>\n",
       "    <tr>\n",
       "      <th>216</th>\n",
       "      <td>A Religious of the Ursuline Community</td>\n",
       "      <td>The Life of the Venerable Mother Mary of the I...</td>\n",
       "      <td>2713</td>\n",
       "      <td>iso/etext04/8vnmm10.txt</td>\n",
       "      <td>[The worst torments of the martyrs would have ...</td>\n",
       "    </tr>\n",
       "    <tr>\n",
       "      <th>427</th>\n",
       "      <td>A.H. Clough</td>\n",
       "      <td>PlutarchLives</td>\n",
       "      <td>3000</td>\n",
       "      <td>iso/etext96/plivs10.txt</td>\n",
       "      <td>[Notwithstanding which, it is the prevailing o...</td>\n",
       "    </tr>\n",
       "    <tr>\n",
       "      <th>49</th>\n",
       "      <td>Abraham Lincoln</td>\n",
       "      <td>The Writings of Lincoln, v7</td>\n",
       "      <td>3000</td>\n",
       "      <td>iso/etext01/7linc11.txt</td>\n",
       "      <td>[(Indorsement.), Yours, etc., A. LINCOLN., WAS...</td>\n",
       "    </tr>\n",
       "    <tr>\n",
       "      <th>122</th>\n",
       "      <td>Adam Smith</td>\n",
       "      <td>Wealth of Nations</td>\n",
       "      <td>3000</td>\n",
       "      <td>iso/etext02/wltnt10.txt</td>\n",
       "      <td>[The unavoidable effects of the natural progre...</td>\n",
       "    </tr>\n",
       "    <tr>\n",
       "      <th>133</th>\n",
       "      <td>Adolphus William Ward</td>\n",
       "      <td>Chaucer</td>\n",
       "      <td>1704</td>\n",
       "      <td>iso/etext03/chacr10.txt</td>\n",
       "      <td>[Indeed, the latter appellation suits him in b...</td>\n",
       "    </tr>\n",
       "  </tbody>\n",
       "</table>\n",
       "</div>"
      ],
      "text/plain": [
       "                                    author  \\\n",
       "216  A Religious of the Ursuline Community   \n",
       "427                            A.H. Clough   \n",
       "49                         Abraham Lincoln   \n",
       "122                             Adam Smith   \n",
       "133                  Adolphus William Ward   \n",
       "\n",
       "                                                 title  N_sentences  \\\n",
       "216  The Life of the Venerable Mother Mary of the I...         2713   \n",
       "427                                      PlutarchLives         3000   \n",
       "49                         The Writings of Lincoln, v7         3000   \n",
       "122                                  Wealth of Nations         3000   \n",
       "133                                            Chaucer         1704   \n",
       "\n",
       "                  input_file  \\\n",
       "216  iso/etext04/8vnmm10.txt   \n",
       "427  iso/etext96/plivs10.txt   \n",
       "49   iso/etext01/7linc11.txt   \n",
       "122  iso/etext02/wltnt10.txt   \n",
       "133  iso/etext03/chacr10.txt   \n",
       "\n",
       "                                             sentences  \n",
       "216  [The worst torments of the martyrs would have ...  \n",
       "427  [Notwithstanding which, it is the prevailing o...  \n",
       "49   [(Indorsement.), Yours, etc., A. LINCOLN., WAS...  \n",
       "122  [The unavoidable effects of the natural progre...  \n",
       "133  [Indeed, the latter appellation suits him in b...  "
      ]
     },
     "execution_count": 20,
     "metadata": {},
     "output_type": "execute_result"
    }
   ],
   "source": [
    "pd.set_option('display.height', 500)\n",
    "books_max.head()"
   ]
  },
  {
   "cell_type": "code",
   "execution_count": 52,
   "metadata": {
    "scrolled": true
   },
   "outputs": [
    {
     "data": {
      "text/plain": [
       "(296, 767829, 767829)"
      ]
     },
     "execution_count": 52,
     "metadata": {},
     "output_type": "execute_result"
    }
   ],
   "source": [
    "sentences = books_max['sentences'].tolist()\n",
    "import itertools\n",
    "all_sentences = list(itertools.chain(*sentences))\n",
    "len(sentences), len(all_sentences), books_max['N_sentences'].sum()"
   ]
  },
  {
   "cell_type": "code",
   "execution_count": 55,
   "metadata": {},
   "outputs": [],
   "source": [
    "from gensim.models import Word2Vec\n",
    "model = Word2Vec(all_sentences, size=100, alpha=0.025, min_count=1)"
   ]
  },
  {
   "cell_type": "code",
   "execution_count": 56,
   "metadata": {
    "collapsed": true
   },
   "outputs": [],
   "source": [
    "Word2Vec?"
   ]
  },
  {
   "cell_type": "code",
   "execution_count": null,
   "metadata": {
    "collapsed": true
   },
   "outputs": [],
   "source": []
  }
 ],
 "metadata": {
  "hide_input": false,
  "kernelspec": {
   "display_name": "Python 2",
   "language": "python",
   "name": "python2"
  },
  "language_info": {
   "codemirror_mode": {
    "name": "ipython",
    "version": 2
   },
   "file_extension": ".py",
   "mimetype": "text/x-python",
   "name": "python",
   "nbconvert_exporter": "python",
   "pygments_lexer": "ipython2",
   "version": "2.7.6"
  }
 },
 "nbformat": 4,
 "nbformat_minor": 2
}
