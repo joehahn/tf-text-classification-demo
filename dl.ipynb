{
 "cells": [
  {
   "cell_type": "code",
   "execution_count": 1,
   "metadata": {
    "collapsed": true
   },
   "outputs": [],
   "source": [
    "#dl.ipynb\n",
    "#\n",
    "#by Joe Hahn\n",
    "#jmh.datasciences@gmail.com\n",
    "#24 January 2018"
   ]
  },
  {
   "cell_type": "code",
   "execution_count": 2,
   "metadata": {},
   "outputs": [
    {
     "name": "stdout",
     "output_type": "stream",
     "text": [
      "height has been deprecated.\n",
      "\n"
     ]
    }
   ],
   "source": [
    "#import matplotlib pandas etc\n",
    "%matplotlib inline\n",
    "import seaborn as sns\n",
    "import matplotlib.pyplot as plt\n",
    "import datetime\n",
    "import numpy as np\n",
    "import pandas as pd\n",
    "from matplotlib import rcParams\n",
    "sns.set(font_scale=1.5, font='DejaVu Sans')\n",
    "pd.set_option('display.max_columns', None)\n",
    "pd.set_option('display.height', None)\n",
    "pd.set_option('display.width', None)"
   ]
  },
  {
   "cell_type": "code",
   "execution_count": 3,
   "metadata": {},
   "outputs": [
    {
     "name": "stdout",
     "output_type": "stream",
     "text": [
      "number of records =  126114\n",
      "number of books =  89\n"
     ]
    },
    {
     "data": {
      "text/html": [
       "<div>\n",
       "<table border=\"1\" class=\"dataframe\">\n",
       "  <thead>\n",
       "    <tr style=\"text-align: right;\">\n",
       "      <th></th>\n",
       "      <th>author</th>\n",
       "      <th>author_id</th>\n",
       "      <th>title</th>\n",
       "      <th>input_file</th>\n",
       "      <th>text_chunk</th>\n",
       "    </tr>\n",
       "  </thead>\n",
       "  <tbody>\n",
       "    <tr>\n",
       "      <th>96074</th>\n",
       "      <td>A.H. Clough</td>\n",
       "      <td>0</td>\n",
       "      <td>Plutarch's Lives</td>\n",
       "      <td>iso/etext96/plivs10.txt</td>\n",
       "      <td>and their infantry, who were placed in the lef...</td>\n",
       "    </tr>\n",
       "    <tr>\n",
       "      <th>38665</th>\n",
       "      <td>Percy Bysshe Shelley</td>\n",
       "      <td>65</td>\n",
       "      <td>The Complete Poetical Works of Percy Bysshe</td>\n",
       "      <td>iso/etext03/shlyc10.txt</td>\n",
       "      <td>One of their associates is, to my knowledge, a...</td>\n",
       "    </tr>\n",
       "    <tr>\n",
       "      <th>74739</th>\n",
       "      <td>Kate Milner Rabb</td>\n",
       "      <td>51</td>\n",
       "      <td>National Epics</td>\n",
       "      <td>iso/etext05/8ntle10.txt</td>\n",
       "      <td>strong car in which to carry away the soiled g...</td>\n",
       "    </tr>\n",
       "    <tr>\n",
       "      <th>75323</th>\n",
       "      <td>Kate Milner Rabb</td>\n",
       "      <td>51</td>\n",
       "      <td>National Epics</td>\n",
       "      <td>iso/etext05/8ntle10.txt</td>\n",
       "      <td>his honor in the land grows greater day by day...</td>\n",
       "    </tr>\n",
       "    <tr>\n",
       "      <th>84031</th>\n",
       "      <td>Austen</td>\n",
       "      <td>7</td>\n",
       "      <td>Sense And Sensibility</td>\n",
       "      <td>iso/etext94/sense11.txt</td>\n",
       "      <td>and my cousins would be proud to know her.--My...</td>\n",
       "    </tr>\n",
       "  </tbody>\n",
       "</table>\n",
       "</div>"
      ],
      "text/plain": [
       "                     author  author_id  \\\n",
       "96074           A.H. Clough          0   \n",
       "38665  Percy Bysshe Shelley         65   \n",
       "74739      Kate Milner Rabb         51   \n",
       "75323      Kate Milner Rabb         51   \n",
       "84031                Austen          7   \n",
       "\n",
       "                                             title               input_file  \\\n",
       "96074                             Plutarch's Lives  iso/etext96/plivs10.txt   \n",
       "38665  The Complete Poetical Works of Percy Bysshe  iso/etext03/shlyc10.txt   \n",
       "74739                               National Epics  iso/etext05/8ntle10.txt   \n",
       "75323                               National Epics  iso/etext05/8ntle10.txt   \n",
       "84031                        Sense And Sensibility  iso/etext94/sense11.txt   \n",
       "\n",
       "                                              text_chunk  \n",
       "96074  and their infantry, who were placed in the lef...  \n",
       "38665  One of their associates is, to my knowledge, a...  \n",
       "74739  strong car in which to carry away the soiled g...  \n",
       "75323  his honor in the land grows greater day by day...  \n",
       "84031  and my cousins would be proud to know her.--My...  "
      ]
     },
     "execution_count": 3,
     "metadata": {},
     "output_type": "execute_result"
    }
   ],
   "source": [
    "#read books dataframe\n",
    "import pickle\n",
    "with open('chunks.pkl', 'rb') as fp:\n",
    "    chunks = pickle.load(fp)\n",
    "print 'number of records = ', len(chunks)\n",
    "print 'number of books = ', len(chunks['input_file'].unique())\n",
    "chunks.head()"
   ]
  },
  {
   "cell_type": "code",
   "execution_count": 4,
   "metadata": {
    "scrolled": false
   },
   "outputs": [
    {
     "data": {
      "text/html": [
       "<div>\n",
       "<table border=\"1\" class=\"dataframe\">\n",
       "  <thead>\n",
       "    <tr style=\"text-align: right;\">\n",
       "      <th></th>\n",
       "      <th>author</th>\n",
       "      <th>title</th>\n",
       "      <th>input_file</th>\n",
       "      <th>N_chunks</th>\n",
       "    </tr>\n",
       "  </thead>\n",
       "  <tbody>\n",
       "    <tr>\n",
       "      <th>0</th>\n",
       "      <td>A.H. Clough</td>\n",
       "      <td>Plutarch's Lives</td>\n",
       "      <td>iso/etext96/plivs10.txt</td>\n",
       "      <td>2200</td>\n",
       "    </tr>\n",
       "    <tr>\n",
       "      <th>1</th>\n",
       "      <td>Adam Smith</td>\n",
       "      <td>Wealth Of Nations</td>\n",
       "      <td>iso/etext02/wltnt10.txt</td>\n",
       "      <td>2200</td>\n",
       "    </tr>\n",
       "    <tr>\n",
       "      <th>2</th>\n",
       "      <td>Adams</td>\n",
       "      <td>The Education Of Henry Adams</td>\n",
       "      <td>iso/etext00/eduha10.txt</td>\n",
       "      <td>1260</td>\n",
       "    </tr>\n",
       "    <tr>\n",
       "      <th>3</th>\n",
       "      <td>Anne C. Lynch Botta</td>\n",
       "      <td>Handbook Of Universal Literature</td>\n",
       "      <td>iso/etext05/8unlt10.txt</td>\n",
       "      <td>1699</td>\n",
       "    </tr>\n",
       "    <tr>\n",
       "      <th>4</th>\n",
       "      <td>Anthony Trollope</td>\n",
       "      <td>The Last Chronicle Of Barset</td>\n",
       "      <td>iso/etext02/lacob11.txt</td>\n",
       "      <td>2200</td>\n",
       "    </tr>\n",
       "  </tbody>\n",
       "</table>\n",
       "</div>"
      ],
      "text/plain": [
       "                author                             title  \\\n",
       "0          A.H. Clough                  Plutarch's Lives   \n",
       "1           Adam Smith                 Wealth Of Nations   \n",
       "2                Adams      The Education Of Henry Adams   \n",
       "3  Anne C. Lynch Botta  Handbook Of Universal Literature   \n",
       "4     Anthony Trollope      The Last Chronicle Of Barset   \n",
       "\n",
       "                input_file  N_chunks  \n",
       "0  iso/etext96/plivs10.txt      2200  \n",
       "1  iso/etext02/wltnt10.txt      2200  \n",
       "2  iso/etext00/eduha10.txt      1260  \n",
       "3  iso/etext05/8unlt10.txt      1699  \n",
       "4  iso/etext02/lacob11.txt      2200  "
      ]
     },
     "execution_count": 4,
     "metadata": {},
     "output_type": "execute_result"
    }
   ],
   "source": [
    "#show titles and number of chunks\n",
    "#need to fix Austnn & Jane Austen\n",
    "N = pd.DataFrame(chunks.groupby(['author', 'title', 'input_file'])['text_chunk'].count()).reset_index()\\\n",
    "    .sort_values('author')\n",
    "N = N.rename(columns={'text_chunk':'N_chunks'})\n",
    "N.head()"
   ]
  },
  {
   "cell_type": "code",
   "execution_count": 5,
   "metadata": {},
   "outputs": [
    {
     "data": {
      "text/html": [
       "<div>\n",
       "<table border=\"1\" class=\"dataframe\">\n",
       "  <thead>\n",
       "    <tr style=\"text-align: right;\">\n",
       "      <th></th>\n",
       "      <th>author</th>\n",
       "      <th>author_id</th>\n",
       "      <th>title</th>\n",
       "      <th>input_file</th>\n",
       "      <th>text_chunk</th>\n",
       "    </tr>\n",
       "  </thead>\n",
       "  <tbody>\n",
       "    <tr>\n",
       "      <th>111052</th>\n",
       "      <td>Thomas Malory</td>\n",
       "      <td>2</td>\n",
       "      <td>Le Mort D'Arthur</td>\n",
       "      <td>iso/etext98/2mart10.txt</td>\n",
       "      <td>Fair fellows, said Galihodin, yonder come four...</td>\n",
       "    </tr>\n",
       "    <tr>\n",
       "      <th>124876</th>\n",
       "      <td>Cervantes, In Spanish</td>\n",
       "      <td>0</td>\n",
       "      <td>Don Quijote</td>\n",
       "      <td>iso/etext99/2donq10.txt</td>\n",
       "      <td>ordenado: que todas las mujeres se entrasen en...</td>\n",
       "    </tr>\n",
       "    <tr>\n",
       "      <th>125284</th>\n",
       "      <td>Cervantes, In Spanish</td>\n",
       "      <td>0</td>\n",
       "      <td>Don Quijote</td>\n",
       "      <td>iso/etext99/2donq10.txt</td>\n",
       "      <td>que �l har�a que el marqu�s, su hermano, fuese...</td>\n",
       "    </tr>\n",
       "    <tr>\n",
       "      <th>53798</th>\n",
       "      <td>Thomas Bulfinch</td>\n",
       "      <td>1</td>\n",
       "      <td>Bulfinch'S Mythology</td>\n",
       "      <td>iso/etext04/bllfn10.txt</td>\n",
       "      <td>they brought before the king. Pentheus, behold...</td>\n",
       "    </tr>\n",
       "    <tr>\n",
       "      <th>53873</th>\n",
       "      <td>Thomas Bulfinch</td>\n",
       "      <td>1</td>\n",
       "      <td>Bulfinch'S Mythology</td>\n",
       "      <td>iso/etext04/bllfn10.txt</td>\n",
       "      <td>preparation of a robe for the funeral canopy o...</td>\n",
       "    </tr>\n",
       "    <tr>\n",
       "      <th>51879</th>\n",
       "      <td>Thomas Bulfinch</td>\n",
       "      <td>1</td>\n",
       "      <td>Bulfinch'S Mythology</td>\n",
       "      <td>iso/etext04/bllfn10.txt</td>\n",
       "      <td>he offered her a goblet of liquor. \"Drink this...</td>\n",
       "    </tr>\n",
       "    <tr>\n",
       "      <th>123999</th>\n",
       "      <td>Cervantes, In Spanish</td>\n",
       "      <td>0</td>\n",
       "      <td>Don Quijote</td>\n",
       "      <td>iso/etext99/2donq10.txt</td>\n",
       "      <td>las cosas tienen remedio, si no es la muerte, ...</td>\n",
       "    </tr>\n",
       "    <tr>\n",
       "      <th>52776</th>\n",
       "      <td>Thomas Bulfinch</td>\n",
       "      <td>1</td>\n",
       "      <td>Bulfinch'S Mythology</td>\n",
       "      <td>iso/etext04/bllfn10.txt</td>\n",
       "      <td>Sad and sorrowful was the maiden as she saw al...</td>\n",
       "    </tr>\n",
       "    <tr>\n",
       "      <th>123826</th>\n",
       "      <td>Cervantes, In Spanish</td>\n",
       "      <td>0</td>\n",
       "      <td>Don Quijote</td>\n",
       "      <td>iso/etext99/2donq10.txt</td>\n",
       "      <td>salir, ora fuese visto o no, con determinaci�n...</td>\n",
       "    </tr>\n",
       "    <tr>\n",
       "      <th>52912</th>\n",
       "      <td>Thomas Bulfinch</td>\n",
       "      <td>1</td>\n",
       "      <td>Bulfinch'S Mythology</td>\n",
       "      <td>iso/etext04/bllfn10.txt</td>\n",
       "      <td>go to the grotto of Galatea, and tell her how ...</td>\n",
       "    </tr>\n",
       "    <tr>\n",
       "      <th>53315</th>\n",
       "      <td>Thomas Bulfinch</td>\n",
       "      <td>1</td>\n",
       "      <td>Bulfinch'S Mythology</td>\n",
       "      <td>iso/etext04/bllfn10.txt</td>\n",
       "      <td>the queen, forgetting her resentment for her b...</td>\n",
       "    </tr>\n",
       "    <tr>\n",
       "      <th>53735</th>\n",
       "      <td>Thomas Bulfinch</td>\n",
       "      <td>1</td>\n",
       "      <td>Bulfinch'S Mythology</td>\n",
       "      <td>iso/etext04/bllfn10.txt</td>\n",
       "      <td>to his own kingdom of the Netherlands. Upon hi...</td>\n",
       "    </tr>\n",
       "    <tr>\n",
       "      <th>111919</th>\n",
       "      <td>Thomas Malory</td>\n",
       "      <td>2</td>\n",
       "      <td>Le Mort D'Arthur</td>\n",
       "      <td>iso/etext98/2mart10.txt</td>\n",
       "      <td>then every knight knew him that it was Sir Lau...</td>\n",
       "    </tr>\n",
       "    <tr>\n",
       "      <th>53417</th>\n",
       "      <td>Thomas Bulfinch</td>\n",
       "      <td>1</td>\n",
       "      <td>Bulfinch'S Mythology</td>\n",
       "      <td>iso/etext04/bllfn10.txt</td>\n",
       "      <td>me evermore; but my time hieth fast. Therefore...</td>\n",
       "    </tr>\n",
       "    <tr>\n",
       "      <th>123263</th>\n",
       "      <td>Cervantes, In Spanish</td>\n",
       "      <td>0</td>\n",
       "      <td>Don Quijote</td>\n",
       "      <td>iso/etext99/2donq10.txt</td>\n",
       "      <td>mezcla de lenguas que tengo dicho me pregunt� ...</td>\n",
       "    </tr>\n",
       "    <tr>\n",
       "      <th>111828</th>\n",
       "      <td>Thomas Malory</td>\n",
       "      <td>2</td>\n",
       "      <td>Le Mort D'Arthur</td>\n",
       "      <td>iso/etext98/2mart10.txt</td>\n",
       "      <td>Table were slain and destroyed, more than half...</td>\n",
       "    </tr>\n",
       "    <tr>\n",
       "      <th>111296</th>\n",
       "      <td>Thomas Malory</td>\n",
       "      <td>2</td>\n",
       "      <td>Le Mort D'Arthur</td>\n",
       "      <td>iso/etext98/2mart10.txt</td>\n",
       "      <td>also the death of Sir Lamorak, that of knighth...</td>\n",
       "    </tr>\n",
       "    <tr>\n",
       "      <th>52940</th>\n",
       "      <td>Thomas Bulfinch</td>\n",
       "      <td>1</td>\n",
       "      <td>Bulfinch'S Mythology</td>\n",
       "      <td>iso/etext04/bllfn10.txt</td>\n",
       "      <td>and would have thrown him into the river, but ...</td>\n",
       "    </tr>\n",
       "    <tr>\n",
       "      <th>124025</th>\n",
       "      <td>Cervantes, In Spanish</td>\n",
       "      <td>0</td>\n",
       "      <td>Don Quijote</td>\n",
       "      <td>iso/etext99/2donq10.txt</td>\n",
       "      <td>y \"a idos de mi casa y qu� quer�is con mi muje...</td>\n",
       "    </tr>\n",
       "    <tr>\n",
       "      <th>51949</th>\n",
       "      <td>Thomas Bulfinch</td>\n",
       "      <td>1</td>\n",
       "      <td>Bulfinch'S Mythology</td>\n",
       "      <td>iso/etext04/bllfn10.txt</td>\n",
       "      <td>of buildings and pinnacles of the rocks, afrai...</td>\n",
       "    </tr>\n",
       "  </tbody>\n",
       "</table>\n",
       "</div>"
      ],
      "text/plain": [
       "                       author  author_id                 title  \\\n",
       "111052          Thomas Malory          2      Le Mort D'Arthur   \n",
       "124876  Cervantes, In Spanish          0           Don Quijote   \n",
       "125284  Cervantes, In Spanish          0           Don Quijote   \n",
       "53798         Thomas Bulfinch          1  Bulfinch'S Mythology   \n",
       "53873         Thomas Bulfinch          1  Bulfinch'S Mythology   \n",
       "51879         Thomas Bulfinch          1  Bulfinch'S Mythology   \n",
       "123999  Cervantes, In Spanish          0           Don Quijote   \n",
       "52776         Thomas Bulfinch          1  Bulfinch'S Mythology   \n",
       "123826  Cervantes, In Spanish          0           Don Quijote   \n",
       "52912         Thomas Bulfinch          1  Bulfinch'S Mythology   \n",
       "53315         Thomas Bulfinch          1  Bulfinch'S Mythology   \n",
       "53735         Thomas Bulfinch          1  Bulfinch'S Mythology   \n",
       "111919          Thomas Malory          2      Le Mort D'Arthur   \n",
       "53417         Thomas Bulfinch          1  Bulfinch'S Mythology   \n",
       "123263  Cervantes, In Spanish          0           Don Quijote   \n",
       "111828          Thomas Malory          2      Le Mort D'Arthur   \n",
       "111296          Thomas Malory          2      Le Mort D'Arthur   \n",
       "52940         Thomas Bulfinch          1  Bulfinch'S Mythology   \n",
       "124025  Cervantes, In Spanish          0           Don Quijote   \n",
       "51949         Thomas Bulfinch          1  Bulfinch'S Mythology   \n",
       "\n",
       "                     input_file  \\\n",
       "111052  iso/etext98/2mart10.txt   \n",
       "124876  iso/etext99/2donq10.txt   \n",
       "125284  iso/etext99/2donq10.txt   \n",
       "53798   iso/etext04/bllfn10.txt   \n",
       "53873   iso/etext04/bllfn10.txt   \n",
       "51879   iso/etext04/bllfn10.txt   \n",
       "123999  iso/etext99/2donq10.txt   \n",
       "52776   iso/etext04/bllfn10.txt   \n",
       "123826  iso/etext99/2donq10.txt   \n",
       "52912   iso/etext04/bllfn10.txt   \n",
       "53315   iso/etext04/bllfn10.txt   \n",
       "53735   iso/etext04/bllfn10.txt   \n",
       "111919  iso/etext98/2mart10.txt   \n",
       "53417   iso/etext04/bllfn10.txt   \n",
       "123263  iso/etext99/2donq10.txt   \n",
       "111828  iso/etext98/2mart10.txt   \n",
       "111296  iso/etext98/2mart10.txt   \n",
       "52940   iso/etext04/bllfn10.txt   \n",
       "124025  iso/etext99/2donq10.txt   \n",
       "51949   iso/etext04/bllfn10.txt   \n",
       "\n",
       "                                               text_chunk  \n",
       "111052  Fair fellows, said Galihodin, yonder come four...  \n",
       "124876  ordenado: que todas las mujeres se entrasen en...  \n",
       "125284  que �l har�a que el marqu�s, su hermano, fuese...  \n",
       "53798   they brought before the king. Pentheus, behold...  \n",
       "53873   preparation of a robe for the funeral canopy o...  \n",
       "51879   he offered her a goblet of liquor. \"Drink this...  \n",
       "123999  las cosas tienen remedio, si no es la muerte, ...  \n",
       "52776   Sad and sorrowful was the maiden as she saw al...  \n",
       "123826  salir, ora fuese visto o no, con determinaci�n...  \n",
       "52912   go to the grotto of Galatea, and tell her how ...  \n",
       "53315   the queen, forgetting her resentment for her b...  \n",
       "53735   to his own kingdom of the Netherlands. Upon hi...  \n",
       "111919  then every knight knew him that it was Sir Lau...  \n",
       "53417   me evermore; but my time hieth fast. Therefore...  \n",
       "123263  mezcla de lenguas que tengo dicho me pregunt� ...  \n",
       "111828  Table were slain and destroyed, more than half...  \n",
       "111296  also the death of Sir Lamorak, that of knighth...  \n",
       "52940   and would have thrown him into the river, but ...  \n",
       "124025  y \"a idos de mi casa y qu� quer�is con mi muje...  \n",
       "51949   of buildings and pinnacles of the rocks, afrai...  "
      ]
     },
     "execution_count": 5,
     "metadata": {},
     "output_type": "execute_result"
    }
   ],
   "source": [
    "#select 3 books\n",
    "records = chunks\n",
    "id0 = 12 #Don Quijote in Spanish\n",
    "id1 = 79 #bullfinch Mythology\n",
    "id2 = 82 #Le Mort D'Arthur\n",
    "idx = (records['author_id'] == id0) | (records['author_id'] == id1) | (records['author_id'] == id2)\n",
    "records = records[idx].copy()\n",
    "records['author_id'] = records['author_id'].replace({id0:0, id1:1, id2:2})#, axis=1)\n",
    "records.head(20)"
   ]
  },
  {
   "cell_type": "code",
   "execution_count": 6,
   "metadata": {},
   "outputs": [
    {
     "name": "stdout",
     "output_type": "stream",
     "text": [
      "['Sister Carrie' 'The Caxtons' 'The Zambesi Expedition'\n",
      " 'Unbeaten Tracks In Japan' 'Life Of Luther' 'The Rosary' 'On War'\n",
      " 'History Of American Literature' 'Science & Education' 'The Iliad']\n",
      "number of records =  9967\n"
     ]
    },
    {
     "data": {
      "text/html": [
       "<div>\n",
       "<table border=\"1\" class=\"dataframe\">\n",
       "  <thead>\n",
       "    <tr style=\"text-align: right;\">\n",
       "      <th></th>\n",
       "      <th>author</th>\n",
       "      <th>author_id</th>\n",
       "      <th>title</th>\n",
       "      <th>input_file</th>\n",
       "      <th>text_chunk</th>\n",
       "    </tr>\n",
       "  </thead>\n",
       "  <tbody>\n",
       "    <tr>\n",
       "      <th>1137</th>\n",
       "      <td>Theodore Dreiser</td>\n",
       "      <td>1</td>\n",
       "      <td>Sister Carrie</td>\n",
       "      <td>iso/etext95/scarr10.txt</td>\n",
       "      <td>only added to its grewsome quality. \"Nothing,\"...</td>\n",
       "    </tr>\n",
       "    <tr>\n",
       "      <th>4590</th>\n",
       "      <td>Bulwer-Lytton,</td>\n",
       "      <td>4</td>\n",
       "      <td>The Caxtons</td>\n",
       "      <td>iso/etext05/b033w10.txt</td>\n",
       "      <td>from the brick house, and lovingly arranged, a...</td>\n",
       "    </tr>\n",
       "    <tr>\n",
       "      <th>5056</th>\n",
       "      <td>David Livingstone</td>\n",
       "      <td>5</td>\n",
       "      <td>The Zambesi Expedition</td>\n",
       "      <td>iso/etext01/zambs10.txt</td>\n",
       "      <td>may have had reference to a fissure, known to ...</td>\n",
       "    </tr>\n",
       "    <tr>\n",
       "      <th>3943</th>\n",
       "      <td>Bulwer-Lytton,</td>\n",
       "      <td>4</td>\n",
       "      <td>The Caxtons</td>\n",
       "      <td>iso/etext05/b033w10.txt</td>\n",
       "      <td>bloodhound is certainly,-- well-mannered, and ...</td>\n",
       "    </tr>\n",
       "    <tr>\n",
       "      <th>3353</th>\n",
       "      <td>Bird</td>\n",
       "      <td>3</td>\n",
       "      <td>Unbeaten Tracks In Japan</td>\n",
       "      <td>iso/etext00/utrkj10.txt</td>\n",
       "      <td>was profound, and the faint blue of the autumn...</td>\n",
       "    </tr>\n",
       "    <tr>\n",
       "      <th>8389</th>\n",
       "      <td>Julius Koestlin</td>\n",
       "      <td>8</td>\n",
       "      <td>Life Of Luther</td>\n",
       "      <td>iso/etext05/8luth10.txt</td>\n",
       "      <td>bring real danger and destruction. At Wittenbe...</td>\n",
       "    </tr>\n",
       "    <tr>\n",
       "      <th>8663</th>\n",
       "      <td>Julius Koestlin</td>\n",
       "      <td>8</td>\n",
       "      <td>Life Of Luther</td>\n",
       "      <td>iso/etext05/8luth10.txt</td>\n",
       "      <td>their minds by the elementary exposition of hi...</td>\n",
       "    </tr>\n",
       "    <tr>\n",
       "      <th>2900</th>\n",
       "      <td>Bird</td>\n",
       "      <td>3</td>\n",
       "      <td>Unbeaten Tracks In Japan</td>\n",
       "      <td>iso/etext00/utrkj10.txt</td>\n",
       "      <td>had to go out at the other side, being pressed...</td>\n",
       "    </tr>\n",
       "    <tr>\n",
       "      <th>2774</th>\n",
       "      <td>Bird</td>\n",
       "      <td>3</td>\n",
       "      <td>Unbeaten Tracks In Japan</td>\n",
       "      <td>iso/etext00/utrkj10.txt</td>\n",
       "      <td>an interpreter. The public buildings, with the...</td>\n",
       "    </tr>\n",
       "    <tr>\n",
       "      <th>3472</th>\n",
       "      <td>Bulwer-Lytton,</td>\n",
       "      <td>4</td>\n",
       "      <td>The Caxtons</td>\n",
       "      <td>iso/etext05/b033w10.txt</td>\n",
       "      <td>magnet had turned unalterably to the loadstone...</td>\n",
       "    </tr>\n",
       "    <tr>\n",
       "      <th>3246</th>\n",
       "      <td>Bird</td>\n",
       "      <td>3</td>\n",
       "      <td>Unbeaten Tracks In Japan</td>\n",
       "      <td>iso/etext00/utrkj10.txt</td>\n",
       "      <td>a message along with us which will ensure me h...</td>\n",
       "    </tr>\n",
       "    <tr>\n",
       "      <th>5880</th>\n",
       "      <td>Florence L. Barclay</td>\n",
       "      <td>6</td>\n",
       "      <td>The Rosary</td>\n",
       "      <td>iso/etext03/rosry11.txt</td>\n",
       "      <td>with a feeling of thankful relief. Deryck was ...</td>\n",
       "    </tr>\n",
       "    <tr>\n",
       "      <th>509</th>\n",
       "      <td>Carl Von Clausewitz</td>\n",
       "      <td>0</td>\n",
       "      <td>On War</td>\n",
       "      <td>iso/etext99/1onwr10.txt</td>\n",
       "      <td>not understand anything about the make of a ca...</td>\n",
       "    </tr>\n",
       "    <tr>\n",
       "      <th>9774</th>\n",
       "      <td>Reuben Post Halleck</td>\n",
       "      <td>9</td>\n",
       "      <td>History Of American Literature</td>\n",
       "      <td>iso/etext04/mrclt10.txt</td>\n",
       "      <td>speeches. He was himself influenced by the pre...</td>\n",
       "    </tr>\n",
       "    <tr>\n",
       "      <th>8006</th>\n",
       "      <td>Julius Koestlin</td>\n",
       "      <td>8</td>\n",
       "      <td>Life Of Luther</td>\n",
       "      <td>iso/etext05/8luth10.txt</td>\n",
       "      <td>regard to art and science. Whilst now the just...</td>\n",
       "    </tr>\n",
       "    <tr>\n",
       "      <th>2373</th>\n",
       "      <td>Thomas H. Huxley</td>\n",
       "      <td>2</td>\n",
       "      <td>Science &amp; Education</td>\n",
       "      <td>iso/etext04/8sced10.txt</td>\n",
       "      <td>pulse, and of the course of the blood, put for...</td>\n",
       "    </tr>\n",
       "    <tr>\n",
       "      <th>5028</th>\n",
       "      <td>David Livingstone</td>\n",
       "      <td>5</td>\n",
       "      <td>The Zambesi Expedition</td>\n",
       "      <td>iso/etext01/zambs10.txt</td>\n",
       "      <td>of THIS DOMINION have got into the habit of im...</td>\n",
       "    </tr>\n",
       "    <tr>\n",
       "      <th>9607</th>\n",
       "      <td>Reuben Post Halleck</td>\n",
       "      <td>9</td>\n",
       "      <td>History Of American Literature</td>\n",
       "      <td>iso/etext04/mrclt10.txt</td>\n",
       "      <td>he had written _The Winter Piece_, _A Forest H...</td>\n",
       "    </tr>\n",
       "    <tr>\n",
       "      <th>572</th>\n",
       "      <td>Carl Von Clausewitz</td>\n",
       "      <td>0</td>\n",
       "      <td>On War</td>\n",
       "      <td>iso/etext99/1onwr10.txt</td>\n",
       "      <td>the general element in which everything moves ...</td>\n",
       "    </tr>\n",
       "    <tr>\n",
       "      <th>3676</th>\n",
       "      <td>Bulwer-Lytton,</td>\n",
       "      <td>4</td>\n",
       "      <td>The Caxtons</td>\n",
       "      <td>iso/etext05/b033w10.txt</td>\n",
       "      <td>tracked the ancestry of our Sidneys and Bayard...</td>\n",
       "    </tr>\n",
       "  </tbody>\n",
       "</table>\n",
       "</div>"
      ],
      "text/plain": [
       "                   author  author_id                           title  \\\n",
       "1137     Theodore Dreiser          1                   Sister Carrie   \n",
       "4590       Bulwer-Lytton,          4                     The Caxtons   \n",
       "5056    David Livingstone          5          The Zambesi Expedition   \n",
       "3943       Bulwer-Lytton,          4                     The Caxtons   \n",
       "3353                 Bird          3        Unbeaten Tracks In Japan   \n",
       "8389      Julius Koestlin          8                  Life Of Luther   \n",
       "8663      Julius Koestlin          8                  Life Of Luther   \n",
       "2900                 Bird          3        Unbeaten Tracks In Japan   \n",
       "2774                 Bird          3        Unbeaten Tracks In Japan   \n",
       "3472       Bulwer-Lytton,          4                     The Caxtons   \n",
       "3246                 Bird          3        Unbeaten Tracks In Japan   \n",
       "5880  Florence L. Barclay          6                      The Rosary   \n",
       "509   Carl Von Clausewitz          0                          On War   \n",
       "9774  Reuben Post Halleck          9  History Of American Literature   \n",
       "8006      Julius Koestlin          8                  Life Of Luther   \n",
       "2373     Thomas H. Huxley          2             Science & Education   \n",
       "5028    David Livingstone          5          The Zambesi Expedition   \n",
       "9607  Reuben Post Halleck          9  History Of American Literature   \n",
       "572   Carl Von Clausewitz          0                          On War   \n",
       "3676       Bulwer-Lytton,          4                     The Caxtons   \n",
       "\n",
       "                   input_file  \\\n",
       "1137  iso/etext95/scarr10.txt   \n",
       "4590  iso/etext05/b033w10.txt   \n",
       "5056  iso/etext01/zambs10.txt   \n",
       "3943  iso/etext05/b033w10.txt   \n",
       "3353  iso/etext00/utrkj10.txt   \n",
       "8389  iso/etext05/8luth10.txt   \n",
       "8663  iso/etext05/8luth10.txt   \n",
       "2900  iso/etext00/utrkj10.txt   \n",
       "2774  iso/etext00/utrkj10.txt   \n",
       "3472  iso/etext05/b033w10.txt   \n",
       "3246  iso/etext00/utrkj10.txt   \n",
       "5880  iso/etext03/rosry11.txt   \n",
       "509   iso/etext99/1onwr10.txt   \n",
       "9774  iso/etext04/mrclt10.txt   \n",
       "8006  iso/etext05/8luth10.txt   \n",
       "2373  iso/etext04/8sced10.txt   \n",
       "5028  iso/etext01/zambs10.txt   \n",
       "9607  iso/etext04/mrclt10.txt   \n",
       "572   iso/etext99/1onwr10.txt   \n",
       "3676  iso/etext05/b033w10.txt   \n",
       "\n",
       "                                             text_chunk  \n",
       "1137  only added to its grewsome quality. \"Nothing,\"...  \n",
       "4590  from the brick house, and lovingly arranged, a...  \n",
       "5056  may have had reference to a fissure, known to ...  \n",
       "3943  bloodhound is certainly,-- well-mannered, and ...  \n",
       "3353  was profound, and the faint blue of the autumn...  \n",
       "8389  bring real danger and destruction. At Wittenbe...  \n",
       "8663  their minds by the elementary exposition of hi...  \n",
       "2900  had to go out at the other side, being pressed...  \n",
       "2774  an interpreter. The public buildings, with the...  \n",
       "3472  magnet had turned unalterably to the loadstone...  \n",
       "3246  a message along with us which will ensure me h...  \n",
       "5880  with a feeling of thankful relief. Deryck was ...  \n",
       "509   not understand anything about the make of a ca...  \n",
       "9774  speeches. He was himself influenced by the pre...  \n",
       "8006  regard to art and science. Whilst now the just...  \n",
       "2373  pulse, and of the course of the blood, put for...  \n",
       "5028  of THIS DOMINION have got into the habit of im...  \n",
       "9607  he had written _The Winter Piece_, _A Forest H...  \n",
       "572   the general element in which everything moves ...  \n",
       "3676  tracked the ancestry of our Sidneys and Bayard...  "
      ]
     },
     "execution_count": 6,
     "metadata": {},
     "output_type": "execute_result"
    }
   ],
   "source": [
    "#select 10 books\n",
    "records = pd.DataFrame()\n",
    "old_ids = [11, 78, 81, 8, 10, 20, 30, 40, 50, 70]\n",
    "for new_id in range(len(old_ids)):\n",
    "    idx = chunks['author_id'] == old_ids[new_id]\n",
    "    df = chunks[idx].copy()\n",
    "    df['author_id'] = new_id\n",
    "    records = records.append(df, ignore_index=True)\n",
    "records = records.sample(frac=1.0)\n",
    "print records['title'].unique()\n",
    "print 'number of records = ', len(records)\n",
    "records.head(20)"
   ]
  },
  {
   "cell_type": "code",
   "execution_count": 7,
   "metadata": {},
   "outputs": [
    {
     "name": "stdout",
     "output_type": "stream",
     "text": [
      "records.shape  =  (9967, 5)\n",
      "train.shape    =  (3289, 5)\n",
      "test.shape     =  (3339, 5)\n",
      "validate.shape =  (3339, 5)\n"
     ]
    }
   ],
   "source": [
    "#train-test-validate split\n",
    "train_size = 0.33\n",
    "validate_size=0.5   #this is the fraction of the test sample that is assigned to the validation sample\n",
    "rn_seed = 12\n",
    "from sklearn.model_selection import train_test_split\n",
    "train, test = train_test_split(records, train_size=train_size, random_state=rn_seed)\n",
    "validate, test = train_test_split(test, train_size=validate_size, random_state=rn_seed)\n",
    "print 'records.shape  = ', records.shape\n",
    "print 'train.shape    = ', train.shape\n",
    "print 'test.shape     = ', test.shape\n",
    "print 'validate.shape = ', validate.shape"
   ]
  },
  {
   "cell_type": "code",
   "execution_count": 8,
   "metadata": {},
   "outputs": [
    {
     "name": "stdout",
     "output_type": "stream",
     "text": [
      "10 10\n"
     ]
    }
   ],
   "source": [
    "#confirm that all 90 books have records in the training sample\n",
    "print len(train['input_file'].unique()), len(records['input_file'].unique())"
   ]
  },
  {
   "cell_type": "code",
   "execution_count": 9,
   "metadata": {},
   "outputs": [
    {
     "name": "stdout",
     "output_type": "stream",
     "text": [
      "number of distinct words =  81419\n",
      "fawn 2\n",
      "lenitives 1\n",
      "considered. 5\n",
      "considered, 3\n",
      "azaleas. 1\n",
      "Poetry 3\n"
     ]
    }
   ],
   "source": [
    "#count word frequencies...there are 500K distinct words used in these books, really???\n",
    "#i'm not sure about the...maybe this is due to lack of treatment of punctuation characters\n",
    "from collections import defaultdict\n",
    "word_frequency = defaultdict(int)\n",
    "corpus = records['text_chunk'].tolist()\n",
    "for doc in corpus:\n",
    "    words = doc.split(' ')\n",
    "    for word in words:\n",
    "        word_frequency[word] += 1\n",
    "print 'number of distinct words = ', len(word_frequency.keys()) \n",
    "for word in word_frequency.keys()[1:7]:\n",
    "    print word, word_frequency[word]"
   ]
  },
  {
   "cell_type": "code",
   "execution_count": 10,
   "metadata": {},
   "outputs": [
    {
     "name": "stderr",
     "output_type": "stream",
     "text": [
      "Using TensorFlow backend.\n"
     ]
    }
   ],
   "source": [
    "#generate tokenizer\n",
    "vocabulary_size = 80000\n",
    "N_inputs = 100\n",
    "from keras.preprocessing.text import Tokenizer\n",
    "from keras.preprocessing.sequence import pad_sequences\n",
    "tokenizer = Tokenizer(num_words=vocabulary_size)"
   ]
  },
  {
   "cell_type": "code",
   "execution_count": 11,
   "metadata": {
    "collapsed": true
   },
   "outputs": [],
   "source": [
    "#this helper function extracts and tokenizes x, and extracts y and onehot-encodes it\n",
    "from keras.utils import np_utils\n",
    "def tokenize(df, tokenizer):\n",
    "    corpus = df['text_chunk'].tolist()\n",
    "    tokenizer.fit_on_texts(corpus)\n",
    "    corpus_tokenized = tokenizer.texts_to_sequences(corpus)\n",
    "    corpus_padded = pad_sequences(corpus_tokenized, maxlen=N_inputs)\n",
    "    x = np.array(corpus_padded)\n",
    "    y_ids = df['author_id'].values\n",
    "    y = np_utils.to_categorical(y_ids)\n",
    "    return x, y"
   ]
  },
  {
   "cell_type": "code",
   "execution_count": 12,
   "metadata": {},
   "outputs": [
    {
     "name": "stdout",
     "output_type": "stream",
     "text": [
      "x_train.shape =  (3289, 100)\n",
      "y_train.shape =  (3289, 10)\n",
      "N_inputs =  100\n",
      "N_outputs =  10\n",
      "vocabulary_size =  80000 0 21715\n"
     ]
    }
   ],
   "source": [
    "#get training x,y with x-values being tokenized and y values onehot-encoded\n",
    "x_train, y_train = tokenize(train, tokenizer)\n",
    "N_inputs = x_train.shape[1]\n",
    "N_outputs = y_train.shape[1]\n",
    "print 'x_train.shape = ', x_train.shape\n",
    "print 'y_train.shape = ', y_train.shape\n",
    "print 'N_inputs = ', N_inputs\n",
    "print 'N_outputs = ', N_outputs\n",
    "print 'vocabulary_size = ', vocabulary_size, x_train.min(), x_train.max()"
   ]
  },
  {
   "cell_type": "code",
   "execution_count": 13,
   "metadata": {},
   "outputs": [
    {
     "name": "stdout",
     "output_type": "stream",
     "text": [
      "author                                          Julius Koestlin\n",
      "author_id                                                     8\n",
      "title                                            Life Of Luther\n",
      "input_file                              iso/etext05/8luth10.txt\n",
      "text_chunk    easily intelligible from the slow means of com...\n",
      "Name: 8280, dtype: object\n",
      "easily intelligible from the slow means of communication then existing. Soon the news came, however, of bands of rioters in Thuringia, busy with the work of pillage, incendiarism, and massacre, and of a rising of the peasantry in the immediate neighbourhood. Towards the end of April they achieved a crowning triumph by their victorious entry into Erfurt, where the preacher, Eberlin of G�nzburg, with true loyalty and courage, but all in vain, had striven, with words of exhortation and warning, to pacify the armed multitude encamped outside the town, and their sympathisers and associates inside. On April 26 M�nzer advanced \n",
      "[  692  8836    26     1  1364   228     2  5225    57  2985   230     1\n",
      "  1029   135   198     2   966     2 13367     6  8521  1552    10     1\n",
      "   138     2 20796 13380     3 21443     3     2     5   783     2     1\n",
      "  7565     6     1  1894  4773   429     1   255     2  2103    34  4669\n",
      "     5  7822  1569    23    36  5031  8553    60  2989    90     1  2788\n",
      " 10332     2 20593    10   331 21113     3   693    22    27     6   404\n",
      "    18  7610    10   237     2  8990     3  2937     4 10031     1  1331\n",
      "  4654 11631   782     1   424     3    36 20636     3  3664  2751    17\n",
      "  2103  6828  4176  1246]\n",
      "[ 0.  0.  0.  0.  0.  0.  0.  0.  1.  0.]\n"
     ]
    }
   ],
   "source": [
    "#display a training record\n",
    "idx = 121\n",
    "print train.iloc[idx]\n",
    "text_chunk = train.iloc[idx]['text_chunk']\n",
    "print text_chunk\n",
    "print x_train[idx]\n",
    "print y_train[idx]"
   ]
  },
  {
   "cell_type": "code",
   "execution_count": 14,
   "metadata": {},
   "outputs": [
    {
     "name": "stdout",
     "output_type": "stream",
     "text": [
      "['easily', 'intelligible', 'from', 'the']\n",
      "[692, 8836, 26, 1]\n"
     ]
    }
   ],
   "source": [
    "#show that the vectorized text preserves word order while dropping punctuation\n",
    "tokens = []\n",
    "words_marked = text_chunk.split(' ')[0:4]\n",
    "words = [word.lower().strip(',').strip('.').strip('\"') for word in words_marked]\n",
    "tokens = [tokenizer.word_index[word] for word in words]\n",
    "print words\n",
    "print tokens"
   ]
  },
  {
   "cell_type": "code",
   "execution_count": 15,
   "metadata": {},
   "outputs": [
    {
     "name": "stdout",
     "output_type": "stream",
     "text": [
      "x_valid.shape =  (3339, 100)\n",
      "y_valid.shape =  (3339, 10)\n"
     ]
    }
   ],
   "source": [
    "#get validation x,y with x-values being tokenized and y values onehot-encoded\n",
    "x_valid, y_valid = tokenize(validate, tokenizer)\n",
    "print 'x_valid.shape = ', x_valid.shape\n",
    "print 'y_valid.shape = ', y_valid.shape"
   ]
  },
  {
   "cell_type": "code",
   "execution_count": 16,
   "metadata": {},
   "outputs": [
    {
     "name": "stdout",
     "output_type": "stream",
     "text": [
      "author                                         Thomas H. Huxley\n",
      "author_id                                                     2\n",
      "title                                       Science & Education\n",
      "input_file                              iso/etext04/8sced10.txt\n",
      "text_chunk    a still greater respect for it as a preparatio...\n",
      "Name: 2427, dtype: object\n",
      "a still greater respect for it as a preparation for the discovery of a law of progress. But if the classics were taught as they might be taught--if boys and girls were instructed in Greek and Latin, not merely as languages, but as illustrations of philological science; if a vivid picture of life on the shores of the Mediterranean two thousand years ago were imprinted on the minds of scholars; if ancient history were taught, not as a weary series of feuds and fights, but traced to its causes in such men placed under such conditions; if, lastly, the study \n",
      "[   14    69   156    25  7895     1   230   418  2237     4    20     7\n",
      " 18752   308   906     1   520 17051    20    48   947    25    11    11\n",
      "    14    61  3937     6   376     9     1   418   116 10842   108  1655\n",
      "  2769    36     5   917  7685   680    68   734     3    54    11   551\n",
      "  7436     5  7756    17     1   525     3    68  1878    22    11    81\n",
      "    54    71   168    51    23    68   520   458    16   946   116   817\n",
      "    45  6696     3 10871  5162    38    92   158    23    20     1  1130\n",
      "  5393  5849  4285    68   364 18754    54     1  1448     2     1   374\n",
      "    86    30    92   158]\n",
      "[ 1.  0.  0.  0.  0.  0.  0.  0.  0.  0.]\n"
     ]
    }
   ],
   "source": [
    "#display a validation record\n",
    "idx = 123\n",
    "print validate.iloc[idx]\n",
    "print validate.iloc[idx]['text_chunk']\n",
    "print x_valid[321]\n",
    "print y_valid[321]"
   ]
  },
  {
   "cell_type": "code",
   "execution_count": 17,
   "metadata": {
    "collapsed": true
   },
   "outputs": [],
   "source": [
    "##architect a simple LSTM model...this one is adapted from \n",
    "##https://machinelearningmastery.com/multi-class-classification-tutorial-keras-deep-learning-library/\n",
    "#from keras.layers import Embedding, LSTM, Dense, Dropout#, Conv1D, MaxPooling1D, Activation\n",
    "#from keras.models import Sequential\n",
    "#from keras.models import Sequential\n",
    "#from keras.layers import Dense\n",
    "#def build_simple_lstm_model(N_inputs, N_hidden, N_outputs,):\n",
    "#    model = Sequential()\n",
    "#    model.add(Dense(N_hidden, input_dim=N_inputs, activation='relu'))\n",
    "#    model.add(Dense(N_outputs, activation='softmax'))\n",
    "#    model.compile(loss='categorical_crossentropy', optimizer='adam', metrics=['accuracy'])\n",
    "#    return model"
   ]
  },
  {
   "cell_type": "code",
   "execution_count": 18,
   "metadata": {
    "collapsed": true
   },
   "outputs": [],
   "source": [
    "##this is a half-assed version of \n",
    "##https://towardsdatascience.com/applied-deep-learning-part-1-artificial-neural-networks-d7834f67a4f6\n",
    "#def build_lstm_model(N_inputs, N_outputs):\n",
    "#    model = Sequential()\n",
    "#    model.add(Dense(N_inputs, input_shape=(1,), activation='tanh'))\n",
    "#    model.add(Dense(N_inputs/2, activation='tanh'))\n",
    "#    dense_inputs = int(np.sqrt(N_inputs + N_outputs))\n",
    "#    model.add(Dense(dense_inputs, activation='tanh'))\n",
    "#    model.add(Dense(N_outputs, activation='softmax'))\n",
    "#    model.compile(loss='categorical_crossentropy', optimizer='adam', metrics=['accuracy'])\n",
    "#    return model\n",
    "#lstm_model = build_lstm_model(N_inputs, N_outputs)"
   ]
  },
  {
   "cell_type": "code",
   "execution_count": 19,
   "metadata": {
    "collapsed": true
   },
   "outputs": [],
   "source": [
    "##build an even better LSTM model...this one was adapted from\n",
    "##http://www.developintelligence.com/blog/2017/06/practical-neural-networks-keras-classifying-yelp-reviews\n",
    "#from keras.layers import Embedding, LSTM, Dense, Dropout, Conv1D, MaxPooling1D\n",
    "#from keras.models import Sequential\n",
    "#def build_lstm_model(N_inputs, N_outputs, vocabulary_size, embedding_vector_length, conv_kernel_size, \n",
    "#        dropout_fraction):\n",
    "#    model = Sequential()\n",
    "#    model.add(Embedding(vocabulary_size, embedding_vector_length, input_length=N_inputs))\n",
    "#    conv_size = embedding_vector_length/2\n",
    "#    model.add(Conv1D(conv_size, conv_kernel_size, activation='linear'))\n",
    "#    model.add(Dropout(dropout_fraction))\n",
    "#    pool_size = int(conv_kernel_size)\n",
    "#    model.add(MaxPooling1D(pool_size=pool_size))\n",
    "#    lstm_size = int(embedding_vector_length/pool_size)\n",
    "#    lstm_size = int(embedding_vector_length/2)\n",
    "#    model.add(LSTM(lstm_size, activation='linear'))\n",
    "#    model.add(Dropout(dropout_fraction))\n",
    "#    model.add(Dense(N_outputs, activation='sigmoid'))\n",
    "#    model.compile(loss='categorical_crossentropy', optimizer='adam', metrics=['accuracy'])\n",
    "#    return model"
   ]
  },
  {
   "cell_type": "code",
   "execution_count": 66,
   "metadata": {
    "collapsed": true
   },
   "outputs": [],
   "source": [
    "##build a better LSTM model...this one is adapted from \n",
    "##http://www.developintelligence.com/blog/2017/06/practical-neural-networks-keras-classifying-yelp-reviews\n",
    "from keras.layers import Embedding, LSTM, Dense, Dropout#, Conv1D, MaxPooling1D, Activation\n",
    "from keras.models import Sequential\n",
    "def build_lstm_model(N_inputs, N_outputs, vocabulary_size, embedding_vector_length, dropout_fraction):\n",
    "    model = Sequential()\n",
    "    model.add(Embedding(vocabulary_size, embedding_vector_length, input_length=N_inputs))\n",
    "    model.add(LSTM(embedding_vector_length, dropout=dropout_fraction, recurrent_dropout=dropout_fraction))\n",
    "    model.add(Dense(N_outputs, activation='sigmoid'))\n",
    "    model.compile(loss='categorical_crossentropy', optimizer='adam', metrics=['accuracy'])\n",
    "    return model"
   ]
  },
  {
   "cell_type": "code",
   "execution_count": 67,
   "metadata": {
    "collapsed": true
   },
   "outputs": [],
   "source": [
    "#Embedding?"
   ]
  },
  {
   "cell_type": "code",
   "execution_count": 68,
   "metadata": {},
   "outputs": [
    {
     "name": "stdout",
     "output_type": "stream",
     "text": [
      "N_training_epochs =  100\n",
      "batch_size =  5000\n",
      "number of samples =  6628\n",
      "vocabulary_size =  80000\n",
      "embedding_vector_length =  5\n",
      "dropout_fraction =  0.3\n",
      "N_inputs =  100 100\n",
      "N_outputs =  10 10\n",
      "rn_seed =  16\n"
     ]
    }
   ],
   "source": [
    "#assemble the lstm model\n",
    "N_training_epochs = 100\n",
    "batch_size = 5000\n",
    "embedding_vector_length = 5\n",
    "#conv_kernel_size = 2\n",
    "dropout_fraction = 0.3\n",
    "rn_seed = 16\n",
    "print 'N_training_epochs = ', N_training_epochs\n",
    "print 'batch_size = ', batch_size\n",
    "print 'number of samples = ', x_train.shape[0] + x_valid.shape[0]\n",
    "print 'vocabulary_size = ', vocabulary_size\n",
    "print 'embedding_vector_length = ', embedding_vector_length\n",
    "#print 'conv_kernel_size = ', conv_kernel_size\n",
    "print 'dropout_fraction = ', dropout_fraction\n",
    "print 'N_inputs = ', N_inputs, x_train.shape[1]\n",
    "print 'N_outputs = ', N_outputs, y_train.shape[1]\n",
    "print 'rn_seed = ', rn_seed\n",
    "import random\n",
    "random.seed(rn_seed)\n",
    "#lstm_model = build_lstm_model(N_inputs, N_outputs, vocabulary_size, embedding_vector_length, conv_kernel_size, dropout_fraction)\n",
    "lstm_model = build_lstm_model(N_inputs, N_outputs, vocabulary_size, embedding_vector_length, dropout_fraction)\n"
   ]
  },
  {
   "cell_type": "code",
   "execution_count": 69,
   "metadata": {
    "scrolled": true
   },
   "outputs": [],
   "source": [
    "#fit model to the training data\n",
    "fit_history = lstm_model.fit(x_train, y_train, epochs=N_training_epochs, batch_size=batch_size, verbose=0, \\\n",
    "    validation_data=(x_valid, y_valid))"
   ]
  },
  {
   "cell_type": "code",
   "execution_count": 70,
   "metadata": {},
   "outputs": [
    {
     "data": {
      "image/png": "[encoded data removed]",
      "text/plain": [
       "<matplotlib.figure.Figure at 0x7f8289007e10>"
      ]
     },
     "metadata": {},
     "output_type": "display_data"
    }
   ],
   "source": [
    "#plot accuracy vs training epoch\n",
    "fig, ax = plt.subplots(1,1, figsize=(15, 6))\n",
    "xp = fit_history.epoch\n",
    "yp = fit_history.history['acc']\n",
    "ax.plot(xp, yp, label='training sample')\n",
    "yp = fit_history.history['val_acc']\n",
    "ax.plot(xp, yp, label='validation sample')\n",
    "ax.set_title('classifier accuracy versus epoch')\n",
    "ax.set_ylabel('accuracy')\n",
    "ax.set_xlabel('training epoch')\n",
    "ax.legend()\n",
    "plt.savefig('figs/accuracy.png')"
   ]
  },
  {
   "cell_type": "code",
   "execution_count": 71,
   "metadata": {},
   "outputs": [
    {
     "data": {
      "image/png": "[encoded data removed]",
      "text/plain": [
       "<matplotlib.figure.Figure at 0x7f8282978dd0>"
      ]
     },
     "metadata": {},
     "output_type": "display_data"
    }
   ],
   "source": [
    "#plot loss function vs training epoch\n",
    "fig, ax = plt.subplots(1,1, figsize=(15, 6))\n",
    "xp = fit_history.epoch\n",
    "yp = fit_history.history['loss']\n",
    "ax.plot(xp, yp, label='training sample')\n",
    "yp = fit_history.history['val_loss']\n",
    "ax.plot(xp, yp, label='validation sample')\n",
    "ax.set_title('loss function versus epoch')\n",
    "ax.set_ylabel('loss function')\n",
    "ax.set_xlabel('training epoch')\n",
    "ax.legend()\n",
    "plt.savefig('figs/loss.png')"
   ]
  },
  {
   "cell_type": "code",
   "execution_count": null,
   "metadata": {
    "collapsed": true
   },
   "outputs": [],
   "source": [
    "#model.predict(x_test)"
   ]
  },
  {
   "cell_type": "code",
   "execution_count": null,
   "metadata": {
    "collapsed": true
   },
   "outputs": [],
   "source": []
  }
 ],
 "metadata": {
  "hide_input": false,
  "kernelspec": {
   "display_name": "Python 2",
   "language": "python",
   "name": "python2"
  },
  "language_info": {
   "codemirror_mode": {
    "name": "ipython",
    "version": 2
   },
   "file_extension": ".py",
   "mimetype": "text/x-python",
   "name": "python",
   "nbconvert_exporter": "python",
   "pygments_lexer": "ipython2",
   "version": "2.7.6"
  }
 },
 "nbformat": 4,
 "nbformat_minor": 2
}
