{
 "cells": [
  {
   "cell_type": "code",
   "execution_count": 1,
   "metadata": {
    "collapsed": true
   },
   "outputs": [],
   "source": [
    "#dl.ipynb\n",
    "#\n",
    "#by Joe Hahn\n",
    "#jmh.datasciences@gmail.com\n",
    "#24 January 2018"
   ]
  },
  {
   "cell_type": "code",
   "execution_count": 2,
   "metadata": {},
   "outputs": [
    {
     "name": "stdout",
     "output_type": "stream",
     "text": [
      "height has been deprecated.\n",
      "\n"
     ]
    }
   ],
   "source": [
    "#import matplotlib pandas etc\n",
    "%matplotlib inline\n",
    "import seaborn as sns\n",
    "import matplotlib.pyplot as plt\n",
    "import datetime\n",
    "import numpy as np\n",
    "import pandas as pd\n",
    "from matplotlib import rcParams\n",
    "sns.set(font_scale=1.5, font='DejaVu Sans')\n",
    "pd.set_option('display.max_columns', None)\n",
    "pd.set_option('display.height', None)\n",
    "pd.set_option('display.width', None)"
   ]
  },
  {
   "cell_type": "code",
   "execution_count": 3,
   "metadata": {},
   "outputs": [
    {
     "name": "stdout",
     "output_type": "stream",
     "text": [
      "number of records =  249870\n"
     ]
    },
    {
     "data": {
      "text/html": [
       "<div>\n",
       "<table border=\"1\" class=\"dataframe\">\n",
       "  <thead>\n",
       "    <tr style=\"text-align: right;\">\n",
       "      <th></th>\n",
       "      <th>author</th>\n",
       "      <th>title</th>\n",
       "      <th>input_file</th>\n",
       "      <th>text_chunk</th>\n",
       "    </tr>\n",
       "  </thead>\n",
       "  <tbody>\n",
       "    <tr>\n",
       "      <th>5732</th>\n",
       "      <td>Macaulay</td>\n",
       "      <td>Critical &amp; Historical Essays</td>\n",
       "      <td>iso/etext00/1cahe10.txt</td>\n",
       "      <td>tribunal. The London juries, he said, entertai...</td>\n",
       "    </tr>\n",
       "    <tr>\n",
       "      <th>5733</th>\n",
       "      <td>Macaulay</td>\n",
       "      <td>Critical &amp; Historical Essays</td>\n",
       "      <td>iso/etext00/1cahe10.txt</td>\n",
       "      <td>devils as there were tiles on the houses, or l...</td>\n",
       "    </tr>\n",
       "    <tr>\n",
       "      <th>5734</th>\n",
       "      <td>Macaulay</td>\n",
       "      <td>Critical &amp; Historical Essays</td>\n",
       "      <td>iso/etext00/1cahe10.txt</td>\n",
       "      <td>indeed be, if we were to suppose that the nati...</td>\n",
       "    </tr>\n",
       "    <tr>\n",
       "      <th>5735</th>\n",
       "      <td>Macaulay</td>\n",
       "      <td>Critical &amp; Historical Essays</td>\n",
       "      <td>iso/etext00/1cahe10.txt</td>\n",
       "      <td>reign of Elizabeth, the people were in a state...</td>\n",
       "    </tr>\n",
       "    <tr>\n",
       "      <th>5736</th>\n",
       "      <td>Macaulay</td>\n",
       "      <td>Critical &amp; Historical Essays</td>\n",
       "      <td>iso/etext00/1cahe10.txt</td>\n",
       "      <td>Queen of Scotland, the hostility of Philip, ex...</td>\n",
       "    </tr>\n",
       "  </tbody>\n",
       "</table>\n",
       "</div>"
      ],
      "text/plain": [
       "        author                         title               input_file  \\\n",
       "5732  Macaulay  Critical & Historical Essays  iso/etext00/1cahe10.txt   \n",
       "5733  Macaulay  Critical & Historical Essays  iso/etext00/1cahe10.txt   \n",
       "5734  Macaulay  Critical & Historical Essays  iso/etext00/1cahe10.txt   \n",
       "5735  Macaulay  Critical & Historical Essays  iso/etext00/1cahe10.txt   \n",
       "5736  Macaulay  Critical & Historical Essays  iso/etext00/1cahe10.txt   \n",
       "\n",
       "                                             text_chunk  \n",
       "5732  tribunal. The London juries, he said, entertai...  \n",
       "5733  devils as there were tiles on the houses, or l...  \n",
       "5734  indeed be, if we were to suppose that the nati...  \n",
       "5735  reign of Elizabeth, the people were in a state...  \n",
       "5736  Queen of Scotland, the hostility of Philip, ex...  "
      ]
     },
     "execution_count": 3,
     "metadata": {},
     "output_type": "execute_result"
    }
   ],
   "source": [
    "#read books dataframe\n",
    "import pickle\n",
    "with open('chunks.pkl', 'rb') as fp:\n",
    "    chunks = pickle.load(fp)\n",
    "print 'number of records = ', len(chunks)\n",
    "chunks.head()"
   ]
  },
  {
   "cell_type": "code",
   "execution_count": 4,
   "metadata": {},
   "outputs": [],
   "source": [
    "#apply some manual fixes to the some improperly parsed authors and titles\n",
    "idx = chunks['author'].str.contains('Proudhon')\n",
    "chunks.loc[idx, 'author'] = 'Proudhon'\n",
    "idx = chunks['author'].str.contains('Homer')\n",
    "chunks.loc[idx, 'author'] = 'Homer'\n",
    "idx = chunks['author'].str.contains('Wake, Entire')\n",
    "chunks.loc[idx, 'author'] = 'Archbishop Wake'\n",
    "chunks.loc[idx, 'title'] = 'Forbidden Gospels and Epistles, Complete'\n",
    "idx = chunks['title'].str.contains('War And Peace')\n",
    "chunks.loc[idx, 'author'] = 'Leo Tolstoy'\n",
    "idx = chunks['title'].str.contains('Nicholas Nickle')\n",
    "chunks.loc[idx, 'title'] = 'Nicholas Nickleby'\n",
    "chunks.loc[idx, 'author'] = 'Dickens'\n",
    "idx = chunks['author'].str.contains('Dick,')\n",
    "chunks.loc[idx, 'title'] = 'Moby Dick'\n",
    "chunks.loc[idx, 'author'] = 'Herman Melville'\n",
    "idx = (chunks['author'] == 'Sshe')\n",
    "chunks.loc[idx, 'author'] = 'Percy Bysshe Shelley'\n",
    "chunks.loc[idx, 'title'] = 'The Complete Poetical Works of Percy Bysshe'\n",
    "idx = chunks['author'].str.contains('Maupassant')\n",
    "chunks.loc[idx, 'author'] = 'Maupassant'\n",
    "idx = chunks['author'].str.contains('Dumas')\n",
    "chunks.loc[idx, 'author'] = 'Dumas'\n",
    "idx = chunks['author'].str.contains('Constant')\n",
    "chunks.loc[idx, 'author'] = 'Constant'\n",
    "idx = chunks['title'].str.contains('Supplemental Nights')\n",
    "chunks.loc[idx, 'author'] = 'Sir Richard Francis Burton'\n",
    "idx = chunks['title'].str.contains(\"Plutarch'S Lives\")\n",
    "chunks.loc[idx, 'title'] = \"Plutarch's Lives\"\n",
    "idx = chunks['author'].str.contains(\"Xenophon\")\n",
    "chunks.loc[idx, 'author'] = \"Xenophon\""
   ]
  },
  {
   "cell_type": "code",
   "execution_count": 5,
   "metadata": {
    "scrolled": false
   },
   "outputs": [
    {
     "data": {
      "text/html": [
       "<div>\n",
       "<table border=\"1\" class=\"dataframe\">\n",
       "  <thead>\n",
       "    <tr style=\"text-align: right;\">\n",
       "      <th></th>\n",
       "      <th>input_file</th>\n",
       "      <th>chunk_count</th>\n",
       "      <th>cumulative_sum</th>\n",
       "    </tr>\n",
       "  </thead>\n",
       "  <tbody>\n",
       "    <tr>\n",
       "      <th>0</th>\n",
       "      <td>iso/etext98/2ws2710.txt</td>\n",
       "      <td>17</td>\n",
       "      <td>0.000068</td>\n",
       "    </tr>\n",
       "    <tr>\n",
       "      <th>1</th>\n",
       "      <td>iso/etext98/2ws4510.txt</td>\n",
       "      <td>25</td>\n",
       "      <td>0.000168</td>\n",
       "    </tr>\n",
       "    <tr>\n",
       "      <th>2</th>\n",
       "      <td>iso/etext98/2ws4410.txt</td>\n",
       "      <td>32</td>\n",
       "      <td>0.000296</td>\n",
       "    </tr>\n",
       "    <tr>\n",
       "      <th>3</th>\n",
       "      <td>iso/etext03/fgths10.txt</td>\n",
       "      <td>34</td>\n",
       "      <td>0.000432</td>\n",
       "    </tr>\n",
       "    <tr>\n",
       "      <th>4</th>\n",
       "      <td>iso/etext97/mdprp10.txt</td>\n",
       "      <td>37</td>\n",
       "      <td>0.000580</td>\n",
       "    </tr>\n",
       "  </tbody>\n",
       "</table>\n",
       "</div>"
      ],
      "text/plain": [
       "                input_file  chunk_count  cumulative_sum\n",
       "0  iso/etext98/2ws2710.txt           17        0.000068\n",
       "1  iso/etext98/2ws4510.txt           25        0.000168\n",
       "2  iso/etext98/2ws4410.txt           32        0.000296\n",
       "3  iso/etext03/fgths10.txt           34        0.000432\n",
       "4  iso/etext97/mdprp10.txt           37        0.000580"
      ]
     },
     "execution_count": 5,
     "metadata": {},
     "output_type": "execute_result"
    }
   ],
   "source": [
    "#count number of chunks each book has, and cumulative sum\n",
    "count = pd.DataFrame(chunks.groupby('input_file')['title'].count().sort_values())\n",
    "count.columns = ['chunk_count']\n",
    "count['cumulative_sum'] = count['chunk_count'].cumsum()\n",
    "count['cumulative_sum'] /= count['cumulative_sum'].max()\n",
    "count = count.reset_index(level=0)\n",
    "count.head()"
   ]
  },
  {
   "cell_type": "code",
   "execution_count": 6,
   "metadata": {},
   "outputs": [
    {
     "data": {
      "image/png": "[encoded data removed]",
      "text/plain": [
       "<matplotlib.figure.Figure at 0x7f66cd7c2750>"
      ]
     },
     "metadata": {},
     "output_type": "display_data"
    }
   ],
   "source": [
    "#plot cumulative sum of chunk counts\n",
    "fig, ax = plt.subplots(figsize=(12, 6))\n",
    "xp = count['chunk_count']\n",
    "yp = count['cumulative_sum']\n",
    "p = ax.plot(xp, yp, drawstyle='steps-mid')\n",
    "p = ax.set_xlabel('number of chunks')\n",
    "p = ax.set_ylabel('fraction of books')\n",
    "p = ax.set_title('fraction of books having indicated number of chunks')\n",
    "plt.savefig('figs/chunks.png')"
   ]
  },
  {
   "cell_type": "code",
   "execution_count": 7,
   "metadata": {},
   "outputs": [
    {
     "name": "stdout",
     "output_type": "stream",
     "text": [
      "number of records =  176706\n"
     ]
    },
    {
     "data": {
      "text/html": [
       "<div>\n",
       "<table border=\"1\" class=\"dataframe\">\n",
       "  <thead>\n",
       "    <tr style=\"text-align: right;\">\n",
       "      <th></th>\n",
       "      <th>author</th>\n",
       "      <th>title</th>\n",
       "      <th>input_file</th>\n",
       "      <th>text_chunk</th>\n",
       "      <th>chunk_count</th>\n",
       "      <th>cumulative_sum</th>\n",
       "    </tr>\n",
       "  </thead>\n",
       "  <tbody>\n",
       "    <tr>\n",
       "      <th>0</th>\n",
       "      <td>Macaulay</td>\n",
       "      <td>Critical &amp; Historical Essays</td>\n",
       "      <td>iso/etext00/1cahe10.txt</td>\n",
       "      <td>tribunal. The London juries, he said, entertai...</td>\n",
       "      <td>2075</td>\n",
       "      <td>0.762961</td>\n",
       "    </tr>\n",
       "    <tr>\n",
       "      <th>1</th>\n",
       "      <td>Macaulay</td>\n",
       "      <td>Critical &amp; Historical Essays</td>\n",
       "      <td>iso/etext00/1cahe10.txt</td>\n",
       "      <td>devils as there were tiles on the houses, or l...</td>\n",
       "      <td>2075</td>\n",
       "      <td>0.762961</td>\n",
       "    </tr>\n",
       "    <tr>\n",
       "      <th>2</th>\n",
       "      <td>Macaulay</td>\n",
       "      <td>Critical &amp; Historical Essays</td>\n",
       "      <td>iso/etext00/1cahe10.txt</td>\n",
       "      <td>indeed be, if we were to suppose that the nati...</td>\n",
       "      <td>2075</td>\n",
       "      <td>0.762961</td>\n",
       "    </tr>\n",
       "    <tr>\n",
       "      <th>3</th>\n",
       "      <td>Macaulay</td>\n",
       "      <td>Critical &amp; Historical Essays</td>\n",
       "      <td>iso/etext00/1cahe10.txt</td>\n",
       "      <td>reign of Elizabeth, the people were in a state...</td>\n",
       "      <td>2075</td>\n",
       "      <td>0.762961</td>\n",
       "    </tr>\n",
       "    <tr>\n",
       "      <th>4</th>\n",
       "      <td>Macaulay</td>\n",
       "      <td>Critical &amp; Historical Essays</td>\n",
       "      <td>iso/etext00/1cahe10.txt</td>\n",
       "      <td>Queen of Scotland, the hostility of Philip, ex...</td>\n",
       "      <td>2075</td>\n",
       "      <td>0.762961</td>\n",
       "    </tr>\n",
       "  </tbody>\n",
       "</table>\n",
       "</div>"
      ],
      "text/plain": [
       "     author                         title               input_file  \\\n",
       "0  Macaulay  Critical & Historical Essays  iso/etext00/1cahe10.txt   \n",
       "1  Macaulay  Critical & Historical Essays  iso/etext00/1cahe10.txt   \n",
       "2  Macaulay  Critical & Historical Essays  iso/etext00/1cahe10.txt   \n",
       "3  Macaulay  Critical & Historical Essays  iso/etext00/1cahe10.txt   \n",
       "4  Macaulay  Critical & Historical Essays  iso/etext00/1cahe10.txt   \n",
       "\n",
       "                                          text_chunk  chunk_count  \\\n",
       "0  tribunal. The London juries, he said, entertai...         2075   \n",
       "1  devils as there were tiles on the houses, or l...         2075   \n",
       "2  indeed be, if we were to suppose that the nati...         2075   \n",
       "3  reign of Elizabeth, the people were in a state...         2075   \n",
       "4  Queen of Scotland, the hostility of Philip, ex...         2075   \n",
       "\n",
       "   cumulative_sum  \n",
       "0        0.762961  \n",
       "1        0.762961  \n",
       "2        0.762961  \n",
       "3        0.762961  \n",
       "4        0.762961  "
      ]
     },
     "execution_count": 7,
     "metadata": {},
     "output_type": "execute_result"
    }
   ],
   "source": [
    "#preserve records associated with books having 750+ chunks\n",
    "chunks_counted = chunks.merge(count, on='input_file', how='inner')\n",
    "idx = chunks_counted['chunk_count'] > 750\n",
    "chunks_counted = chunks_counted[idx]\n",
    "print 'number of records = ', len(chunks_counted)\n",
    "chunks_counted.head()"
   ]
  },
  {
   "cell_type": "code",
   "execution_count": 8,
   "metadata": {},
   "outputs": [
    {
     "name": "stdout",
     "output_type": "stream",
     "text": [
      "number of records =  165450\n"
     ]
    },
    {
     "data": {
      "text/html": [
       "<div>\n",
       "<table border=\"1\" class=\"dataframe\">\n",
       "  <thead>\n",
       "    <tr style=\"text-align: right;\">\n",
       "      <th></th>\n",
       "      <th>author</th>\n",
       "      <th>title</th>\n",
       "      <th>input_file</th>\n",
       "      <th>text_chunk</th>\n",
       "      <th>chunk_count</th>\n",
       "      <th>cumulative_sum</th>\n",
       "    </tr>\n",
       "  </thead>\n",
       "  <tbody>\n",
       "    <tr>\n",
       "      <th>0</th>\n",
       "      <td>Macaulay</td>\n",
       "      <td>Critical &amp; Historical Essays</td>\n",
       "      <td>iso/etext00/1cahe10.txt</td>\n",
       "      <td>tribunal. The London juries, he said, entertai...</td>\n",
       "      <td>2075</td>\n",
       "      <td>0.762961</td>\n",
       "    </tr>\n",
       "    <tr>\n",
       "      <th>1</th>\n",
       "      <td>Macaulay</td>\n",
       "      <td>Critical &amp; Historical Essays</td>\n",
       "      <td>iso/etext00/1cahe10.txt</td>\n",
       "      <td>devils as there were tiles on the houses, or l...</td>\n",
       "      <td>2075</td>\n",
       "      <td>0.762961</td>\n",
       "    </tr>\n",
       "    <tr>\n",
       "      <th>2</th>\n",
       "      <td>Macaulay</td>\n",
       "      <td>Critical &amp; Historical Essays</td>\n",
       "      <td>iso/etext00/1cahe10.txt</td>\n",
       "      <td>indeed be, if we were to suppose that the nati...</td>\n",
       "      <td>2075</td>\n",
       "      <td>0.762961</td>\n",
       "    </tr>\n",
       "    <tr>\n",
       "      <th>3</th>\n",
       "      <td>Macaulay</td>\n",
       "      <td>Critical &amp; Historical Essays</td>\n",
       "      <td>iso/etext00/1cahe10.txt</td>\n",
       "      <td>reign of Elizabeth, the people were in a state...</td>\n",
       "      <td>2075</td>\n",
       "      <td>0.762961</td>\n",
       "    </tr>\n",
       "    <tr>\n",
       "      <th>4</th>\n",
       "      <td>Macaulay</td>\n",
       "      <td>Critical &amp; Historical Essays</td>\n",
       "      <td>iso/etext00/1cahe10.txt</td>\n",
       "      <td>Queen of Scotland, the hostility of Philip, ex...</td>\n",
       "      <td>2075</td>\n",
       "      <td>0.762961</td>\n",
       "    </tr>\n",
       "  </tbody>\n",
       "</table>\n",
       "</div>"
      ],
      "text/plain": [
       "     author                         title               input_file  \\\n",
       "0  Macaulay  Critical & Historical Essays  iso/etext00/1cahe10.txt   \n",
       "1  Macaulay  Critical & Historical Essays  iso/etext00/1cahe10.txt   \n",
       "2  Macaulay  Critical & Historical Essays  iso/etext00/1cahe10.txt   \n",
       "3  Macaulay  Critical & Historical Essays  iso/etext00/1cahe10.txt   \n",
       "4  Macaulay  Critical & Historical Essays  iso/etext00/1cahe10.txt   \n",
       "\n",
       "                                          text_chunk  chunk_count  \\\n",
       "0  tribunal. The London juries, he said, entertai...         2075   \n",
       "1  devils as there were tiles on the houses, or l...         2075   \n",
       "2  indeed be, if we were to suppose that the nati...         2075   \n",
       "3  reign of Elizabeth, the people were in a state...         2075   \n",
       "4  Queen of Scotland, the hostility of Philip, ex...         2075   \n",
       "\n",
       "   cumulative_sum  \n",
       "0        0.762961  \n",
       "1        0.762961  \n",
       "2        0.762961  \n",
       "3        0.762961  \n",
       "4        0.762961  "
      ]
     },
     "execution_count": 8,
     "metadata": {},
     "output_type": "execute_result"
    }
   ],
   "source": [
    "#loop over each input_file and preserve random sample of each book's chunks, up to 2200\n",
    "chunks_sampled = pd.DataFrame()\n",
    "input_files = chunks_counted['input_file'].unique()\n",
    "for input_file in input_files: \n",
    "    idx = (chunks_counted['input_file'] == input_file)\n",
    "    df = chunks_counted[idx]\n",
    "    Ns = len(df)\n",
    "    if (Ns > 2200):\n",
    "        df = df.sample(2200)\n",
    "    chunks_sampled = chunks_sampled.append(df, ignore_index=True)\n",
    "print 'number of records = ', len(chunks_sampled)\n",
    "chunks_sampled.head()"
   ]
  },
  {
   "cell_type": "code",
   "execution_count": 9,
   "metadata": {
    "scrolled": false
   },
   "outputs": [
    {
     "name": "stdout",
     "output_type": "stream",
     "text": [
      "757 2200\n",
      "number of records =  165450\n"
     ]
    },
    {
     "data": {
      "text/html": [
       "<div>\n",
       "<table border=\"1\" class=\"dataframe\">\n",
       "  <thead>\n",
       "    <tr style=\"text-align: right;\">\n",
       "      <th></th>\n",
       "      <th>author</th>\n",
       "      <th>title</th>\n",
       "      <th>input_file</th>\n",
       "      <th>text_chunk</th>\n",
       "      <th>chunk_count</th>\n",
       "    </tr>\n",
       "  </thead>\n",
       "  <tbody>\n",
       "    <tr>\n",
       "      <th>0</th>\n",
       "      <td>Macaulay</td>\n",
       "      <td>Critical &amp; Historical Essays</td>\n",
       "      <td>iso/etext00/1cahe10.txt</td>\n",
       "      <td>tribunal. The London juries, he said, entertai...</td>\n",
       "      <td>2075</td>\n",
       "    </tr>\n",
       "    <tr>\n",
       "      <th>1</th>\n",
       "      <td>Macaulay</td>\n",
       "      <td>Critical &amp; Historical Essays</td>\n",
       "      <td>iso/etext00/1cahe10.txt</td>\n",
       "      <td>devils as there were tiles on the houses, or l...</td>\n",
       "      <td>2075</td>\n",
       "    </tr>\n",
       "    <tr>\n",
       "      <th>2</th>\n",
       "      <td>Macaulay</td>\n",
       "      <td>Critical &amp; Historical Essays</td>\n",
       "      <td>iso/etext00/1cahe10.txt</td>\n",
       "      <td>indeed be, if we were to suppose that the nati...</td>\n",
       "      <td>2075</td>\n",
       "    </tr>\n",
       "    <tr>\n",
       "      <th>3</th>\n",
       "      <td>Macaulay</td>\n",
       "      <td>Critical &amp; Historical Essays</td>\n",
       "      <td>iso/etext00/1cahe10.txt</td>\n",
       "      <td>reign of Elizabeth, the people were in a state...</td>\n",
       "      <td>2075</td>\n",
       "    </tr>\n",
       "    <tr>\n",
       "      <th>4</th>\n",
       "      <td>Macaulay</td>\n",
       "      <td>Critical &amp; Historical Essays</td>\n",
       "      <td>iso/etext00/1cahe10.txt</td>\n",
       "      <td>Queen of Scotland, the hostility of Philip, ex...</td>\n",
       "      <td>2075</td>\n",
       "    </tr>\n",
       "  </tbody>\n",
       "</table>\n",
       "</div>"
      ],
      "text/plain": [
       "     author                         title               input_file  \\\n",
       "0  Macaulay  Critical & Historical Essays  iso/etext00/1cahe10.txt   \n",
       "1  Macaulay  Critical & Historical Essays  iso/etext00/1cahe10.txt   \n",
       "2  Macaulay  Critical & Historical Essays  iso/etext00/1cahe10.txt   \n",
       "3  Macaulay  Critical & Historical Essays  iso/etext00/1cahe10.txt   \n",
       "4  Macaulay  Critical & Historical Essays  iso/etext00/1cahe10.txt   \n",
       "\n",
       "                                          text_chunk  chunk_count  \n",
       "0  tribunal. The London juries, he said, entertai...         2075  \n",
       "1  devils as there were tiles on the houses, or l...         2075  \n",
       "2  indeed be, if we were to suppose that the nati...         2075  \n",
       "3  reign of Elizabeth, the people were in a state...         2075  \n",
       "4  Queen of Scotland, the hostility of Philip, ex...         2075  "
      ]
     },
     "execution_count": 9,
     "metadata": {},
     "output_type": "execute_result"
    }
   ],
   "source": [
    "#confirm that book contribute 750 to 2200 chunks\n",
    "N_chunks = pd.DataFrame(chunks_sampled.groupby('input_file')['input_file'].count())\n",
    "N_chunks.columns = ['chunk_count']\n",
    "N_chunks = N_chunks.reset_index(level=0)\n",
    "cols = [u'author', u'title', u'input_file', u'text_chunk']\n",
    "chunks_recounted = chunks_sampled[cols].merge(N_chunks, on='input_file', how='inner')\n",
    "cols = [u'author', u'title', u'input_file', 'chunk_count', u'text_chunk']\n",
    "print chunks_recounted['chunk_count'].min(), chunks_recounted['chunk_count'].max()\n",
    "print 'number of records = ', len(chunks_recounted)\n",
    "chunks_recounted.head()"
   ]
  },
  {
   "cell_type": "code",
   "execution_count": 10,
   "metadata": {
    "scrolled": false
   },
   "outputs": [
    {
     "name": "stdout",
     "output_type": "stream",
     "text": [
      "number of books =  90\n"
     ]
    },
    {
     "data": {
      "text/html": [
       "<div>\n",
       "<table border=\"1\" class=\"dataframe\">\n",
       "  <thead>\n",
       "    <tr style=\"text-align: right;\">\n",
       "      <th></th>\n",
       "      <th>author</th>\n",
       "      <th>title</th>\n",
       "      <th>input_file</th>\n",
       "      <th>text_chunk</th>\n",
       "      <th>author_id</th>\n",
       "    </tr>\n",
       "  </thead>\n",
       "  <tbody>\n",
       "    <tr>\n",
       "      <th>0</th>\n",
       "      <td>A.H. Clough</td>\n",
       "      <td>Plutarch's Lives</td>\n",
       "      <td>iso/etext96/plivs10.txt</td>\n",
       "      <td>2200</td>\n",
       "      <td>0</td>\n",
       "    </tr>\n",
       "    <tr>\n",
       "      <th>1</th>\n",
       "      <td>Adam Smith</td>\n",
       "      <td>Wealth Of Nations</td>\n",
       "      <td>iso/etext02/wltnt10.txt</td>\n",
       "      <td>2200</td>\n",
       "      <td>1</td>\n",
       "    </tr>\n",
       "    <tr>\n",
       "      <th>2</th>\n",
       "      <td>Adams</td>\n",
       "      <td>The Education Of Henry Adams</td>\n",
       "      <td>iso/etext00/eduha10.txt</td>\n",
       "      <td>1260</td>\n",
       "      <td>2</td>\n",
       "    </tr>\n",
       "    <tr>\n",
       "      <th>3</th>\n",
       "      <td>Anne C. Lynch Botta</td>\n",
       "      <td>Handbook Of Universal Literature</td>\n",
       "      <td>iso/etext05/8unlt10.txt</td>\n",
       "      <td>1699</td>\n",
       "      <td>3</td>\n",
       "    </tr>\n",
       "    <tr>\n",
       "      <th>6</th>\n",
       "      <td>Anthony Trollope</td>\n",
       "      <td>The Last Chronicle Of Barset</td>\n",
       "      <td>iso/etext02/lacob11.txt</td>\n",
       "      <td>2200</td>\n",
       "      <td>6</td>\n",
       "    </tr>\n",
       "  </tbody>\n",
       "</table>\n",
       "</div>"
      ],
      "text/plain": [
       "                author                             title  \\\n",
       "0          A.H. Clough                  Plutarch's Lives   \n",
       "1           Adam Smith                 Wealth Of Nations   \n",
       "2                Adams      The Education Of Henry Adams   \n",
       "3  Anne C. Lynch Botta  Handbook Of Universal Literature   \n",
       "6     Anthony Trollope      The Last Chronicle Of Barset   \n",
       "\n",
       "                input_file  text_chunk  author_id  \n",
       "0  iso/etext96/plivs10.txt        2200          0  \n",
       "1  iso/etext02/wltnt10.txt        2200          1  \n",
       "2  iso/etext00/eduha10.txt        1260          2  \n",
       "3  iso/etext05/8unlt10.txt        1699          3  \n",
       "6  iso/etext02/lacob11.txt        2200          6  "
      ]
     },
     "execution_count": 10,
     "metadata": {},
     "output_type": "execute_result"
    }
   ],
   "source": [
    "#for multi-book authors, drop all but the title having the most chunks, and add author_id\n",
    "N = pd.DataFrame(chunks_recounted.groupby(['author', 'title', 'input_file'])['text_chunk'].count()).reset_index()\n",
    "N = N.sort_values(['author', 'text_chunk'], ascending=False).drop_duplicates(['author'])\n",
    "N = N.sort_values('author')\n",
    "N['author_id'] = N.index\n",
    "print 'number of books = ', len(N)\n",
    "N.head()"
   ]
  },
  {
   "cell_type": "code",
   "execution_count": 11,
   "metadata": {
    "scrolled": false
   },
   "outputs": [
    {
     "name": "stdout",
     "output_type": "stream",
     "text": [
      "number of records =  128314\n"
     ]
    },
    {
     "data": {
      "text/html": [
       "<div>\n",
       "<table border=\"1\" class=\"dataframe\">\n",
       "  <thead>\n",
       "    <tr style=\"text-align: right;\">\n",
       "      <th></th>\n",
       "      <th>author</th>\n",
       "      <th>author_id</th>\n",
       "      <th>title</th>\n",
       "      <th>input_file</th>\n",
       "      <th>text_chunk</th>\n",
       "    </tr>\n",
       "  </thead>\n",
       "  <tbody>\n",
       "    <tr>\n",
       "      <th>110196</th>\n",
       "      <td>Dickens</td>\n",
       "      <td>31</td>\n",
       "      <td>Nicholas Nickleby</td>\n",
       "      <td>iso/etext97/ncklb10.txt</td>\n",
       "      <td>disappointed he couldn't have written about bl...</td>\n",
       "    </tr>\n",
       "    <tr>\n",
       "      <th>48039</th>\n",
       "      <td>Various</td>\n",
       "      <td>113</td>\n",
       "      <td>The Junior Classics</td>\n",
       "      <td>iso/etext04/8jrc710.txt</td>\n",
       "      <td>the sight to bear upon the pigeon, I pulled tr...</td>\n",
       "    </tr>\n",
       "    <tr>\n",
       "      <th>65662</th>\n",
       "      <td>Thomas D'Arcy Mcgee</td>\n",
       "      <td>107</td>\n",
       "      <td>A Popular History Of Ireland</td>\n",
       "      <td>iso/etext04/phrlc10.txt</td>\n",
       "      <td>pay; but though De Ginkle was most eager to se...</td>\n",
       "    </tr>\n",
       "    <tr>\n",
       "      <th>63884</th>\n",
       "      <td>Samuel Richardson</td>\n",
       "      <td>95</td>\n",
       "      <td>Pamela</td>\n",
       "      <td>iso/etext04/pam1w10.txt</td>\n",
       "      <td>may keep my hands to myself. I don't say it to...</td>\n",
       "    </tr>\n",
       "    <tr>\n",
       "      <th>98291</th>\n",
       "      <td>George Borrow</td>\n",
       "      <td>45</td>\n",
       "      <td>The Bible In Spain</td>\n",
       "      <td>iso/etext96/tbisp10.txt</td>\n",
       "      <td>though there were two or three of us at hand t...</td>\n",
       "    </tr>\n",
       "  </tbody>\n",
       "</table>\n",
       "</div>"
      ],
      "text/plain": [
       "                     author  author_id                         title  \\\n",
       "110196              Dickens         31             Nicholas Nickleby   \n",
       "48039               Various        113           The Junior Classics   \n",
       "65662   Thomas D'Arcy Mcgee        107  A Popular History Of Ireland   \n",
       "63884     Samuel Richardson         95                        Pamela   \n",
       "98291         George Borrow         45            The Bible In Spain   \n",
       "\n",
       "                     input_file  \\\n",
       "110196  iso/etext97/ncklb10.txt   \n",
       "48039   iso/etext04/8jrc710.txt   \n",
       "65662   iso/etext04/phrlc10.txt   \n",
       "63884   iso/etext04/pam1w10.txt   \n",
       "98291   iso/etext96/tbisp10.txt   \n",
       "\n",
       "                                               text_chunk  \n",
       "110196  disappointed he couldn't have written about bl...  \n",
       "48039   the sight to bear upon the pigeon, I pulled tr...  \n",
       "65662   pay; but though De Ginkle was most eager to se...  \n",
       "63884   may keep my hands to myself. I don't say it to...  \n",
       "98291   though there were two or three of us at hand t...  "
      ]
     },
     "execution_count": 11,
     "metadata": {},
     "output_type": "execute_result"
    }
   ],
   "source": [
    "#join chunks_recounted to N to preserve the desired books, and randomize records\n",
    "cols = ['author', 'author_id', 'title', 'input_file', 'text_chunk']\n",
    "chunks_filtered = chunks_recounted.merge(N[['input_file', 'author_id']], on='input_file', how='inner')[cols]\n",
    "chunks_filtered = chunks_filtered.sample(frac=1)[cols]\n",
    "print 'number of records = ', len(chunks_filtered)\n",
    "chunks_filtered.head()"
   ]
  },
  {
   "cell_type": "code",
   "execution_count": 12,
   "metadata": {
    "scrolled": false
   },
   "outputs": [
    {
     "name": "stdout",
     "output_type": "stream",
     "text": [
      "number of books =  90\n"
     ]
    },
    {
     "data": {
      "text/html": [
       "<div>\n",
       "<table border=\"1\" class=\"dataframe\">\n",
       "  <thead>\n",
       "    <tr style=\"text-align: right;\">\n",
       "      <th></th>\n",
       "      <th>author</th>\n",
       "      <th>title</th>\n",
       "      <th>input_file</th>\n",
       "      <th>text_chunk</th>\n",
       "    </tr>\n",
       "  </thead>\n",
       "  <tbody>\n",
       "    <tr>\n",
       "      <th>0</th>\n",
       "      <td>A.H. Clough</td>\n",
       "      <td>Plutarch's Lives</td>\n",
       "      <td>iso/etext96/plivs10.txt</td>\n",
       "      <td>2200</td>\n",
       "    </tr>\n",
       "    <tr>\n",
       "      <th>1</th>\n",
       "      <td>Adam Smith</td>\n",
       "      <td>Wealth Of Nations</td>\n",
       "      <td>iso/etext02/wltnt10.txt</td>\n",
       "      <td>2200</td>\n",
       "    </tr>\n",
       "    <tr>\n",
       "      <th>2</th>\n",
       "      <td>Adams</td>\n",
       "      <td>The Education Of Henry Adams</td>\n",
       "      <td>iso/etext00/eduha10.txt</td>\n",
       "      <td>1260</td>\n",
       "    </tr>\n",
       "    <tr>\n",
       "      <th>3</th>\n",
       "      <td>Anne C. Lynch Botta</td>\n",
       "      <td>Handbook Of Universal Literature</td>\n",
       "      <td>iso/etext05/8unlt10.txt</td>\n",
       "      <td>1699</td>\n",
       "    </tr>\n",
       "    <tr>\n",
       "      <th>4</th>\n",
       "      <td>Anthony Trollope</td>\n",
       "      <td>The Last Chronicle Of Barset</td>\n",
       "      <td>iso/etext02/lacob11.txt</td>\n",
       "      <td>2200</td>\n",
       "    </tr>\n",
       "  </tbody>\n",
       "</table>\n",
       "</div>"
      ],
      "text/plain": [
       "                author                             title  \\\n",
       "0          A.H. Clough                  Plutarch's Lives   \n",
       "1           Adam Smith                 Wealth Of Nations   \n",
       "2                Adams      The Education Of Henry Adams   \n",
       "3  Anne C. Lynch Botta  Handbook Of Universal Literature   \n",
       "4     Anthony Trollope      The Last Chronicle Of Barset   \n",
       "\n",
       "                input_file  text_chunk  \n",
       "0  iso/etext96/plivs10.txt        2200  \n",
       "1  iso/etext02/wltnt10.txt        2200  \n",
       "2  iso/etext00/eduha10.txt        1260  \n",
       "3  iso/etext05/8unlt10.txt        1699  \n",
       "4  iso/etext02/lacob11.txt        2200  "
      ]
     },
     "execution_count": 12,
     "metadata": {},
     "output_type": "execute_result"
    }
   ],
   "source": [
    "#check the above\n",
    "N = pd.DataFrame(chunks_filtered.groupby(['author', 'title', 'input_file'])['text_chunk'].count())\\\n",
    "    .reset_index().sort_values('author')\n",
    "print 'number of books = ', len(N)\n",
    "N.head()"
   ]
  },
  {
   "cell_type": "code",
   "execution_count": 13,
   "metadata": {},
   "outputs": [
    {
     "name": "stdout",
     "output_type": "stream",
     "text": [
      "chunks_filtered.shape =  (128314, 5)\n",
      "train.shape            =  (64157, 5)\n",
      "test.shape             =  (38495, 5)\n",
      "validate.shape         =  (25662, 5)\n"
     ]
    }
   ],
   "source": [
    "#train-test-validate split\n",
    "train_size = 0.5\n",
    "validate_size=0.4   #this is the fraction of the test sample that is assigned to the validation sample\n",
    "rn_seed = 23\n",
    "from sklearn.model_selection import train_test_split\n",
    "train, test = train_test_split(chunks_filtered, train_size=train_size, random_state=rn_seed)\n",
    "validate, test = train_test_split(test, train_size=validate_size, random_state=rn_seed)\n",
    "print 'chunks_filtered.shape = ', chunks_filtered.shape\n",
    "print 'train.shape            = ', train.shape\n",
    "print 'test.shape             = ', test.shape\n",
    "print 'validate.shape         = ', validate.shape"
   ]
  },
  {
   "cell_type": "code",
   "execution_count": 15,
   "metadata": {},
   "outputs": [
    {
     "name": "stdout",
     "output_type": "stream",
     "text": [
      "number of distinct words =  474495\n",
      "lenitives 2\n",
      "_Lyrical 1\n",
      "young--it's 1\n",
      "woods 318\n",
      "Catalans. 2\n",
      "spiders 22\n"
     ]
    }
   ],
   "source": [
    "#count word frequencies\n",
    "from collections import defaultdict\n",
    "word_frequency = defaultdict(int)\n",
    "corpus = chunks_filtered['text_chunk'].tolist()\n",
    "for doc in corpus:\n",
    "    words = doc.split(' ')\n",
    "    for word in words:\n",
    "        word_frequency[word] += 1\n",
    "print 'number of distinct words = ', len(word_frequency.keys()) \n",
    "for word in word_frequency.keys()[1:7]:\n",
    "    print word, word_frequency[word]"
   ]
  },
  {
   "cell_type": "code",
   "execution_count": 16,
   "metadata": {},
   "outputs": [
    {
     "name": "stderr",
     "output_type": "stream",
     "text": [
      "Using TensorFlow backend.\n"
     ]
    }
   ],
   "source": [
    "#generate tokenizer\n",
    "vocabulary_size = 1000\n",
    "N_inputs = 100\n",
    "from keras.preprocessing.text import Tokenizer\n",
    "from keras.preprocessing.sequence import pad_sequences\n",
    "tokenizer = Tokenizer(num_words=vocabulary_size)"
   ]
  },
  {
   "cell_type": "code",
   "execution_count": 17,
   "metadata": {},
   "outputs": [
    {
     "name": "stdout",
     "output_type": "stream",
     "text": [
      "x_train.shape =  (64157, 100)\n",
      "y_train.shape =  (64157,)\n",
      "N_inputs =  100\n",
      "N_outputs =  90\n"
     ]
    }
   ],
   "source": [
    "#tokenize corpus of training documents to get training x,y\n",
    "df = train\n",
    "corpus = df['text_chunk'].tolist()\n",
    "tokenizer.fit_on_texts(corpus)\n",
    "corpus_tokenized = tokenizer.texts_to_sequences(corpus)\n",
    "corpus_padded = pad_sequences(corpus_tokenized, maxlen=N_inputs)\n",
    "x_train = np.array(corpus_padded)\n",
    "y_train = df['author_id'].values\n",
    "N_outputs = len(np.unique(y_train))\n",
    "print 'x_train.shape = ', x_train.shape\n",
    "print 'y_train.shape = ', y_train.shape\n",
    "print 'N_inputs = ', N_inputs\n",
    "print 'N_outputs = ', N_outputs"
   ]
  },
  {
   "cell_type": "code",
   "execution_count": 18,
   "metadata": {},
   "outputs": [
    {
     "name": "stdout",
     "output_type": "stream",
     "text": [
      "[  0   0   0   0   0   0   0   0   0   0   0   0   0   0   0   0   0   0\n",
      "   0   0   0   0   0   0 529 848  33   1 124   6 474 295 223   1   9   1\n",
      " 255  12 245 159   4  34 201 178 700   2   5 372  68 189  22  14  94  37\n",
      "   6  34   4  21 629  69   7   1 195 104  48  21 145 133   5  74   4  14\n",
      "  51  10  44 151   4  22  41  63 144   5  41 587  25 338  88 708  41  36\n",
      "  55   6   1   3   1 848   2  13   4  21]\n",
      "25\n"
     ]
    }
   ],
   "source": [
    "print x_train[123]\n",
    "print y_train[123]"
   ]
  },
  {
   "cell_type": "code",
   "execution_count": 19,
   "metadata": {},
   "outputs": [
    {
     "name": "stdout",
     "output_type": "stream",
     "text": [
      "x_validate.shape =  (25662, 100)\n",
      "y_validate.shape =  (25662,)\n",
      "N_inputs =  100\n"
     ]
    }
   ],
   "source": [
    "#tokenize validation documents to get validation x,y\n",
    "df = validate\n",
    "corpus = df['text_chunk'].tolist()\n",
    "corpus_tokenized = tokenizer.texts_to_sequences(corpus)\n",
    "corpus_padded = pad_sequences(corpus_tokenized, maxlen=N_inputs)\n",
    "x_validate = np.array(corpus_padded)\n",
    "y_validate = df['author_id'].values\n",
    "print 'x_validate.shape = ', x_validate.shape\n",
    "print 'y_validate.shape = ', y_validate.shape\n",
    "print 'N_inputs = ', N_inputs"
   ]
  },
  {
   "cell_type": "code",
   "execution_count": 20,
   "metadata": {},
   "outputs": [
    {
     "name": "stdout",
     "output_type": "stream",
     "text": [
      "[  0   0   0   0   0   0   0   0   0   0   0   0   0   0   0   0   0   0\n",
      "   0   0   0   0   0   2  20   3   2   6   5 220 258   1 119 115  32   1\n",
      "   2 963  15   1 287 935  13   1 400   3  72   2 263  20 164   2  88 391\n",
      "   1 165 120  24   1 156  25  43  17  53   5 183   3  20  59  20   2 214\n",
      " 712 285  24   1   3 897 164   1  25  72 110 189 146  25   6   1 446 124\n",
      "   1  22 630 504   1  17 330 164  19   1]\n",
      "25\n"
     ]
    }
   ],
   "source": [
    "print x_validate[123]\n",
    "print y_validate[123]"
   ]
  },
  {
   "cell_type": "code",
   "execution_count": 23,
   "metadata": {},
   "outputs": [],
   "source": [
    "#build LSTM model...this one is adapted from \n",
    "#http://www.developintelligence.com/blog/2017/06/practical-neural-networks-keras-classifying-yelp-reviews/\n",
    "from keras.layers import Embedding, LSTM, Dense, Dropout#, Conv1D, MaxPooling1D, Activation\n",
    "from keras.models import Sequential\n",
    "model = Sequential()\n",
    "embedding_vector_length = 32\n",
    "model.add(Embedding(vocabulary_size, embedding_vector_length, input_length=N_inputs))\n",
    "model.add(LSTM(embedding_vector_length, dropout=0.2, recurrent_dropout=0.2))\n",
    "model.add(Dense(N_outputs, activation='softmax'))\n",
    "loss_fn = 'categorical_crossentropy'\n",
    "#loss_fn = 'sparse_categorical_crossentropy'\n",
    "model.compile(loss=loss_fn, optimizer='adam', metrics=['accuracy'])"
   ]
  },
  {
   "cell_type": "code",
   "execution_count": 24,
   "metadata": {},
   "outputs": [
    {
     "ename": "ValueError",
     "evalue": "Error when checking target: expected dense_2 to have shape (None, 90) but got array with shape (64157, 1)",
     "output_type": "error",
     "traceback": [
      "\u001b[0;31m---------------------------------------------------------------------------\u001b[0m",
      "\u001b[0;31mValueError\u001b[0m                                Traceback (most recent call last)",
      "\u001b[0;32m<ipython-input-24-f7ac7573d24c>\u001b[0m in \u001b[0;36m<module>\u001b[0;34m()\u001b[0m\n\u001b[1;32m      1\u001b[0m \u001b[0;31m#fit the model to the training data\u001b[0m\u001b[0;34m\u001b[0m\u001b[0;34m\u001b[0m\u001b[0m\n\u001b[1;32m      2\u001b[0m \u001b[0mN_training_epochs\u001b[0m \u001b[0;34m=\u001b[0m \u001b[0;36m1\u001b[0m\u001b[0;34m\u001b[0m\u001b[0m\n\u001b[0;32m----> 3\u001b[0;31m \u001b[0mloss_history\u001b[0m \u001b[0;34m=\u001b[0m \u001b[0mmodel\u001b[0m\u001b[0;34m.\u001b[0m\u001b[0mfit\u001b[0m\u001b[0;34m(\u001b[0m\u001b[0mx_train\u001b[0m\u001b[0;34m,\u001b[0m \u001b[0my_train\u001b[0m\u001b[0;34m,\u001b[0m \u001b[0mepochs\u001b[0m\u001b[0;34m=\u001b[0m\u001b[0mN_training_epochs\u001b[0m\u001b[0;34m,\u001b[0m \u001b[0mbatch_size\u001b[0m\u001b[0;34m=\u001b[0m\u001b[0;36m64\u001b[0m\u001b[0;34m,\u001b[0m \u001b[0mverbose\u001b[0m\u001b[0;34m=\u001b[0m\u001b[0;36m1\u001b[0m\u001b[0;34m)\u001b[0m\u001b[0;31m#, \\\u001b[0m\u001b[0;34m\u001b[0m\u001b[0m\n\u001b[0m\u001b[1;32m      4\u001b[0m \u001b[0;31m#    validation_data=(x_validate, y_validate))\u001b[0m\u001b[0;34m\u001b[0m\u001b[0;34m\u001b[0m\u001b[0m\n\u001b[1;32m      5\u001b[0m \u001b[0mget_ipython\u001b[0m\u001b[0;34m(\u001b[0m\u001b[0;34m)\u001b[0m\u001b[0;34m.\u001b[0m\u001b[0mmagic\u001b[0m\u001b[0;34m(\u001b[0m\u001b[0;34mu'pinfo Embedding'\u001b[0m\u001b[0;34m)\u001b[0m\u001b[0;34m\u001b[0m\u001b[0m\n",
      "\u001b[0;32m/usr/local/lib/python2.7/dist-packages/keras/models.pyc\u001b[0m in \u001b[0;36mfit\u001b[0;34m(self, x, y, batch_size, epochs, verbose, callbacks, validation_split, validation_data, shuffle, class_weight, sample_weight, initial_epoch, **kwargs)\u001b[0m\n\u001b[1;32m    854\u001b[0m                               \u001b[0mclass_weight\u001b[0m\u001b[0;34m=\u001b[0m\u001b[0mclass_weight\u001b[0m\u001b[0;34m,\u001b[0m\u001b[0;34m\u001b[0m\u001b[0m\n\u001b[1;32m    855\u001b[0m                               \u001b[0msample_weight\u001b[0m\u001b[0;34m=\u001b[0m\u001b[0msample_weight\u001b[0m\u001b[0;34m,\u001b[0m\u001b[0;34m\u001b[0m\u001b[0m\n\u001b[0;32m--> 856\u001b[0;31m                               initial_epoch=initial_epoch)\n\u001b[0m\u001b[1;32m    857\u001b[0m \u001b[0;34m\u001b[0m\u001b[0m\n\u001b[1;32m    858\u001b[0m     def evaluate(self, x, y, batch_size=32, verbose=1,\n",
      "\u001b[0;32m/usr/local/lib/python2.7/dist-packages/keras/engine/training.pyc\u001b[0m in \u001b[0;36mfit\u001b[0;34m(self, x, y, batch_size, epochs, verbose, callbacks, validation_split, validation_data, shuffle, class_weight, sample_weight, initial_epoch, **kwargs)\u001b[0m\n\u001b[1;32m   1427\u001b[0m             \u001b[0mclass_weight\u001b[0m\u001b[0;34m=\u001b[0m\u001b[0mclass_weight\u001b[0m\u001b[0;34m,\u001b[0m\u001b[0;34m\u001b[0m\u001b[0m\n\u001b[1;32m   1428\u001b[0m             \u001b[0mcheck_batch_axis\u001b[0m\u001b[0;34m=\u001b[0m\u001b[0mFalse\u001b[0m\u001b[0;34m,\u001b[0m\u001b[0;34m\u001b[0m\u001b[0m\n\u001b[0;32m-> 1429\u001b[0;31m             batch_size=batch_size)\n\u001b[0m\u001b[1;32m   1430\u001b[0m         \u001b[0;31m# Prepare validation data.\u001b[0m\u001b[0;34m\u001b[0m\u001b[0;34m\u001b[0m\u001b[0m\n\u001b[1;32m   1431\u001b[0m         \u001b[0;32mif\u001b[0m \u001b[0mvalidation_data\u001b[0m\u001b[0;34m:\u001b[0m\u001b[0;34m\u001b[0m\u001b[0m\n",
      "\u001b[0;32m/usr/local/lib/python2.7/dist-packages/keras/engine/training.pyc\u001b[0m in \u001b[0;36m_standardize_user_data\u001b[0;34m(self, x, y, sample_weight, class_weight, check_batch_axis, batch_size)\u001b[0m\n\u001b[1;32m   1307\u001b[0m                                     \u001b[0moutput_shapes\u001b[0m\u001b[0;34m,\u001b[0m\u001b[0;34m\u001b[0m\u001b[0m\n\u001b[1;32m   1308\u001b[0m                                     \u001b[0mcheck_batch_axis\u001b[0m\u001b[0;34m=\u001b[0m\u001b[0mFalse\u001b[0m\u001b[0;34m,\u001b[0m\u001b[0;34m\u001b[0m\u001b[0m\n\u001b[0;32m-> 1309\u001b[0;31m                                     exception_prefix='target')\n\u001b[0m\u001b[1;32m   1310\u001b[0m         sample_weights = _standardize_sample_weights(sample_weight,\n\u001b[1;32m   1311\u001b[0m                                                      self._feed_output_names)\n",
      "\u001b[0;32m/usr/local/lib/python2.7/dist-packages/keras/engine/training.pyc\u001b[0m in \u001b[0;36m_standardize_input_data\u001b[0;34m(data, names, shapes, check_batch_axis, exception_prefix)\u001b[0m\n\u001b[1;32m    137\u001b[0m                             \u001b[0;34m' to have shape '\u001b[0m \u001b[0;34m+\u001b[0m \u001b[0mstr\u001b[0m\u001b[0;34m(\u001b[0m\u001b[0mshapes\u001b[0m\u001b[0;34m[\u001b[0m\u001b[0mi\u001b[0m\u001b[0;34m]\u001b[0m\u001b[0;34m)\u001b[0m \u001b[0;34m+\u001b[0m\u001b[0;34m\u001b[0m\u001b[0m\n\u001b[1;32m    138\u001b[0m                             \u001b[0;34m' but got array with shape '\u001b[0m \u001b[0;34m+\u001b[0m\u001b[0;34m\u001b[0m\u001b[0m\n\u001b[0;32m--> 139\u001b[0;31m                             str(array.shape))\n\u001b[0m\u001b[1;32m    140\u001b[0m     \u001b[0;32mreturn\u001b[0m \u001b[0marrays\u001b[0m\u001b[0;34m\u001b[0m\u001b[0m\n\u001b[1;32m    141\u001b[0m \u001b[0;34m\u001b[0m\u001b[0m\n",
      "\u001b[0;31mValueError\u001b[0m: Error when checking target: expected dense_2 to have shape (None, 90) but got array with shape (64157, 1)"
     ]
    }
   ],
   "source": [
    "#fit the model to the training data\n",
    "N_training_epochs = 1\n",
    "loss_history = model.fit(x_train, y_train, epochs=N_training_epochs, batch_size=64, verbose=1)#, \\\n",
    "#    validation_data=(x_validate, y_validate))\n",
    "Embedding?"
   ]
  },
  {
   "cell_type": "code",
   "execution_count": null,
   "metadata": {},
   "outputs": [],
   "source": [
    "#tokenize test documents to get testing x,y\n",
    "df = test\n",
    "corpus = df['text_chunk'].tolist()\n",
    "corpus_tokenized = tokenizer.texts_to_sequences(corpus)\n",
    "corpus_padded = pad_sequences(corpus_tokenized, maxlen=N_inputs)\n",
    "x_test = np.array(corpus_padded)\n",
    "y_test = df['author_id'].values\n",
    "print 'x_test.shape = ', x_test.shape\n",
    "print 'y_test.shape = ', y_test.shape\n",
    "print 'N_inputs = ', N_inputs"
   ]
  },
  {
   "cell_type": "code",
   "execution_count": null,
   "metadata": {},
   "outputs": [],
   "source": [
    "#generate predicted y_test \n",
    "#col = target_col + '_pred'\n",
    "y_test_pred = model.predict(x_test)\n",
    "#y_test_pred = pd.DataFrame(model.predict(x_test), index=index[test_idx], columns=[col])\n",
    "#print x_test.shape, y_test.shape\n",
    "#y_test_pred.head()"
   ]
  },
  {
   "cell_type": "code",
   "execution_count": null,
   "metadata": {},
   "outputs": [],
   "source": [
    "y_test_pred"
   ]
  },
  {
   "cell_type": "code",
   "execution_count": null,
   "metadata": {
    "collapsed": true
   },
   "outputs": [],
   "source": []
  }
 ],
 "metadata": {
  "hide_input": false,
  "kernelspec": {
   "display_name": "Python 2",
   "language": "python",
   "name": "python2"
  },
  "language_info": {
   "codemirror_mode": {
    "name": "ipython",
    "version": 2
   },
   "file_extension": ".py",
   "mimetype": "text/x-python",
   "name": "python",
   "nbconvert_exporter": "python",
   "pygments_lexer": "ipython2",
   "version": "2.7.6"
  }
 },
 "nbformat": 4,
 "nbformat_minor": 2
}
