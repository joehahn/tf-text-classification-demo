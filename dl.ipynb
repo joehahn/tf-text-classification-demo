{
 "cells": [
  {
   "cell_type": "code",
   "execution_count": 1,
   "metadata": {
    "collapsed": true
   },
   "outputs": [],
   "source": [
    "#dl.ipynb\n",
    "#\n",
    "#by Joe Hahn\n",
    "#jmh.datasciences@gmail.com\n",
    "#24 January 2018"
   ]
  },
  {
   "cell_type": "code",
   "execution_count": 2,
   "metadata": {},
   "outputs": [
    {
     "name": "stdout",
     "output_type": "stream",
     "text": [
      "height has been deprecated.\n",
      "\n"
     ]
    }
   ],
   "source": [
    "#import matplotlib pandas etc\n",
    "%matplotlib inline\n",
    "import seaborn as sns\n",
    "import matplotlib.pyplot as plt\n",
    "import datetime\n",
    "import numpy as np\n",
    "import pandas as pd\n",
    "from matplotlib import rcParams\n",
    "sns.set(font_scale=1.5, font='DejaVu Sans')\n",
    "pd.set_option('display.max_columns', None)\n",
    "pd.set_option('display.height', None)\n",
    "pd.set_option('display.width', None)"
   ]
  },
  {
   "cell_type": "code",
   "execution_count": 3,
   "metadata": {},
   "outputs": [
    {
     "name": "stdout",
     "output_type": "stream",
     "text": [
      "number of records =  126114\n",
      "number of books =  89\n"
     ]
    },
    {
     "data": {
      "text/html": [
       "<div>\n",
       "<table border=\"1\" class=\"dataframe\">\n",
       "  <thead>\n",
       "    <tr style=\"text-align: right;\">\n",
       "      <th></th>\n",
       "      <th>author</th>\n",
       "      <th>author_id</th>\n",
       "      <th>title</th>\n",
       "      <th>input_file</th>\n",
       "      <th>text_chunk</th>\n",
       "    </tr>\n",
       "  </thead>\n",
       "  <tbody>\n",
       "    <tr>\n",
       "      <th>96074</th>\n",
       "      <td>A.H. Clough</td>\n",
       "      <td>0</td>\n",
       "      <td>Plutarch's Lives</td>\n",
       "      <td>iso/etext96/plivs10.txt</td>\n",
       "      <td>and their infantry, who were placed in the lef...</td>\n",
       "    </tr>\n",
       "    <tr>\n",
       "      <th>38665</th>\n",
       "      <td>Percy Bysshe Shelley</td>\n",
       "      <td>65</td>\n",
       "      <td>The Complete Poetical Works of Percy Bysshe</td>\n",
       "      <td>iso/etext03/shlyc10.txt</td>\n",
       "      <td>One of their associates is, to my knowledge, a...</td>\n",
       "    </tr>\n",
       "    <tr>\n",
       "      <th>74739</th>\n",
       "      <td>Kate Milner Rabb</td>\n",
       "      <td>51</td>\n",
       "      <td>National Epics</td>\n",
       "      <td>iso/etext05/8ntle10.txt</td>\n",
       "      <td>strong car in which to carry away the soiled g...</td>\n",
       "    </tr>\n",
       "    <tr>\n",
       "      <th>75323</th>\n",
       "      <td>Kate Milner Rabb</td>\n",
       "      <td>51</td>\n",
       "      <td>National Epics</td>\n",
       "      <td>iso/etext05/8ntle10.txt</td>\n",
       "      <td>his honor in the land grows greater day by day...</td>\n",
       "    </tr>\n",
       "    <tr>\n",
       "      <th>84031</th>\n",
       "      <td>Austen</td>\n",
       "      <td>7</td>\n",
       "      <td>Sense And Sensibility</td>\n",
       "      <td>iso/etext94/sense11.txt</td>\n",
       "      <td>and my cousins would be proud to know her.--My...</td>\n",
       "    </tr>\n",
       "  </tbody>\n",
       "</table>\n",
       "</div>"
      ],
      "text/plain": [
       "                     author  author_id  \\\n",
       "96074           A.H. Clough          0   \n",
       "38665  Percy Bysshe Shelley         65   \n",
       "74739      Kate Milner Rabb         51   \n",
       "75323      Kate Milner Rabb         51   \n",
       "84031                Austen          7   \n",
       "\n",
       "                                             title               input_file  \\\n",
       "96074                             Plutarch's Lives  iso/etext96/plivs10.txt   \n",
       "38665  The Complete Poetical Works of Percy Bysshe  iso/etext03/shlyc10.txt   \n",
       "74739                               National Epics  iso/etext05/8ntle10.txt   \n",
       "75323                               National Epics  iso/etext05/8ntle10.txt   \n",
       "84031                        Sense And Sensibility  iso/etext94/sense11.txt   \n",
       "\n",
       "                                              text_chunk  \n",
       "96074  and their infantry, who were placed in the lef...  \n",
       "38665  One of their associates is, to my knowledge, a...  \n",
       "74739  strong car in which to carry away the soiled g...  \n",
       "75323  his honor in the land grows greater day by day...  \n",
       "84031  and my cousins would be proud to know her.--My...  "
      ]
     },
     "execution_count": 3,
     "metadata": {},
     "output_type": "execute_result"
    }
   ],
   "source": [
    "#read books dataframe\n",
    "import pickle\n",
    "with open('chunks.pkl', 'rb') as fp:\n",
    "    chunks = pickle.load(fp)\n",
    "print 'number of records = ', len(chunks)\n",
    "print 'number of books = ', len(chunks['input_file'].unique())\n",
    "chunks.head()"
   ]
  },
  {
   "cell_type": "code",
   "execution_count": 4,
   "metadata": {
    "scrolled": false
   },
   "outputs": [
    {
     "data": {
      "text/html": [
       "<div>\n",
       "<table border=\"1\" class=\"dataframe\">\n",
       "  <thead>\n",
       "    <tr style=\"text-align: right;\">\n",
       "      <th></th>\n",
       "      <th>author</th>\n",
       "      <th>title</th>\n",
       "      <th>input_file</th>\n",
       "      <th>N_chunks</th>\n",
       "    </tr>\n",
       "  </thead>\n",
       "  <tbody>\n",
       "    <tr>\n",
       "      <th>0</th>\n",
       "      <td>A.H. Clough</td>\n",
       "      <td>Plutarch's Lives</td>\n",
       "      <td>iso/etext96/plivs10.txt</td>\n",
       "      <td>2200</td>\n",
       "    </tr>\n",
       "    <tr>\n",
       "      <th>1</th>\n",
       "      <td>Adam Smith</td>\n",
       "      <td>Wealth Of Nations</td>\n",
       "      <td>iso/etext02/wltnt10.txt</td>\n",
       "      <td>2200</td>\n",
       "    </tr>\n",
       "    <tr>\n",
       "      <th>2</th>\n",
       "      <td>Adams</td>\n",
       "      <td>The Education Of Henry Adams</td>\n",
       "      <td>iso/etext00/eduha10.txt</td>\n",
       "      <td>1260</td>\n",
       "    </tr>\n",
       "    <tr>\n",
       "      <th>3</th>\n",
       "      <td>Anne C. Lynch Botta</td>\n",
       "      <td>Handbook Of Universal Literature</td>\n",
       "      <td>iso/etext05/8unlt10.txt</td>\n",
       "      <td>1699</td>\n",
       "    </tr>\n",
       "    <tr>\n",
       "      <th>4</th>\n",
       "      <td>Anthony Trollope</td>\n",
       "      <td>The Last Chronicle Of Barset</td>\n",
       "      <td>iso/etext02/lacob11.txt</td>\n",
       "      <td>2200</td>\n",
       "    </tr>\n",
       "  </tbody>\n",
       "</table>\n",
       "</div>"
      ],
      "text/plain": [
       "                author                             title  \\\n",
       "0          A.H. Clough                  Plutarch's Lives   \n",
       "1           Adam Smith                 Wealth Of Nations   \n",
       "2                Adams      The Education Of Henry Adams   \n",
       "3  Anne C. Lynch Botta  Handbook Of Universal Literature   \n",
       "4     Anthony Trollope      The Last Chronicle Of Barset   \n",
       "\n",
       "                input_file  N_chunks  \n",
       "0  iso/etext96/plivs10.txt      2200  \n",
       "1  iso/etext02/wltnt10.txt      2200  \n",
       "2  iso/etext00/eduha10.txt      1260  \n",
       "3  iso/etext05/8unlt10.txt      1699  \n",
       "4  iso/etext02/lacob11.txt      2200  "
      ]
     },
     "execution_count": 4,
     "metadata": {},
     "output_type": "execute_result"
    }
   ],
   "source": [
    "#show titles and number of chunks\n",
    "#need to fix Austnn & Jane Austen\n",
    "N = pd.DataFrame(chunks.groupby(['author', 'title', 'input_file'])['text_chunk'].count()).reset_index()\\\n",
    "    .sort_values('author')\n",
    "N = N.rename(columns={'text_chunk':'N_chunks'})\n",
    "N.head()"
   ]
  },
  {
   "cell_type": "code",
   "execution_count": 5,
   "metadata": {},
   "outputs": [
    {
     "data": {
      "text/html": [
       "<div>\n",
       "<table border=\"1\" class=\"dataframe\">\n",
       "  <thead>\n",
       "    <tr style=\"text-align: right;\">\n",
       "      <th></th>\n",
       "      <th>author</th>\n",
       "      <th>author_id</th>\n",
       "      <th>title</th>\n",
       "      <th>input_file</th>\n",
       "      <th>text_chunk</th>\n",
       "    </tr>\n",
       "  </thead>\n",
       "  <tbody>\n",
       "    <tr>\n",
       "      <th>111052</th>\n",
       "      <td>Thomas Malory</td>\n",
       "      <td>2</td>\n",
       "      <td>Le Mort D'Arthur</td>\n",
       "      <td>iso/etext98/2mart10.txt</td>\n",
       "      <td>Fair fellows, said Galihodin, yonder come four...</td>\n",
       "    </tr>\n",
       "    <tr>\n",
       "      <th>124876</th>\n",
       "      <td>Cervantes, In Spanish</td>\n",
       "      <td>0</td>\n",
       "      <td>Don Quijote</td>\n",
       "      <td>iso/etext99/2donq10.txt</td>\n",
       "      <td>ordenado: que todas las mujeres se entrasen en...</td>\n",
       "    </tr>\n",
       "    <tr>\n",
       "      <th>125284</th>\n",
       "      <td>Cervantes, In Spanish</td>\n",
       "      <td>0</td>\n",
       "      <td>Don Quijote</td>\n",
       "      <td>iso/etext99/2donq10.txt</td>\n",
       "      <td>que �l har�a que el marqu�s, su hermano, fuese...</td>\n",
       "    </tr>\n",
       "    <tr>\n",
       "      <th>53798</th>\n",
       "      <td>Thomas Bulfinch</td>\n",
       "      <td>1</td>\n",
       "      <td>Bulfinch'S Mythology</td>\n",
       "      <td>iso/etext04/bllfn10.txt</td>\n",
       "      <td>they brought before the king. Pentheus, behold...</td>\n",
       "    </tr>\n",
       "    <tr>\n",
       "      <th>53873</th>\n",
       "      <td>Thomas Bulfinch</td>\n",
       "      <td>1</td>\n",
       "      <td>Bulfinch'S Mythology</td>\n",
       "      <td>iso/etext04/bllfn10.txt</td>\n",
       "      <td>preparation of a robe for the funeral canopy o...</td>\n",
       "    </tr>\n",
       "    <tr>\n",
       "      <th>51879</th>\n",
       "      <td>Thomas Bulfinch</td>\n",
       "      <td>1</td>\n",
       "      <td>Bulfinch'S Mythology</td>\n",
       "      <td>iso/etext04/bllfn10.txt</td>\n",
       "      <td>he offered her a goblet of liquor. \"Drink this...</td>\n",
       "    </tr>\n",
       "    <tr>\n",
       "      <th>123999</th>\n",
       "      <td>Cervantes, In Spanish</td>\n",
       "      <td>0</td>\n",
       "      <td>Don Quijote</td>\n",
       "      <td>iso/etext99/2donq10.txt</td>\n",
       "      <td>las cosas tienen remedio, si no es la muerte, ...</td>\n",
       "    </tr>\n",
       "    <tr>\n",
       "      <th>52776</th>\n",
       "      <td>Thomas Bulfinch</td>\n",
       "      <td>1</td>\n",
       "      <td>Bulfinch'S Mythology</td>\n",
       "      <td>iso/etext04/bllfn10.txt</td>\n",
       "      <td>Sad and sorrowful was the maiden as she saw al...</td>\n",
       "    </tr>\n",
       "    <tr>\n",
       "      <th>123826</th>\n",
       "      <td>Cervantes, In Spanish</td>\n",
       "      <td>0</td>\n",
       "      <td>Don Quijote</td>\n",
       "      <td>iso/etext99/2donq10.txt</td>\n",
       "      <td>salir, ora fuese visto o no, con determinaci�n...</td>\n",
       "    </tr>\n",
       "    <tr>\n",
       "      <th>52912</th>\n",
       "      <td>Thomas Bulfinch</td>\n",
       "      <td>1</td>\n",
       "      <td>Bulfinch'S Mythology</td>\n",
       "      <td>iso/etext04/bllfn10.txt</td>\n",
       "      <td>go to the grotto of Galatea, and tell her how ...</td>\n",
       "    </tr>\n",
       "    <tr>\n",
       "      <th>53315</th>\n",
       "      <td>Thomas Bulfinch</td>\n",
       "      <td>1</td>\n",
       "      <td>Bulfinch'S Mythology</td>\n",
       "      <td>iso/etext04/bllfn10.txt</td>\n",
       "      <td>the queen, forgetting her resentment for her b...</td>\n",
       "    </tr>\n",
       "    <tr>\n",
       "      <th>53735</th>\n",
       "      <td>Thomas Bulfinch</td>\n",
       "      <td>1</td>\n",
       "      <td>Bulfinch'S Mythology</td>\n",
       "      <td>iso/etext04/bllfn10.txt</td>\n",
       "      <td>to his own kingdom of the Netherlands. Upon hi...</td>\n",
       "    </tr>\n",
       "    <tr>\n",
       "      <th>111919</th>\n",
       "      <td>Thomas Malory</td>\n",
       "      <td>2</td>\n",
       "      <td>Le Mort D'Arthur</td>\n",
       "      <td>iso/etext98/2mart10.txt</td>\n",
       "      <td>then every knight knew him that it was Sir Lau...</td>\n",
       "    </tr>\n",
       "    <tr>\n",
       "      <th>53417</th>\n",
       "      <td>Thomas Bulfinch</td>\n",
       "      <td>1</td>\n",
       "      <td>Bulfinch'S Mythology</td>\n",
       "      <td>iso/etext04/bllfn10.txt</td>\n",
       "      <td>me evermore; but my time hieth fast. Therefore...</td>\n",
       "    </tr>\n",
       "    <tr>\n",
       "      <th>123263</th>\n",
       "      <td>Cervantes, In Spanish</td>\n",
       "      <td>0</td>\n",
       "      <td>Don Quijote</td>\n",
       "      <td>iso/etext99/2donq10.txt</td>\n",
       "      <td>mezcla de lenguas que tengo dicho me pregunt� ...</td>\n",
       "    </tr>\n",
       "    <tr>\n",
       "      <th>111828</th>\n",
       "      <td>Thomas Malory</td>\n",
       "      <td>2</td>\n",
       "      <td>Le Mort D'Arthur</td>\n",
       "      <td>iso/etext98/2mart10.txt</td>\n",
       "      <td>Table were slain and destroyed, more than half...</td>\n",
       "    </tr>\n",
       "    <tr>\n",
       "      <th>111296</th>\n",
       "      <td>Thomas Malory</td>\n",
       "      <td>2</td>\n",
       "      <td>Le Mort D'Arthur</td>\n",
       "      <td>iso/etext98/2mart10.txt</td>\n",
       "      <td>also the death of Sir Lamorak, that of knighth...</td>\n",
       "    </tr>\n",
       "    <tr>\n",
       "      <th>52940</th>\n",
       "      <td>Thomas Bulfinch</td>\n",
       "      <td>1</td>\n",
       "      <td>Bulfinch'S Mythology</td>\n",
       "      <td>iso/etext04/bllfn10.txt</td>\n",
       "      <td>and would have thrown him into the river, but ...</td>\n",
       "    </tr>\n",
       "    <tr>\n",
       "      <th>124025</th>\n",
       "      <td>Cervantes, In Spanish</td>\n",
       "      <td>0</td>\n",
       "      <td>Don Quijote</td>\n",
       "      <td>iso/etext99/2donq10.txt</td>\n",
       "      <td>y \"a idos de mi casa y qu� quer�is con mi muje...</td>\n",
       "    </tr>\n",
       "    <tr>\n",
       "      <th>51949</th>\n",
       "      <td>Thomas Bulfinch</td>\n",
       "      <td>1</td>\n",
       "      <td>Bulfinch'S Mythology</td>\n",
       "      <td>iso/etext04/bllfn10.txt</td>\n",
       "      <td>of buildings and pinnacles of the rocks, afrai...</td>\n",
       "    </tr>\n",
       "  </tbody>\n",
       "</table>\n",
       "</div>"
      ],
      "text/plain": [
       "                       author  author_id                 title  \\\n",
       "111052          Thomas Malory          2      Le Mort D'Arthur   \n",
       "124876  Cervantes, In Spanish          0           Don Quijote   \n",
       "125284  Cervantes, In Spanish          0           Don Quijote   \n",
       "53798         Thomas Bulfinch          1  Bulfinch'S Mythology   \n",
       "53873         Thomas Bulfinch          1  Bulfinch'S Mythology   \n",
       "51879         Thomas Bulfinch          1  Bulfinch'S Mythology   \n",
       "123999  Cervantes, In Spanish          0           Don Quijote   \n",
       "52776         Thomas Bulfinch          1  Bulfinch'S Mythology   \n",
       "123826  Cervantes, In Spanish          0           Don Quijote   \n",
       "52912         Thomas Bulfinch          1  Bulfinch'S Mythology   \n",
       "53315         Thomas Bulfinch          1  Bulfinch'S Mythology   \n",
       "53735         Thomas Bulfinch          1  Bulfinch'S Mythology   \n",
       "111919          Thomas Malory          2      Le Mort D'Arthur   \n",
       "53417         Thomas Bulfinch          1  Bulfinch'S Mythology   \n",
       "123263  Cervantes, In Spanish          0           Don Quijote   \n",
       "111828          Thomas Malory          2      Le Mort D'Arthur   \n",
       "111296          Thomas Malory          2      Le Mort D'Arthur   \n",
       "52940         Thomas Bulfinch          1  Bulfinch'S Mythology   \n",
       "124025  Cervantes, In Spanish          0           Don Quijote   \n",
       "51949         Thomas Bulfinch          1  Bulfinch'S Mythology   \n",
       "\n",
       "                     input_file  \\\n",
       "111052  iso/etext98/2mart10.txt   \n",
       "124876  iso/etext99/2donq10.txt   \n",
       "125284  iso/etext99/2donq10.txt   \n",
       "53798   iso/etext04/bllfn10.txt   \n",
       "53873   iso/etext04/bllfn10.txt   \n",
       "51879   iso/etext04/bllfn10.txt   \n",
       "123999  iso/etext99/2donq10.txt   \n",
       "52776   iso/etext04/bllfn10.txt   \n",
       "123826  iso/etext99/2donq10.txt   \n",
       "52912   iso/etext04/bllfn10.txt   \n",
       "53315   iso/etext04/bllfn10.txt   \n",
       "53735   iso/etext04/bllfn10.txt   \n",
       "111919  iso/etext98/2mart10.txt   \n",
       "53417   iso/etext04/bllfn10.txt   \n",
       "123263  iso/etext99/2donq10.txt   \n",
       "111828  iso/etext98/2mart10.txt   \n",
       "111296  iso/etext98/2mart10.txt   \n",
       "52940   iso/etext04/bllfn10.txt   \n",
       "124025  iso/etext99/2donq10.txt   \n",
       "51949   iso/etext04/bllfn10.txt   \n",
       "\n",
       "                                               text_chunk  \n",
       "111052  Fair fellows, said Galihodin, yonder come four...  \n",
       "124876  ordenado: que todas las mujeres se entrasen en...  \n",
       "125284  que �l har�a que el marqu�s, su hermano, fuese...  \n",
       "53798   they brought before the king. Pentheus, behold...  \n",
       "53873   preparation of a robe for the funeral canopy o...  \n",
       "51879   he offered her a goblet of liquor. \"Drink this...  \n",
       "123999  las cosas tienen remedio, si no es la muerte, ...  \n",
       "52776   Sad and sorrowful was the maiden as she saw al...  \n",
       "123826  salir, ora fuese visto o no, con determinaci�n...  \n",
       "52912   go to the grotto of Galatea, and tell her how ...  \n",
       "53315   the queen, forgetting her resentment for her b...  \n",
       "53735   to his own kingdom of the Netherlands. Upon hi...  \n",
       "111919  then every knight knew him that it was Sir Lau...  \n",
       "53417   me evermore; but my time hieth fast. Therefore...  \n",
       "123263  mezcla de lenguas que tengo dicho me pregunt� ...  \n",
       "111828  Table were slain and destroyed, more than half...  \n",
       "111296  also the death of Sir Lamorak, that of knighth...  \n",
       "52940   and would have thrown him into the river, but ...  \n",
       "124025  y \"a idos de mi casa y qu� quer�is con mi muje...  \n",
       "51949   of buildings and pinnacles of the rocks, afrai...  "
      ]
     },
     "execution_count": 5,
     "metadata": {},
     "output_type": "execute_result"
    }
   ],
   "source": [
    "#select 3 books\n",
    "records = chunks\n",
    "id0 = 12 #Don Quijote in Spanish\n",
    "id1 = 79 #bullfinch Mythology\n",
    "id2 = 82 #Le Mort D'Arthur\n",
    "idx = (records['author_id'] == id0) | (records['author_id'] == id1) | (records['author_id'] == id2)\n",
    "records = records[idx].copy()\n",
    "records['author_id'] = records['author_id'].replace({id0:0, id1:1, id2:2})#, axis=1)\n",
    "records.head(20)"
   ]
  },
  {
   "cell_type": "code",
   "execution_count": 6,
   "metadata": {},
   "outputs": [
    {
     "name": "stdout",
     "output_type": "stream",
     "text": [
      "records.shape  =  (5782, 5)\n",
      "train.shape    =  (1908, 5)\n",
      "test.shape     =  (1937, 5)\n",
      "validate.shape =  (1937, 5)\n"
     ]
    }
   ],
   "source": [
    "#train-test-validate split\n",
    "train_size = 0.33\n",
    "validate_size=0.5   #this is the fraction of the test sample that is assigned to the validation sample\n",
    "rn_seed = 12\n",
    "from sklearn.model_selection import train_test_split\n",
    "train, test = train_test_split(records, train_size=train_size, random_state=rn_seed)\n",
    "validate, test = train_test_split(test, train_size=validate_size, random_state=rn_seed)\n",
    "print 'records.shape  = ', records.shape\n",
    "print 'train.shape    = ', train.shape\n",
    "print 'test.shape     = ', test.shape\n",
    "print 'validate.shape = ', validate.shape"
   ]
  },
  {
   "cell_type": "code",
   "execution_count": 7,
   "metadata": {},
   "outputs": [
    {
     "name": "stdout",
     "output_type": "stream",
     "text": [
      "3 3\n"
     ]
    }
   ],
   "source": [
    "#confirm that all 90 books have records in the training sample\n",
    "print len(train['input_file'].unique()), len(records['input_file'].unique())"
   ]
  },
  {
   "cell_type": "code",
   "execution_count": 8,
   "metadata": {},
   "outputs": [
    {
     "name": "stdout",
     "output_type": "stream",
     "text": [
      "number of distinct words =  56979\n",
      "llana, 1\n",
      "vuestra? 1\n",
      "Poetry 1\n",
      "rufi�n, 1\n",
      "woods 13\n",
      "hanging 10\n"
     ]
    }
   ],
   "source": [
    "#count word frequencies...there are 500K distinct words used in these books, really???\n",
    "#i'm not sure about the...maybe this is due to lack of treatment of punctuation characters\n",
    "from collections import defaultdict\n",
    "word_frequency = defaultdict(int)\n",
    "corpus = records['text_chunk'].tolist()\n",
    "for doc in corpus:\n",
    "    words = doc.split(' ')\n",
    "    for word in words:\n",
    "        word_frequency[word] += 1\n",
    "print 'number of distinct words = ', len(word_frequency.keys()) \n",
    "for word in word_frequency.keys()[1:7]:\n",
    "    print word, word_frequency[word]"
   ]
  },
  {
   "cell_type": "code",
   "execution_count": 9,
   "metadata": {},
   "outputs": [
    {
     "name": "stderr",
     "output_type": "stream",
     "text": [
      "Using TensorFlow backend.\n"
     ]
    }
   ],
   "source": [
    "#generate tokenizer\n",
    "vocabulary_size = 60000\n",
    "N_inputs = 100\n",
    "from keras.preprocessing.text import Tokenizer\n",
    "from keras.preprocessing.sequence import pad_sequences\n",
    "tokenizer = Tokenizer(num_words=vocabulary_size)"
   ]
  },
  {
   "cell_type": "code",
   "execution_count": 10,
   "metadata": {
    "collapsed": true
   },
   "outputs": [],
   "source": [
    "#this helper function extracts and tokenizes x, and extracts y and onehot-encodes it\n",
    "from keras.utils import np_utils\n",
    "def tokenize(df, tokenizer):\n",
    "    corpus = df['text_chunk'].tolist()\n",
    "    tokenizer.fit_on_texts(corpus)\n",
    "    corpus_tokenized = tokenizer.texts_to_sequences(corpus)\n",
    "    corpus_padded = pad_sequences(corpus_tokenized, maxlen=N_inputs)\n",
    "    x = np.array(corpus_padded)\n",
    "    y_ids = df['author_id'].values\n",
    "    y = np_utils.to_categorical(y_ids)\n",
    "    return x, y"
   ]
  },
  {
   "cell_type": "code",
   "execution_count": 11,
   "metadata": {},
   "outputs": [
    {
     "name": "stdout",
     "output_type": "stream",
     "text": [
      "x_train.shape =  (1908, 100)\n",
      "y_train.shape =  (1908, 3)\n",
      "N_inputs =  100\n",
      "N_outputs =  3\n",
      "vocabulary_size =  60000 0 18573\n"
     ]
    }
   ],
   "source": [
    "#get training x,y with x-values being tokenized and y values onehot-encoded\n",
    "x_train, y_train = tokenize(train, tokenizer)\n",
    "N_inputs = x_train.shape[1]\n",
    "N_outputs = y_train.shape[1]\n",
    "print 'x_train.shape = ', x_train.shape\n",
    "print 'y_train.shape = ', y_train.shape\n",
    "print 'N_inputs = ', N_inputs\n",
    "print 'N_outputs = ', N_outputs\n",
    "print 'vocabulary_size = ', vocabulary_size, x_train.min(), x_train.max()"
   ]
  },
  {
   "cell_type": "code",
   "execution_count": 12,
   "metadata": {},
   "outputs": [
    {
     "name": "stdout",
     "output_type": "stream",
     "text": [
      "author                                          Thomas Bulfinch\n",
      "author_id                                                     1\n",
      "title                                      Bulfinch'S Mythology\n",
      "input_file                              iso/etext04/bllfn10.txt\n",
      "text_chunk    up, called on his companions to seek with him ...\n",
      "Name: 52316, dtype: object\n",
      "up, called on his companions to seek with him a place of safety. On the right they found an adjoining chamber, into which the others entered, but Thor remained at the doorway with his mallet in his hand, prepared to defend himself, whatever might happen. A terrible groaning was heard during the night, and at dawn of day Thor went out and found lying near him a huge giant, who slept and snored in the way that had alarmed them so. It is said that for once Thor was afraid to use his mallet, and as the giant soon waked \n",
      "[  166   201    51    12  1137     8   446    22    19     4   287     5\n",
      "  2554    51     1   224    25   174    85  6589   492   103    54     1\n",
      "   608   447    38  1051  1042    47     1 11111    22    12  4028    15\n",
      "    12   184  1131     8  1468   157  1271   129  3372     4  1353 10521\n",
      "    17   185  1435     1   232     2    47  1850     5   125  1051   134\n",
      "   131     2   174  1491   454    19     4  1743   902    94  1072     2\n",
      " 16541    15     1   255    11    43  4585    67    29    27    41    23\n",
      "    11    21   504  1051    17  3749     8  1039    12  4028     2    32\n",
      "     1   902   306  3031]\n",
      "[ 0.  1.  0.]\n"
     ]
    }
   ],
   "source": [
    "#display a training record\n",
    "idx = 121\n",
    "print train.iloc[idx]\n",
    "text_chunk = train.iloc[idx]['text_chunk']\n",
    "print text_chunk\n",
    "print x_train[idx]\n",
    "print y_train[idx]"
   ]
  },
  {
   "cell_type": "code",
   "execution_count": 13,
   "metadata": {},
   "outputs": [
    {
     "name": "stdout",
     "output_type": "stream",
     "text": [
      "['up', 'called', 'on', 'his', 'companions', 'to', 'seek', 'with', 'him', 'a', 'place', 'of', 'safety', 'on', 'the']\n",
      "[166, 201, 51, 12, 1137, 8, 446, 22, 19, 4, 287, 5, 2554, 51, 1]\n"
     ]
    }
   ],
   "source": [
    "#show that the vectorized text preserves word order while dropping punctuation\n",
    "tokens = []\n",
    "words_marked = text_chunk.split(' ')[0:15]\n",
    "words = [word.lower().strip(',').strip('.') for word in words_marked]\n",
    "tokens = [tokenizer.word_index[word] for word in words]\n",
    "print words\n",
    "print tokens"
   ]
  },
  {
   "cell_type": "code",
   "execution_count": 14,
   "metadata": {},
   "outputs": [
    {
     "name": "stdout",
     "output_type": "stream",
     "text": [
      "x_valid.shape =  (1937, 100)\n",
      "y_valid.shape =  (1937, 3)\n"
     ]
    }
   ],
   "source": [
    "#get validation x,y with x-values being tokenized and y values onehot-encoded\n",
    "x_valid, y_valid = tokenize(validate, tokenizer)\n",
    "print 'x_valid.shape = ', x_valid.shape\n",
    "print 'y_valid.shape = ', y_valid.shape"
   ]
  },
  {
   "cell_type": "code",
   "execution_count": 15,
   "metadata": {},
   "outputs": [
    {
     "name": "stdout",
     "output_type": "stream",
     "text": [
      "author                                            Thomas Malory\n",
      "author_id                                                     2\n",
      "title                                          Le Mort D'Arthur\n",
      "input_file                              iso/etext98/2mart10.txt\n",
      "text_chunk    was in a castle there besides Surluse; and the...\n",
      "Name: 110884, dtype: object\n",
      "was in a castle there besides Surluse; and there encountered with him a worshipful duke, and there Sir Palomides smote him over his horse's croup. And this duke was uncle unto King Arthur. Then Sir Elise's son rode unto Palomides, and Palomides served Elise in the same wise. When Sir Uwaine saw this he was wroth. Then he took his horse and encountered with Sir Palomides, and Palomides smote him so hard that he went to the earth, horse and man. And for to make a short tale, he smote down three brethren of Sir Gawaine, that is for to \n",
      "[    1    82   301   747  8755 13118     5 22205 20618 24222 13222 11602\n",
      "    14  1203   202  3813     5  3028 20458  4738     8    68 10247  1249\n",
      "    99   463   119  1143     1   713   185     5   165 18106    49  5311\n",
      "    99   511     1   159 23396    95    47   814  1338    37    58   863\n",
      "  5495  4744   119  2024    22    12  4935  3621   463  3621   463     5\n",
      "    54     1  5220    43     4  4083     2    54  3459   298   178    53\n",
      " 19358     4  1472   706    21 19689    17     5   149  4969  9807    99\n",
      "  6349  3621     2  2575  3621    27    17  4279  1111    21     1  2284\n",
      "     5     1   296   292]\n",
      "[ 0.  1.  0.]\n"
     ]
    }
   ],
   "source": [
    "#display a validation record\n",
    "idx = 123\n",
    "print validate.iloc[idx]\n",
    "print validate.iloc[idx]['text_chunk']\n",
    "print x_valid[321]\n",
    "print y_valid[321]"
   ]
  },
  {
   "cell_type": "code",
   "execution_count": 16,
   "metadata": {
    "collapsed": true
   },
   "outputs": [],
   "source": [
    "##architect a simple LSTM model...this one is adapted from \n",
    "##https://machinelearningmastery.com/multi-class-classification-tutorial-keras-deep-learning-library/\n",
    "#from keras.layers import Embedding, LSTM, Dense, Dropout#, Conv1D, MaxPooling1D, Activation\n",
    "#from keras.models import Sequential\n",
    "#from keras.models import Sequential\n",
    "#from keras.layers import Dense\n",
    "#def build_simple_lstm_model(N_inputs, N_hidden, N_outputs,):\n",
    "#    model = Sequential()\n",
    "#    model.add(Dense(N_hidden, input_dim=N_inputs, activation='relu'))\n",
    "#    model.add(Dense(N_outputs, activation='softmax'))\n",
    "#    model.compile(loss='categorical_crossentropy', optimizer='adam', metrics=['accuracy'])\n",
    "#    return model"
   ]
  },
  {
   "cell_type": "code",
   "execution_count": 17,
   "metadata": {
    "collapsed": true
   },
   "outputs": [],
   "source": [
    "##build a better LSTM model...this one is adapted from \n",
    "##http://www.developintelligence.com/blog/2017/06/practical-neural-networks-keras-classifying-yelp-reviews\n",
    "#from keras.layers import Embedding, LSTM, Dense, Dropout#, Conv1D, MaxPooling1D, Activation\n",
    "#from keras.models import Sequential\n",
    "#def build_lstm_model(N_inputs, N_outputs, vocabulary_size, embedding_vector_length):\n",
    "#    model = Sequential()\n",
    "#    model.add(Embedding(vocabulary_size, embedding_vector_length, input_length=N_inputs))\n",
    "#    model.add(LSTM(embedding_vector_length, dropout=0.2, recurrent_dropout=0.2))\n",
    "#    model.add(Dense(N_outputs, activation='softmax'))\n",
    "#    model.compile(loss='categorical_crossentropy', optimizer='adam', metrics=['accuracy'])\n",
    "#    return model"
   ]
  },
  {
   "cell_type": "code",
   "execution_count": 18,
   "metadata": {
    "collapsed": true
   },
   "outputs": [],
   "source": [
    "##this is a half-assed version of \n",
    "##https://towardsdatascience.com/applied-deep-learning-part-1-artificial-neural-networks-d7834f67a4f6\n",
    "#def build_lstm_model(N_inputs, N_outputs):\n",
    "#    model = Sequential()\n",
    "#    model.add(Dense(N_inputs, input_shape=(1,), activation='tanh'))\n",
    "#    model.add(Dense(N_inputs/2, activation='tanh'))\n",
    "#    dense_inputs = int(np.sqrt(N_inputs + N_outputs))\n",
    "#    model.add(Dense(dense_inputs, activation='tanh'))\n",
    "#    model.add(Dense(N_outputs, activation='softmax'))\n",
    "#    model.compile(loss='categorical_crossentropy', optimizer='adam', metrics=['accuracy'])\n",
    "#    return model\n",
    "#lstm_model = build_lstm_model(N_inputs, N_outputs)"
   ]
  },
  {
   "cell_type": "code",
   "execution_count": 79,
   "metadata": {
    "collapsed": true
   },
   "outputs": [],
   "source": [
    "#build an even better LSTM model...this one was adapted from\n",
    "#http://www.developintelligence.com/blog/2017/06/practical-neural-networks-keras-classifying-yelp-reviews\n",
    "from keras.layers import Embedding, LSTM, Dense, Dropout, Conv1D, MaxPooling1D\n",
    "from keras.models import Sequential\n",
    "def build_lstm_model(N_inputs, N_outputs, vocabulary_size, embedding_vector_length, conv_kernel_size, \n",
    "        dropout_fraction):\n",
    "    model = Sequential()\n",
    "    model.add(Embedding(vocabulary_size, embedding_vector_length, input_length=N_inputs))\n",
    "    model.add(Dropout(dropout_fraction))\n",
    "    N_classes = 2.5\n",
    "    conv_size = int(N_classes*embedding_vector_length)\n",
    "    model.add(Conv1D(conv_size, conv_kernel_size, activation='linear'))\n",
    "    pool_size = int(conv_kernel_size/2)\n",
    "    model.add(MaxPooling1D(pool_size=pool_size))\n",
    "    lstm_size = int(embedding_vector_length/pool_size)\n",
    "    model.add(LSTM(lstm_size, activation='linear'))\n",
    "    model.add(Dropout(dropout_fraction))\n",
    "    model.add(Dense(N_outputs, activation='sigmoid'))\n",
    "    model.compile(loss='categorical_crossentropy', optimizer='adam', metrics=['accuracy'])\n",
    "    return model"
   ]
  },
  {
   "cell_type": "code",
   "execution_count": 96,
   "metadata": {},
   "outputs": [
    {
     "name": "stdout",
     "output_type": "stream",
     "text": [
      "N_training_epochs =  150\n",
      "batch_size =  7000\n",
      "number of samples =  3845\n",
      "vocabulary_size =  60000\n",
      "embedding_vector_length =  25\n",
      "conv_kernel_size =  12\n",
      "dropout_fraction =  0.85\n",
      "N_inputs =  100 100\n",
      "N_outputs =  3 3\n",
      "rn_seed =  16\n"
     ]
    }
   ],
   "source": [
    "#assemble the lstm model\n",
    "N_training_epochs = 150\n",
    "batch_size = 7000\n",
    "embedding_vector_length = 25\n",
    "conv_kernel_size = 12\n",
    "dropout_fraction = 0.85\n",
    "rn_seed = 16\n",
    "print 'N_training_epochs = ', N_training_epochs\n",
    "print 'batch_size = ', batch_size\n",
    "print 'number of samples = ', x_train.shape[0] + x_valid.shape[0]\n",
    "print 'vocabulary_size = ', vocabulary_size\n",
    "print 'embedding_vector_length = ', embedding_vector_length\n",
    "print 'conv_kernel_size = ', conv_kernel_size\n",
    "print 'dropout_fraction = ', dropout_fraction\n",
    "print 'N_inputs = ', N_inputs, x_train.shape[1]\n",
    "print 'N_outputs = ', N_outputs, y_train.shape[1]\n",
    "print 'rn_seed = ', rn_seed\n",
    "import random\n",
    "random.seed(rn_seed)\n",
    "lstm_model = build_lstm_model(N_inputs, N_outputs, vocabulary_size, embedding_vector_length, conv_kernel_size,\n",
    "    dropout_fraction)"
   ]
  },
  {
   "cell_type": "code",
   "execution_count": 97,
   "metadata": {
    "scrolled": true
   },
   "outputs": [],
   "source": [
    "#fit model to the training data\n",
    "fit_history = lstm_model.fit(x_train, y_train, epochs=N_training_epochs, batch_size=batch_size, verbose=0, \\\n",
    "    validation_data=(x_valid, y_valid))"
   ]
  },
  {
   "cell_type": "code",
   "execution_count": 98,
   "metadata": {},
   "outputs": [
    {
     "data": {
      "image/png": "[encoded data removed]",
      "text/plain": [
       "<matplotlib.figure.Figure at 0x7f92ddd3fbd0>"
      ]
     },
     "metadata": {},
     "output_type": "display_data"
    }
   ],
   "source": [
    "#plot accuracy vs training epoch\n",
    "fig, ax = plt.subplots(1,1, figsize=(15, 6))\n",
    "xp = fit_history.epoch\n",
    "yp = fit_history.history['acc']\n",
    "ax.plot(xp, yp, label='training sample')\n",
    "yp = fit_history.history['val_acc']\n",
    "ax.plot(xp, yp, label='validation sample')\n",
    "ax.set_title('classifier accuracy versus epoch')\n",
    "ax.set_ylabel('accuracy')\n",
    "ax.set_xlabel('training epoch')\n",
    "ax.legend()\n",
    "plt.savefig('figs/accuracy.png')"
   ]
  },
  {
   "cell_type": "code",
   "execution_count": 99,
   "metadata": {},
   "outputs": [
    {
     "data": {
      "image/png": "[encoded data removed]",
      "text/plain": [
       "<matplotlib.figure.Figure at 0x7f92deb28310>"
      ]
     },
     "metadata": {},
     "output_type": "display_data"
    }
   ],
   "source": [
    "#plot loss function vs training epoch\n",
    "fig, ax = plt.subplots(1,1, figsize=(15, 6))\n",
    "xp = fit_history.epoch\n",
    "yp = fit_history.history['loss']\n",
    "ax.plot(xp, yp, label='training sample')\n",
    "yp = fit_history.history['val_loss']\n",
    "ax.plot(xp, yp, label='validation sample')\n",
    "ax.set_title('loss function versus epoch')\n",
    "ax.set_ylabel('loss function')\n",
    "ax.set_xlabel('training epoch')\n",
    "ax.legend()\n",
    "plt.savefig('figs/loss.png')"
   ]
  },
  {
   "cell_type": "code",
   "execution_count": 43,
   "metadata": {
    "collapsed": true
   },
   "outputs": [],
   "source": [
    "#model.predict(x_test)"
   ]
  },
  {
   "cell_type": "code",
   "execution_count": null,
   "metadata": {
    "collapsed": true
   },
   "outputs": [],
   "source": []
  }
 ],
 "metadata": {
  "hide_input": false,
  "kernelspec": {
   "display_name": "Python 2",
   "language": "python",
   "name": "python2"
  },
  "language_info": {
   "codemirror_mode": {
    "name": "ipython",
    "version": 2
   },
   "file_extension": ".py",
   "mimetype": "text/x-python",
   "name": "python",
   "nbconvert_exporter": "python",
   "pygments_lexer": "ipython2",
   "version": "2.7.6"
  }
 },
 "nbformat": 4,
 "nbformat_minor": 2
}
