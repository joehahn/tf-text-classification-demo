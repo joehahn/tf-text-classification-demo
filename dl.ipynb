{
 "cells": [
  {
   "cell_type": "code",
   "execution_count": 1,
   "metadata": {
    "collapsed": true
   },
   "outputs": [],
   "source": [
    "#dl.ipynb\n",
    "#\n",
    "#by Joe Hahn\n",
    "#jmh.datasciences@gmail.com\n",
    "#24 January 2018"
   ]
  },
  {
   "cell_type": "code",
   "execution_count": 2,
   "metadata": {},
   "outputs": [
    {
     "name": "stdout",
     "output_type": "stream",
     "text": [
      "height has been deprecated.\n",
      "\n"
     ]
    }
   ],
   "source": [
    "#import matplotlib pandas etc\n",
    "%matplotlib inline\n",
    "import seaborn as sns\n",
    "import matplotlib.pyplot as plt\n",
    "import datetime\n",
    "import numpy as np\n",
    "import pandas as pd\n",
    "from matplotlib import rcParams\n",
    "sns.set(font_scale=1.5, font='DejaVu Sans')\n",
    "pd.set_option('display.max_columns', None)\n",
    "pd.set_option('display.height', None)\n",
    "pd.set_option('display.width', None)"
   ]
  },
  {
   "cell_type": "code",
   "execution_count": 3,
   "metadata": {},
   "outputs": [
    {
     "name": "stdout",
     "output_type": "stream",
     "text": [
      "number of records =  249870\n"
     ]
    },
    {
     "data": {
      "text/html": [
       "<div>\n",
       "<table border=\"1\" class=\"dataframe\">\n",
       "  <thead>\n",
       "    <tr style=\"text-align: right;\">\n",
       "      <th></th>\n",
       "      <th>author</th>\n",
       "      <th>title</th>\n",
       "      <th>input_file</th>\n",
       "      <th>text_chunk</th>\n",
       "    </tr>\n",
       "  </thead>\n",
       "  <tbody>\n",
       "    <tr>\n",
       "      <th>5732</th>\n",
       "      <td>Macaulay</td>\n",
       "      <td>Critical &amp; Historical Essays</td>\n",
       "      <td>iso/etext00/1cahe10.txt</td>\n",
       "      <td>tribunal. The London juries, he said, entertai...</td>\n",
       "    </tr>\n",
       "    <tr>\n",
       "      <th>5733</th>\n",
       "      <td>Macaulay</td>\n",
       "      <td>Critical &amp; Historical Essays</td>\n",
       "      <td>iso/etext00/1cahe10.txt</td>\n",
       "      <td>devils as there were tiles on the houses, or l...</td>\n",
       "    </tr>\n",
       "    <tr>\n",
       "      <th>5734</th>\n",
       "      <td>Macaulay</td>\n",
       "      <td>Critical &amp; Historical Essays</td>\n",
       "      <td>iso/etext00/1cahe10.txt</td>\n",
       "      <td>indeed be, if we were to suppose that the nati...</td>\n",
       "    </tr>\n",
       "    <tr>\n",
       "      <th>5735</th>\n",
       "      <td>Macaulay</td>\n",
       "      <td>Critical &amp; Historical Essays</td>\n",
       "      <td>iso/etext00/1cahe10.txt</td>\n",
       "      <td>reign of Elizabeth, the people were in a state...</td>\n",
       "    </tr>\n",
       "    <tr>\n",
       "      <th>5736</th>\n",
       "      <td>Macaulay</td>\n",
       "      <td>Critical &amp; Historical Essays</td>\n",
       "      <td>iso/etext00/1cahe10.txt</td>\n",
       "      <td>Queen of Scotland, the hostility of Philip, ex...</td>\n",
       "    </tr>\n",
       "  </tbody>\n",
       "</table>\n",
       "</div>"
      ],
      "text/plain": [
       "        author                         title               input_file  \\\n",
       "5732  Macaulay  Critical & Historical Essays  iso/etext00/1cahe10.txt   \n",
       "5733  Macaulay  Critical & Historical Essays  iso/etext00/1cahe10.txt   \n",
       "5734  Macaulay  Critical & Historical Essays  iso/etext00/1cahe10.txt   \n",
       "5735  Macaulay  Critical & Historical Essays  iso/etext00/1cahe10.txt   \n",
       "5736  Macaulay  Critical & Historical Essays  iso/etext00/1cahe10.txt   \n",
       "\n",
       "                                             text_chunk  \n",
       "5732  tribunal. The London juries, he said, entertai...  \n",
       "5733  devils as there were tiles on the houses, or l...  \n",
       "5734  indeed be, if we were to suppose that the nati...  \n",
       "5735  reign of Elizabeth, the people were in a state...  \n",
       "5736  Queen of Scotland, the hostility of Philip, ex...  "
      ]
     },
     "execution_count": 3,
     "metadata": {},
     "output_type": "execute_result"
    }
   ],
   "source": [
    "#read books dataframe\n",
    "import pickle\n",
    "with open('chunks.pkl', 'rb') as fp:\n",
    "    chunks = pickle.load(fp)\n",
    "print 'number of records = ', len(chunks)\n",
    "chunks.head()"
   ]
  },
  {
   "cell_type": "code",
   "execution_count": 4,
   "metadata": {
    "collapsed": true
   },
   "outputs": [],
   "source": [
    "#apply some manual fixes to the some improperly parsed authors and titles\n",
    "idx = chunks['author'].str.contains('Proudhon')\n",
    "chunks.loc[idx, 'author'] = 'Proudhon'\n",
    "idx = chunks['author'].str.contains('Homer')\n",
    "chunks.loc[idx, 'author'] = 'Homer'\n",
    "idx = chunks['author'].str.contains('Wake, Entire')\n",
    "chunks.loc[idx, 'author'] = 'Archbishop Wake'\n",
    "chunks.loc[idx, 'title'] = 'Forbidden Gospels and Epistles, Complete'\n",
    "idx = chunks['title'].str.contains('War And Peace')\n",
    "chunks.loc[idx, 'author'] = 'Leo Tolstoy'\n",
    "idx = chunks['title'].str.contains('Nicholas Nickle')\n",
    "chunks.loc[idx, 'title'] = 'Nicholas Nickleby'\n",
    "chunks.loc[idx, 'author'] = 'Dickens'\n",
    "idx = chunks['author'].str.contains('Dick,')\n",
    "chunks.loc[idx, 'title'] = 'Moby Dick'\n",
    "chunks.loc[idx, 'author'] = 'Herman Melville'\n",
    "idx = (chunks['author'] == 'Sshe')\n",
    "chunks.loc[idx, 'author'] = 'Percy Bysshe Shelley'\n",
    "chunks.loc[idx, 'title'] = 'The Complete Poetical Works of Percy Bysshe'\n",
    "idx = chunks['author'].str.contains('Maupassant')\n",
    "chunks.loc[idx, 'author'] = 'Maupassant'\n",
    "idx = chunks['author'].str.contains('Dumas')\n",
    "chunks.loc[idx, 'author'] = 'Dumas'\n",
    "idx = chunks['author'].str.contains('Constant')\n",
    "chunks.loc[idx, 'author'] = 'Constant'\n",
    "idx = chunks['title'].str.contains('Supplemental Nights')\n",
    "chunks.loc[idx, 'author'] = 'Sir Richard Francis Burton'\n",
    "idx = chunks['title'].str.contains(\"Plutarch'S Lives\")\n",
    "chunks.loc[idx, 'title'] = \"Plutarch's Lives\"\n",
    "idx = chunks['author'].str.contains(\"Xenophon\")\n",
    "chunks.loc[idx, 'author'] = \"Xenophon\""
   ]
  },
  {
   "cell_type": "code",
   "execution_count": 5,
   "metadata": {
    "scrolled": false
   },
   "outputs": [
    {
     "data": {
      "text/html": [
       "<div>\n",
       "<table border=\"1\" class=\"dataframe\">\n",
       "  <thead>\n",
       "    <tr style=\"text-align: right;\">\n",
       "      <th></th>\n",
       "      <th>input_file</th>\n",
       "      <th>chunk_count</th>\n",
       "      <th>cumulative_sum</th>\n",
       "    </tr>\n",
       "  </thead>\n",
       "  <tbody>\n",
       "    <tr>\n",
       "      <th>0</th>\n",
       "      <td>iso/etext98/2ws2710.txt</td>\n",
       "      <td>17</td>\n",
       "      <td>0.000068</td>\n",
       "    </tr>\n",
       "    <tr>\n",
       "      <th>1</th>\n",
       "      <td>iso/etext98/2ws4510.txt</td>\n",
       "      <td>25</td>\n",
       "      <td>0.000168</td>\n",
       "    </tr>\n",
       "    <tr>\n",
       "      <th>2</th>\n",
       "      <td>iso/etext98/2ws4410.txt</td>\n",
       "      <td>32</td>\n",
       "      <td>0.000296</td>\n",
       "    </tr>\n",
       "    <tr>\n",
       "      <th>3</th>\n",
       "      <td>iso/etext03/fgths10.txt</td>\n",
       "      <td>34</td>\n",
       "      <td>0.000432</td>\n",
       "    </tr>\n",
       "    <tr>\n",
       "      <th>4</th>\n",
       "      <td>iso/etext97/mdprp10.txt</td>\n",
       "      <td>37</td>\n",
       "      <td>0.000580</td>\n",
       "    </tr>\n",
       "  </tbody>\n",
       "</table>\n",
       "</div>"
      ],
      "text/plain": [
       "                input_file  chunk_count  cumulative_sum\n",
       "0  iso/etext98/2ws2710.txt           17        0.000068\n",
       "1  iso/etext98/2ws4510.txt           25        0.000168\n",
       "2  iso/etext98/2ws4410.txt           32        0.000296\n",
       "3  iso/etext03/fgths10.txt           34        0.000432\n",
       "4  iso/etext97/mdprp10.txt           37        0.000580"
      ]
     },
     "execution_count": 5,
     "metadata": {},
     "output_type": "execute_result"
    }
   ],
   "source": [
    "#count number of chunks each book has, and cumulative sum\n",
    "count = pd.DataFrame(chunks.groupby('input_file')['title'].count().sort_values())\n",
    "count.columns = ['chunk_count']\n",
    "count['cumulative_sum'] = count['chunk_count'].cumsum()\n",
    "count['cumulative_sum'] /= count['cumulative_sum'].max()\n",
    "count = count.reset_index(level=0)\n",
    "count.head()"
   ]
  },
  {
   "cell_type": "code",
   "execution_count": 6,
   "metadata": {},
   "outputs": [
    {
     "data": {
      "image/png": "[encoded data removed]",
      "text/plain": [
       "<matplotlib.figure.Figure at 0x7f0df832a3d0>"
      ]
     },
     "metadata": {},
     "output_type": "display_data"
    }
   ],
   "source": [
    "#plot cumulative sum of chunk counts...selecting books having 750 to 2200 chunks would capture\n",
    "#the majority of books without causing serious class imbalance among the shorter books\n",
    "fig, ax = plt.subplots(figsize=(12, 6))\n",
    "xp = count['chunk_count']\n",
    "yp = count['cumulative_sum']\n",
    "p = ax.plot(xp, yp, drawstyle='steps-mid')\n",
    "p = ax.set_xlabel('number of chunks')\n",
    "p = ax.set_ylabel('fraction of books')\n",
    "p = ax.set_title('fraction of books having indicated number of chunks')\n",
    "plt.savefig('figs/chunks.png')"
   ]
  },
  {
   "cell_type": "code",
   "execution_count": 7,
   "metadata": {},
   "outputs": [
    {
     "name": "stdout",
     "output_type": "stream",
     "text": [
      "number of records =  176706\n"
     ]
    },
    {
     "data": {
      "text/html": [
       "<div>\n",
       "<table border=\"1\" class=\"dataframe\">\n",
       "  <thead>\n",
       "    <tr style=\"text-align: right;\">\n",
       "      <th></th>\n",
       "      <th>author</th>\n",
       "      <th>title</th>\n",
       "      <th>input_file</th>\n",
       "      <th>text_chunk</th>\n",
       "      <th>chunk_count</th>\n",
       "      <th>cumulative_sum</th>\n",
       "    </tr>\n",
       "  </thead>\n",
       "  <tbody>\n",
       "    <tr>\n",
       "      <th>0</th>\n",
       "      <td>Macaulay</td>\n",
       "      <td>Critical &amp; Historical Essays</td>\n",
       "      <td>iso/etext00/1cahe10.txt</td>\n",
       "      <td>tribunal. The London juries, he said, entertai...</td>\n",
       "      <td>2075</td>\n",
       "      <td>0.762961</td>\n",
       "    </tr>\n",
       "    <tr>\n",
       "      <th>1</th>\n",
       "      <td>Macaulay</td>\n",
       "      <td>Critical &amp; Historical Essays</td>\n",
       "      <td>iso/etext00/1cahe10.txt</td>\n",
       "      <td>devils as there were tiles on the houses, or l...</td>\n",
       "      <td>2075</td>\n",
       "      <td>0.762961</td>\n",
       "    </tr>\n",
       "    <tr>\n",
       "      <th>2</th>\n",
       "      <td>Macaulay</td>\n",
       "      <td>Critical &amp; Historical Essays</td>\n",
       "      <td>iso/etext00/1cahe10.txt</td>\n",
       "      <td>indeed be, if we were to suppose that the nati...</td>\n",
       "      <td>2075</td>\n",
       "      <td>0.762961</td>\n",
       "    </tr>\n",
       "    <tr>\n",
       "      <th>3</th>\n",
       "      <td>Macaulay</td>\n",
       "      <td>Critical &amp; Historical Essays</td>\n",
       "      <td>iso/etext00/1cahe10.txt</td>\n",
       "      <td>reign of Elizabeth, the people were in a state...</td>\n",
       "      <td>2075</td>\n",
       "      <td>0.762961</td>\n",
       "    </tr>\n",
       "    <tr>\n",
       "      <th>4</th>\n",
       "      <td>Macaulay</td>\n",
       "      <td>Critical &amp; Historical Essays</td>\n",
       "      <td>iso/etext00/1cahe10.txt</td>\n",
       "      <td>Queen of Scotland, the hostility of Philip, ex...</td>\n",
       "      <td>2075</td>\n",
       "      <td>0.762961</td>\n",
       "    </tr>\n",
       "  </tbody>\n",
       "</table>\n",
       "</div>"
      ],
      "text/plain": [
       "     author                         title               input_file  \\\n",
       "0  Macaulay  Critical & Historical Essays  iso/etext00/1cahe10.txt   \n",
       "1  Macaulay  Critical & Historical Essays  iso/etext00/1cahe10.txt   \n",
       "2  Macaulay  Critical & Historical Essays  iso/etext00/1cahe10.txt   \n",
       "3  Macaulay  Critical & Historical Essays  iso/etext00/1cahe10.txt   \n",
       "4  Macaulay  Critical & Historical Essays  iso/etext00/1cahe10.txt   \n",
       "\n",
       "                                          text_chunk  chunk_count  \\\n",
       "0  tribunal. The London juries, he said, entertai...         2075   \n",
       "1  devils as there were tiles on the houses, or l...         2075   \n",
       "2  indeed be, if we were to suppose that the nati...         2075   \n",
       "3  reign of Elizabeth, the people were in a state...         2075   \n",
       "4  Queen of Scotland, the hostility of Philip, ex...         2075   \n",
       "\n",
       "   cumulative_sum  \n",
       "0        0.762961  \n",
       "1        0.762961  \n",
       "2        0.762961  \n",
       "3        0.762961  \n",
       "4        0.762961  "
      ]
     },
     "execution_count": 7,
     "metadata": {},
     "output_type": "execute_result"
    }
   ],
   "source": [
    "#preserve records associated with books having 750+ chunks\n",
    "chunks_counted = chunks.merge(count, on='input_file', how='inner')\n",
    "idx = chunks_counted['chunk_count'] > 750\n",
    "chunks_counted = chunks_counted[idx]\n",
    "print 'number of records = ', len(chunks_counted)\n",
    "chunks_counted.head()"
   ]
  },
  {
   "cell_type": "code",
   "execution_count": 8,
   "metadata": {},
   "outputs": [
    {
     "name": "stdout",
     "output_type": "stream",
     "text": [
      "number of records =  165450\n"
     ]
    },
    {
     "data": {
      "text/html": [
       "<div>\n",
       "<table border=\"1\" class=\"dataframe\">\n",
       "  <thead>\n",
       "    <tr style=\"text-align: right;\">\n",
       "      <th></th>\n",
       "      <th>author</th>\n",
       "      <th>title</th>\n",
       "      <th>input_file</th>\n",
       "      <th>text_chunk</th>\n",
       "      <th>chunk_count</th>\n",
       "      <th>cumulative_sum</th>\n",
       "    </tr>\n",
       "  </thead>\n",
       "  <tbody>\n",
       "    <tr>\n",
       "      <th>0</th>\n",
       "      <td>Macaulay</td>\n",
       "      <td>Critical &amp; Historical Essays</td>\n",
       "      <td>iso/etext00/1cahe10.txt</td>\n",
       "      <td>tribunal. The London juries, he said, entertai...</td>\n",
       "      <td>2075</td>\n",
       "      <td>0.762961</td>\n",
       "    </tr>\n",
       "    <tr>\n",
       "      <th>1</th>\n",
       "      <td>Macaulay</td>\n",
       "      <td>Critical &amp; Historical Essays</td>\n",
       "      <td>iso/etext00/1cahe10.txt</td>\n",
       "      <td>devils as there were tiles on the houses, or l...</td>\n",
       "      <td>2075</td>\n",
       "      <td>0.762961</td>\n",
       "    </tr>\n",
       "    <tr>\n",
       "      <th>2</th>\n",
       "      <td>Macaulay</td>\n",
       "      <td>Critical &amp; Historical Essays</td>\n",
       "      <td>iso/etext00/1cahe10.txt</td>\n",
       "      <td>indeed be, if we were to suppose that the nati...</td>\n",
       "      <td>2075</td>\n",
       "      <td>0.762961</td>\n",
       "    </tr>\n",
       "    <tr>\n",
       "      <th>3</th>\n",
       "      <td>Macaulay</td>\n",
       "      <td>Critical &amp; Historical Essays</td>\n",
       "      <td>iso/etext00/1cahe10.txt</td>\n",
       "      <td>reign of Elizabeth, the people were in a state...</td>\n",
       "      <td>2075</td>\n",
       "      <td>0.762961</td>\n",
       "    </tr>\n",
       "    <tr>\n",
       "      <th>4</th>\n",
       "      <td>Macaulay</td>\n",
       "      <td>Critical &amp; Historical Essays</td>\n",
       "      <td>iso/etext00/1cahe10.txt</td>\n",
       "      <td>Queen of Scotland, the hostility of Philip, ex...</td>\n",
       "      <td>2075</td>\n",
       "      <td>0.762961</td>\n",
       "    </tr>\n",
       "  </tbody>\n",
       "</table>\n",
       "</div>"
      ],
      "text/plain": [
       "     author                         title               input_file  \\\n",
       "0  Macaulay  Critical & Historical Essays  iso/etext00/1cahe10.txt   \n",
       "1  Macaulay  Critical & Historical Essays  iso/etext00/1cahe10.txt   \n",
       "2  Macaulay  Critical & Historical Essays  iso/etext00/1cahe10.txt   \n",
       "3  Macaulay  Critical & Historical Essays  iso/etext00/1cahe10.txt   \n",
       "4  Macaulay  Critical & Historical Essays  iso/etext00/1cahe10.txt   \n",
       "\n",
       "                                          text_chunk  chunk_count  \\\n",
       "0  tribunal. The London juries, he said, entertai...         2075   \n",
       "1  devils as there were tiles on the houses, or l...         2075   \n",
       "2  indeed be, if we were to suppose that the nati...         2075   \n",
       "3  reign of Elizabeth, the people were in a state...         2075   \n",
       "4  Queen of Scotland, the hostility of Philip, ex...         2075   \n",
       "\n",
       "   cumulative_sum  \n",
       "0        0.762961  \n",
       "1        0.762961  \n",
       "2        0.762961  \n",
       "3        0.762961  \n",
       "4        0.762961  "
      ]
     },
     "execution_count": 8,
     "metadata": {},
     "output_type": "execute_result"
    }
   ],
   "source": [
    "#loop over each input_file and preserve random sample of each book's chunks, up to 2200 max\n",
    "chunks_sampled = pd.DataFrame()\n",
    "input_files = chunks_counted['input_file'].unique()\n",
    "for input_file in input_files: \n",
    "    idx = (chunks_counted['input_file'] == input_file)\n",
    "    df = chunks_counted[idx]\n",
    "    Ns = len(df)\n",
    "    if (Ns > 2200):\n",
    "        df = df.sample(2200)\n",
    "    chunks_sampled = chunks_sampled.append(df, ignore_index=True)\n",
    "print 'number of records = ', len(chunks_sampled)\n",
    "chunks_sampled.head()"
   ]
  },
  {
   "cell_type": "code",
   "execution_count": 9,
   "metadata": {
    "scrolled": false
   },
   "outputs": [
    {
     "name": "stdout",
     "output_type": "stream",
     "text": [
      "757 2200\n",
      "number of records =  165450\n"
     ]
    },
    {
     "data": {
      "text/html": [
       "<div>\n",
       "<table border=\"1\" class=\"dataframe\">\n",
       "  <thead>\n",
       "    <tr style=\"text-align: right;\">\n",
       "      <th></th>\n",
       "      <th>author</th>\n",
       "      <th>title</th>\n",
       "      <th>input_file</th>\n",
       "      <th>text_chunk</th>\n",
       "      <th>chunk_count</th>\n",
       "    </tr>\n",
       "  </thead>\n",
       "  <tbody>\n",
       "    <tr>\n",
       "      <th>0</th>\n",
       "      <td>Macaulay</td>\n",
       "      <td>Critical &amp; Historical Essays</td>\n",
       "      <td>iso/etext00/1cahe10.txt</td>\n",
       "      <td>tribunal. The London juries, he said, entertai...</td>\n",
       "      <td>2075</td>\n",
       "    </tr>\n",
       "    <tr>\n",
       "      <th>1</th>\n",
       "      <td>Macaulay</td>\n",
       "      <td>Critical &amp; Historical Essays</td>\n",
       "      <td>iso/etext00/1cahe10.txt</td>\n",
       "      <td>devils as there were tiles on the houses, or l...</td>\n",
       "      <td>2075</td>\n",
       "    </tr>\n",
       "    <tr>\n",
       "      <th>2</th>\n",
       "      <td>Macaulay</td>\n",
       "      <td>Critical &amp; Historical Essays</td>\n",
       "      <td>iso/etext00/1cahe10.txt</td>\n",
       "      <td>indeed be, if we were to suppose that the nati...</td>\n",
       "      <td>2075</td>\n",
       "    </tr>\n",
       "    <tr>\n",
       "      <th>3</th>\n",
       "      <td>Macaulay</td>\n",
       "      <td>Critical &amp; Historical Essays</td>\n",
       "      <td>iso/etext00/1cahe10.txt</td>\n",
       "      <td>reign of Elizabeth, the people were in a state...</td>\n",
       "      <td>2075</td>\n",
       "    </tr>\n",
       "    <tr>\n",
       "      <th>4</th>\n",
       "      <td>Macaulay</td>\n",
       "      <td>Critical &amp; Historical Essays</td>\n",
       "      <td>iso/etext00/1cahe10.txt</td>\n",
       "      <td>Queen of Scotland, the hostility of Philip, ex...</td>\n",
       "      <td>2075</td>\n",
       "    </tr>\n",
       "  </tbody>\n",
       "</table>\n",
       "</div>"
      ],
      "text/plain": [
       "     author                         title               input_file  \\\n",
       "0  Macaulay  Critical & Historical Essays  iso/etext00/1cahe10.txt   \n",
       "1  Macaulay  Critical & Historical Essays  iso/etext00/1cahe10.txt   \n",
       "2  Macaulay  Critical & Historical Essays  iso/etext00/1cahe10.txt   \n",
       "3  Macaulay  Critical & Historical Essays  iso/etext00/1cahe10.txt   \n",
       "4  Macaulay  Critical & Historical Essays  iso/etext00/1cahe10.txt   \n",
       "\n",
       "                                          text_chunk  chunk_count  \n",
       "0  tribunal. The London juries, he said, entertai...         2075  \n",
       "1  devils as there were tiles on the houses, or l...         2075  \n",
       "2  indeed be, if we were to suppose that the nati...         2075  \n",
       "3  reign of Elizabeth, the people were in a state...         2075  \n",
       "4  Queen of Scotland, the hostility of Philip, ex...         2075  "
      ]
     },
     "execution_count": 9,
     "metadata": {},
     "output_type": "execute_result"
    }
   ],
   "source": [
    "#confirm that book contribute 750 to 2200 chunks\n",
    "N_chunks = pd.DataFrame(chunks_sampled.groupby('input_file')['input_file'].count())\n",
    "N_chunks.columns = ['chunk_count']\n",
    "N_chunks = N_chunks.reset_index(level=0)\n",
    "cols = [u'author', u'title', u'input_file', u'text_chunk']\n",
    "chunks_recounted = chunks_sampled[cols].merge(N_chunks, on='input_file', how='inner')\n",
    "cols = [u'author', u'title', u'input_file', 'chunk_count', u'text_chunk']\n",
    "print chunks_recounted['chunk_count'].min(), chunks_recounted['chunk_count'].max()\n",
    "print 'number of records = ', len(chunks_recounted)\n",
    "chunks_recounted.head()"
   ]
  },
  {
   "cell_type": "code",
   "execution_count": 10,
   "metadata": {
    "scrolled": false
   },
   "outputs": [
    {
     "name": "stdout",
     "output_type": "stream",
     "text": [
      "number of books =  90\n"
     ]
    },
    {
     "data": {
      "text/html": [
       "<div>\n",
       "<table border=\"1\" class=\"dataframe\">\n",
       "  <thead>\n",
       "    <tr style=\"text-align: right;\">\n",
       "      <th></th>\n",
       "      <th>author</th>\n",
       "      <th>title</th>\n",
       "      <th>input_file</th>\n",
       "      <th>text_chunk</th>\n",
       "      <th>author_id</th>\n",
       "    </tr>\n",
       "  </thead>\n",
       "  <tbody>\n",
       "    <tr>\n",
       "      <th>0</th>\n",
       "      <td>A.H. Clough</td>\n",
       "      <td>Plutarch's Lives</td>\n",
       "      <td>iso/etext96/plivs10.txt</td>\n",
       "      <td>2200</td>\n",
       "      <td>0</td>\n",
       "    </tr>\n",
       "    <tr>\n",
       "      <th>1</th>\n",
       "      <td>Adam Smith</td>\n",
       "      <td>Wealth Of Nations</td>\n",
       "      <td>iso/etext02/wltnt10.txt</td>\n",
       "      <td>2200</td>\n",
       "      <td>1</td>\n",
       "    </tr>\n",
       "    <tr>\n",
       "      <th>2</th>\n",
       "      <td>Adams</td>\n",
       "      <td>The Education Of Henry Adams</td>\n",
       "      <td>iso/etext00/eduha10.txt</td>\n",
       "      <td>1260</td>\n",
       "      <td>2</td>\n",
       "    </tr>\n",
       "    <tr>\n",
       "      <th>3</th>\n",
       "      <td>Anne C. Lynch Botta</td>\n",
       "      <td>Handbook Of Universal Literature</td>\n",
       "      <td>iso/etext05/8unlt10.txt</td>\n",
       "      <td>1699</td>\n",
       "      <td>3</td>\n",
       "    </tr>\n",
       "    <tr>\n",
       "      <th>4</th>\n",
       "      <td>Anthony Trollope</td>\n",
       "      <td>The Last Chronicle Of Barset</td>\n",
       "      <td>iso/etext02/lacob11.txt</td>\n",
       "      <td>2200</td>\n",
       "      <td>4</td>\n",
       "    </tr>\n",
       "  </tbody>\n",
       "</table>\n",
       "</div>"
      ],
      "text/plain": [
       "                author                             title  \\\n",
       "0          A.H. Clough                  Plutarch's Lives   \n",
       "1           Adam Smith                 Wealth Of Nations   \n",
       "2                Adams      The Education Of Henry Adams   \n",
       "3  Anne C. Lynch Botta  Handbook Of Universal Literature   \n",
       "4     Anthony Trollope      The Last Chronicle Of Barset   \n",
       "\n",
       "                input_file  text_chunk  author_id  \n",
       "0  iso/etext96/plivs10.txt        2200          0  \n",
       "1  iso/etext02/wltnt10.txt        2200          1  \n",
       "2  iso/etext00/eduha10.txt        1260          2  \n",
       "3  iso/etext05/8unlt10.txt        1699          3  \n",
       "4  iso/etext02/lacob11.txt        2200          4  "
      ]
     },
     "execution_count": 10,
     "metadata": {},
     "output_type": "execute_result"
    }
   ],
   "source": [
    "#for multi-book authors, drop all but the title having the most chunks, and add author_id\n",
    "N = pd.DataFrame(chunks_recounted.groupby(['author', 'title', 'input_file'])['text_chunk'].count()).reset_index()\n",
    "N = N.sort_values(['author', 'text_chunk'], ascending=False).drop_duplicates(['author'])\n",
    "N = N.sort_values('author')\n",
    "N = N.reset_index(drop=True)\n",
    "N['author_id'] = N.index\n",
    "print 'number of books = ', len(N)\n",
    "N.head()"
   ]
  },
  {
   "cell_type": "code",
   "execution_count": 11,
   "metadata": {
    "scrolled": false
   },
   "outputs": [
    {
     "name": "stdout",
     "output_type": "stream",
     "text": [
      "number of records =  128314\n"
     ]
    },
    {
     "data": {
      "text/html": [
       "<div>\n",
       "<table border=\"1\" class=\"dataframe\">\n",
       "  <thead>\n",
       "    <tr style=\"text-align: right;\">\n",
       "      <th></th>\n",
       "      <th>author</th>\n",
       "      <th>author_id</th>\n",
       "      <th>title</th>\n",
       "      <th>input_file</th>\n",
       "      <th>text_chunk</th>\n",
       "    </tr>\n",
       "  </thead>\n",
       "  <tbody>\n",
       "    <tr>\n",
       "      <th>65273</th>\n",
       "      <td>Thomas D'Arcy Mcgee</td>\n",
       "      <td>81</td>\n",
       "      <td>A Popular History Of Ireland</td>\n",
       "      <td>iso/etext04/phrlc10.txt</td>\n",
       "      <td>impeachment of Lord Chancellor Bolton, will, i...</td>\n",
       "    </tr>\n",
       "    <tr>\n",
       "      <th>10387</th>\n",
       "      <td>Samuel Butler</td>\n",
       "      <td>72</td>\n",
       "      <td>The Way Of All Flesh</td>\n",
       "      <td>iso/etext00/wflsh10.txt</td>\n",
       "      <td>only remained to secure his earthly happiness?...</td>\n",
       "    </tr>\n",
       "    <tr>\n",
       "      <th>78175</th>\n",
       "      <td>Anne C. Lynch Botta</td>\n",
       "      <td>3</td>\n",
       "      <td>Handbook Of Universal Literature</td>\n",
       "      <td>iso/etext05/8unlt10.txt</td>\n",
       "      <td>power and wealth at Athens, may be best seen i...</td>\n",
       "    </tr>\n",
       "    <tr>\n",
       "      <th>114401</th>\n",
       "      <td>Dumas</td>\n",
       "      <td>25</td>\n",
       "      <td>The Count Of Monte Cristo</td>\n",
       "      <td>iso/etext98/crsto12.txt</td>\n",
       "      <td>I parted from him two years ago at Palermo, an...</td>\n",
       "    </tr>\n",
       "    <tr>\n",
       "      <th>17735</th>\n",
       "      <td>John Mcelroy, Entire</td>\n",
       "      <td>48</td>\n",
       "      <td>Andersonville</td>\n",
       "      <td>iso/etext02/andvl11.txt</td>\n",
       "      <td>outside the prison on parole, as, like the gre...</td>\n",
       "    </tr>\n",
       "  </tbody>\n",
       "</table>\n",
       "</div>"
      ],
      "text/plain": [
       "                      author  author_id                             title  \\\n",
       "65273    Thomas D'Arcy Mcgee         81      A Popular History Of Ireland   \n",
       "10387          Samuel Butler         72              The Way Of All Flesh   \n",
       "78175    Anne C. Lynch Botta          3  Handbook Of Universal Literature   \n",
       "114401                 Dumas         25         The Count Of Monte Cristo   \n",
       "17735   John Mcelroy, Entire         48                     Andersonville   \n",
       "\n",
       "                     input_file  \\\n",
       "65273   iso/etext04/phrlc10.txt   \n",
       "10387   iso/etext00/wflsh10.txt   \n",
       "78175   iso/etext05/8unlt10.txt   \n",
       "114401  iso/etext98/crsto12.txt   \n",
       "17735   iso/etext02/andvl11.txt   \n",
       "\n",
       "                                               text_chunk  \n",
       "65273   impeachment of Lord Chancellor Bolton, will, i...  \n",
       "10387   only remained to secure his earthly happiness?...  \n",
       "78175   power and wealth at Athens, may be best seen i...  \n",
       "114401  I parted from him two years ago at Palermo, an...  \n",
       "17735   outside the prison on parole, as, like the gre...  "
      ]
     },
     "execution_count": 11,
     "metadata": {},
     "output_type": "execute_result"
    }
   ],
   "source": [
    "#join chunks_recounted to N to preserve the desired books, and randomize records\n",
    "cols = ['author', 'author_id', 'title', 'input_file', 'text_chunk']\n",
    "chunks_filtered = chunks_recounted.merge(N[['input_file', 'author_id']], on='input_file', how='inner')[cols]\n",
    "chunks_filtered = chunks_filtered.sample(frac=1)[cols]\n",
    "print 'number of records = ', len(chunks_filtered)\n",
    "chunks_filtered.head()"
   ]
  },
  {
   "cell_type": "code",
   "execution_count": 12,
   "metadata": {
    "scrolled": false
   },
   "outputs": [
    {
     "name": "stdout",
     "output_type": "stream",
     "text": [
      "number of books =  90\n"
     ]
    },
    {
     "data": {
      "text/html": [
       "<div>\n",
       "<table border=\"1\" class=\"dataframe\">\n",
       "  <thead>\n",
       "    <tr style=\"text-align: right;\">\n",
       "      <th></th>\n",
       "      <th>author</th>\n",
       "      <th>title</th>\n",
       "      <th>input_file</th>\n",
       "      <th>text_chunk</th>\n",
       "    </tr>\n",
       "  </thead>\n",
       "  <tbody>\n",
       "    <tr>\n",
       "      <th>0</th>\n",
       "      <td>A.H. Clough</td>\n",
       "      <td>Plutarch's Lives</td>\n",
       "      <td>iso/etext96/plivs10.txt</td>\n",
       "      <td>2200</td>\n",
       "    </tr>\n",
       "    <tr>\n",
       "      <th>1</th>\n",
       "      <td>Adam Smith</td>\n",
       "      <td>Wealth Of Nations</td>\n",
       "      <td>iso/etext02/wltnt10.txt</td>\n",
       "      <td>2200</td>\n",
       "    </tr>\n",
       "    <tr>\n",
       "      <th>2</th>\n",
       "      <td>Adams</td>\n",
       "      <td>The Education Of Henry Adams</td>\n",
       "      <td>iso/etext00/eduha10.txt</td>\n",
       "      <td>1260</td>\n",
       "    </tr>\n",
       "    <tr>\n",
       "      <th>3</th>\n",
       "      <td>Anne C. Lynch Botta</td>\n",
       "      <td>Handbook Of Universal Literature</td>\n",
       "      <td>iso/etext05/8unlt10.txt</td>\n",
       "      <td>1699</td>\n",
       "    </tr>\n",
       "    <tr>\n",
       "      <th>4</th>\n",
       "      <td>Anthony Trollope</td>\n",
       "      <td>The Last Chronicle Of Barset</td>\n",
       "      <td>iso/etext02/lacob11.txt</td>\n",
       "      <td>2200</td>\n",
       "    </tr>\n",
       "  </tbody>\n",
       "</table>\n",
       "</div>"
      ],
      "text/plain": [
       "                author                             title  \\\n",
       "0          A.H. Clough                  Plutarch's Lives   \n",
       "1           Adam Smith                 Wealth Of Nations   \n",
       "2                Adams      The Education Of Henry Adams   \n",
       "3  Anne C. Lynch Botta  Handbook Of Universal Literature   \n",
       "4     Anthony Trollope      The Last Chronicle Of Barset   \n",
       "\n",
       "                input_file  text_chunk  \n",
       "0  iso/etext96/plivs10.txt        2200  \n",
       "1  iso/etext02/wltnt10.txt        2200  \n",
       "2  iso/etext00/eduha10.txt        1260  \n",
       "3  iso/etext05/8unlt10.txt        1699  \n",
       "4  iso/etext02/lacob11.txt        2200  "
      ]
     },
     "execution_count": 12,
     "metadata": {},
     "output_type": "execute_result"
    }
   ],
   "source": [
    "#check the above\n",
    "N = pd.DataFrame(chunks_filtered.groupby(['author', 'title', 'input_file'])['text_chunk'].count())\\\n",
    "    .reset_index().sort_values('author')\n",
    "print 'number of books = ', len(N)\n",
    "N.head()"
   ]
  },
  {
   "cell_type": "code",
   "execution_count": 13,
   "metadata": {},
   "outputs": [
    {
     "data": {
      "text/html": [
       "<div>\n",
       "<table border=\"1\" class=\"dataframe\">\n",
       "  <thead>\n",
       "    <tr style=\"text-align: right;\">\n",
       "      <th></th>\n",
       "      <th>author</th>\n",
       "      <th>author_id</th>\n",
       "      <th>title</th>\n",
       "      <th>input_file</th>\n",
       "      <th>text_chunk</th>\n",
       "    </tr>\n",
       "  </thead>\n",
       "  <tbody>\n",
       "    <tr>\n",
       "      <th>114401</th>\n",
       "      <td>Dumas</td>\n",
       "      <td>1</td>\n",
       "      <td>The Count Of Monte Cristo</td>\n",
       "      <td>iso/etext98/crsto12.txt</td>\n",
       "      <td>I parted from him two years ago at Palermo, an...</td>\n",
       "    </tr>\n",
       "    <tr>\n",
       "      <th>122841</th>\n",
       "      <td>Leo Tolstoy</td>\n",
       "      <td>2</td>\n",
       "      <td>Anna Karenina</td>\n",
       "      <td>iso/etext98/nkrnn11.txt</td>\n",
       "      <td>unpleasantness of the petitioner's position, b...</td>\n",
       "    </tr>\n",
       "    <tr>\n",
       "      <th>109648</th>\n",
       "      <td>Dickens</td>\n",
       "      <td>0</td>\n",
       "      <td>Nicholas Nickleby</td>\n",
       "      <td>iso/etext97/ncklb10.txt</td>\n",
       "      <td>he is,' growled Newman, 'and somebody with him...</td>\n",
       "    </tr>\n",
       "    <tr>\n",
       "      <th>115410</th>\n",
       "      <td>Dumas</td>\n",
       "      <td>1</td>\n",
       "      <td>The Count Of Monte Cristo</td>\n",
       "      <td>iso/etext98/crsto12.txt</td>\n",
       "      <td>shall the preliminary arrangements be settled?...</td>\n",
       "    </tr>\n",
       "    <tr>\n",
       "      <th>109661</th>\n",
       "      <td>Dickens</td>\n",
       "      <td>0</td>\n",
       "      <td>Nicholas Nickleby</td>\n",
       "      <td>iso/etext97/ncklb10.txt</td>\n",
       "      <td>the year these bills disappear, and the houses...</td>\n",
       "    </tr>\n",
       "    <tr>\n",
       "      <th>114890</th>\n",
       "      <td>Dumas</td>\n",
       "      <td>1</td>\n",
       "      <td>The Count Of Monte Cristo</td>\n",
       "      <td>iso/etext98/crsto12.txt</td>\n",
       "      <td>simple-looking lawyer's clerk, elevated to the...</td>\n",
       "    </tr>\n",
       "    <tr>\n",
       "      <th>115759</th>\n",
       "      <td>Dumas</td>\n",
       "      <td>1</td>\n",
       "      <td>The Count Of Monte Cristo</td>\n",
       "      <td>iso/etext98/crsto12.txt</td>\n",
       "      <td>dust.\" \"Well, such things have been.\" \"That th...</td>\n",
       "    </tr>\n",
       "    <tr>\n",
       "      <th>115872</th>\n",
       "      <td>Dumas</td>\n",
       "      <td>1</td>\n",
       "      <td>The Count Of Monte Cristo</td>\n",
       "      <td>iso/etext98/crsto12.txt</td>\n",
       "      <td>mistaken as to the value of a stone.' Caderous...</td>\n",
       "    </tr>\n",
       "    <tr>\n",
       "      <th>111077</th>\n",
       "      <td>Dickens</td>\n",
       "      <td>0</td>\n",
       "      <td>Nicholas Nickleby</td>\n",
       "      <td>iso/etext97/ncklb10.txt</td>\n",
       "      <td>looks could show it. 'Well, Nickleby,' said Sq...</td>\n",
       "    </tr>\n",
       "    <tr>\n",
       "      <th>122735</th>\n",
       "      <td>Leo Tolstoy</td>\n",
       "      <td>2</td>\n",
       "      <td>Anna Karenina</td>\n",
       "      <td>iso/etext98/nkrnn11.txt</td>\n",
       "      <td>as to any unbeliever who respects the beliefs ...</td>\n",
       "    </tr>\n",
       "    <tr>\n",
       "      <th>122451</th>\n",
       "      <td>Leo Tolstoy</td>\n",
       "      <td>2</td>\n",
       "      <td>Anna Karenina</td>\n",
       "      <td>iso/etext98/nkrnn11.txt</td>\n",
       "      <td>Seryozha knew all she wanted to say to him. He...</td>\n",
       "    </tr>\n",
       "    <tr>\n",
       "      <th>111504</th>\n",
       "      <td>Dickens</td>\n",
       "      <td>0</td>\n",
       "      <td>Nicholas Nickleby</td>\n",
       "      <td>iso/etext97/ncklb10.txt</td>\n",
       "      <td>anything that appeared to the contrary, was le...</td>\n",
       "    </tr>\n",
       "    <tr>\n",
       "      <th>110105</th>\n",
       "      <td>Dickens</td>\n",
       "      <td>0</td>\n",
       "      <td>Nicholas Nickleby</td>\n",
       "      <td>iso/etext97/ncklb10.txt</td>\n",
       "      <td>if I could make coals I would, but as I can't ...</td>\n",
       "    </tr>\n",
       "    <tr>\n",
       "      <th>111548</th>\n",
       "      <td>Dickens</td>\n",
       "      <td>0</td>\n",
       "      <td>Nicholas Nickleby</td>\n",
       "      <td>iso/etext97/ncklb10.txt</td>\n",
       "      <td>him at last, still harping on the same theme, ...</td>\n",
       "    </tr>\n",
       "    <tr>\n",
       "      <th>114815</th>\n",
       "      <td>Dumas</td>\n",
       "      <td>1</td>\n",
       "      <td>The Count Of Monte Cristo</td>\n",
       "      <td>iso/etext98/crsto12.txt</td>\n",
       "      <td>look, with eagerness. \"Let me think a moment. ...</td>\n",
       "    </tr>\n",
       "    <tr>\n",
       "      <th>110405</th>\n",
       "      <td>Dickens</td>\n",
       "      <td>0</td>\n",
       "      <td>Nicholas Nickleby</td>\n",
       "      <td>iso/etext97/ncklb10.txt</td>\n",
       "      <td>nasty creature!' 'Gracious!' cried Kate, almos...</td>\n",
       "    </tr>\n",
       "    <tr>\n",
       "      <th>122920</th>\n",
       "      <td>Leo Tolstoy</td>\n",
       "      <td>2</td>\n",
       "      <td>Anna Karenina</td>\n",
       "      <td>iso/etext98/nkrnn11.txt</td>\n",
       "      <td>show papa your necklace.\" Kitty, with a haught...</td>\n",
       "    </tr>\n",
       "    <tr>\n",
       "      <th>110164</th>\n",
       "      <td>Dickens</td>\n",
       "      <td>0</td>\n",
       "      <td>Nicholas Nickleby</td>\n",
       "      <td>iso/etext97/ncklb10.txt</td>\n",
       "      <td>seemed for an instant about to launch it at th...</td>\n",
       "    </tr>\n",
       "    <tr>\n",
       "      <th>109603</th>\n",
       "      <td>Dickens</td>\n",
       "      <td>0</td>\n",
       "      <td>Nicholas Nickleby</td>\n",
       "      <td>iso/etext97/ncklb10.txt</td>\n",
       "      <td>'no. Come, let us walk on.' He quickened his p...</td>\n",
       "    </tr>\n",
       "    <tr>\n",
       "      <th>115131</th>\n",
       "      <td>Dumas</td>\n",
       "      <td>1</td>\n",
       "      <td>The Count Of Monte Cristo</td>\n",
       "      <td>iso/etext98/crsto12.txt</td>\n",
       "      <td>and found himself lying on his bournous in a b...</td>\n",
       "    </tr>\n",
       "  </tbody>\n",
       "</table>\n",
       "</div>"
      ],
      "text/plain": [
       "             author  author_id                      title  \\\n",
       "114401        Dumas          1  The Count Of Monte Cristo   \n",
       "122841  Leo Tolstoy          2              Anna Karenina   \n",
       "109648      Dickens          0          Nicholas Nickleby   \n",
       "115410        Dumas          1  The Count Of Monte Cristo   \n",
       "109661      Dickens          0          Nicholas Nickleby   \n",
       "114890        Dumas          1  The Count Of Monte Cristo   \n",
       "115759        Dumas          1  The Count Of Monte Cristo   \n",
       "115872        Dumas          1  The Count Of Monte Cristo   \n",
       "111077      Dickens          0          Nicholas Nickleby   \n",
       "122735  Leo Tolstoy          2              Anna Karenina   \n",
       "122451  Leo Tolstoy          2              Anna Karenina   \n",
       "111504      Dickens          0          Nicholas Nickleby   \n",
       "110105      Dickens          0          Nicholas Nickleby   \n",
       "111548      Dickens          0          Nicholas Nickleby   \n",
       "114815        Dumas          1  The Count Of Monte Cristo   \n",
       "110405      Dickens          0          Nicholas Nickleby   \n",
       "122920  Leo Tolstoy          2              Anna Karenina   \n",
       "110164      Dickens          0          Nicholas Nickleby   \n",
       "109603      Dickens          0          Nicholas Nickleby   \n",
       "115131        Dumas          1  The Count Of Monte Cristo   \n",
       "\n",
       "                     input_file  \\\n",
       "114401  iso/etext98/crsto12.txt   \n",
       "122841  iso/etext98/nkrnn11.txt   \n",
       "109648  iso/etext97/ncklb10.txt   \n",
       "115410  iso/etext98/crsto12.txt   \n",
       "109661  iso/etext97/ncklb10.txt   \n",
       "114890  iso/etext98/crsto12.txt   \n",
       "115759  iso/etext98/crsto12.txt   \n",
       "115872  iso/etext98/crsto12.txt   \n",
       "111077  iso/etext97/ncklb10.txt   \n",
       "122735  iso/etext98/nkrnn11.txt   \n",
       "122451  iso/etext98/nkrnn11.txt   \n",
       "111504  iso/etext97/ncklb10.txt   \n",
       "110105  iso/etext97/ncklb10.txt   \n",
       "111548  iso/etext97/ncklb10.txt   \n",
       "114815  iso/etext98/crsto12.txt   \n",
       "110405  iso/etext97/ncklb10.txt   \n",
       "122920  iso/etext98/nkrnn11.txt   \n",
       "110164  iso/etext97/ncklb10.txt   \n",
       "109603  iso/etext97/ncklb10.txt   \n",
       "115131  iso/etext98/crsto12.txt   \n",
       "\n",
       "                                               text_chunk  \n",
       "114401  I parted from him two years ago at Palermo, an...  \n",
       "122841  unpleasantness of the petitioner's position, b...  \n",
       "109648  he is,' growled Newman, 'and somebody with him...  \n",
       "115410  shall the preliminary arrangements be settled?...  \n",
       "109661  the year these bills disappear, and the houses...  \n",
       "114890  simple-looking lawyer's clerk, elevated to the...  \n",
       "115759  dust.\" \"Well, such things have been.\" \"That th...  \n",
       "115872  mistaken as to the value of a stone.' Caderous...  \n",
       "111077  looks could show it. 'Well, Nickleby,' said Sq...  \n",
       "122735  as to any unbeliever who respects the beliefs ...  \n",
       "122451  Seryozha knew all she wanted to say to him. He...  \n",
       "111504  anything that appeared to the contrary, was le...  \n",
       "110105  if I could make coals I would, but as I can't ...  \n",
       "111548  him at last, still harping on the same theme, ...  \n",
       "114815  look, with eagerness. \"Let me think a moment. ...  \n",
       "110405  nasty creature!' 'Gracious!' cried Kate, almos...  \n",
       "122920  show papa your necklace.\" Kitty, with a haught...  \n",
       "110164  seemed for an instant about to launch it at th...  \n",
       "109603  'no. Come, let us walk on.' He quickened his p...  \n",
       "115131  and found himself lying on his bournous in a b...  "
      ]
     },
     "execution_count": 13,
     "metadata": {},
     "output_type": "execute_result"
    }
   ],
   "source": [
    "#select 3 books\n",
    "records = chunks_filtered\n",
    "id0 = 23\n",
    "id1 = 25\n",
    "id2 = 55\n",
    "idx = (records['author_id'] == id0) | (records['author_id'] == id1) | (records['author_id'] == id2)\n",
    "records = records[idx].copy()\n",
    "records['author_id'] = records['author_id'].replace({id0:0, id1:1, id2:2})#, axis=1)\n",
    "records.head(20)"
   ]
  },
  {
   "cell_type": "code",
   "execution_count": 14,
   "metadata": {},
   "outputs": [
    {
     "name": "stdout",
     "output_type": "stream",
     "text": [
      "records.shape  =  (6600, 5)\n",
      "train.shape    =  (2178, 5)\n",
      "test.shape     =  (2211, 5)\n",
      "validate.shape =  (2211, 5)\n"
     ]
    }
   ],
   "source": [
    "#train-test-validate split\n",
    "train_size = 0.33\n",
    "validate_size=0.5   #this is the fraction of the test sample that is assigned to the validation sample\n",
    "rn_seed = 12\n",
    "from sklearn.model_selection import train_test_split\n",
    "train, test = train_test_split(records, train_size=train_size, random_state=rn_seed)\n",
    "validate, test = train_test_split(test, train_size=validate_size, random_state=rn_seed)\n",
    "print 'records.shape  = ', records.shape\n",
    "print 'train.shape    = ', train.shape\n",
    "print 'test.shape     = ', test.shape\n",
    "print 'validate.shape = ', validate.shape"
   ]
  },
  {
   "cell_type": "code",
   "execution_count": 15,
   "metadata": {},
   "outputs": [
    {
     "name": "stdout",
     "output_type": "stream",
     "text": [
      "3 3\n"
     ]
    }
   ],
   "source": [
    "#confirm that all 90 books have records in the training sample\n",
    "print len(train['input_file'].unique()), len(records['input_file'].unique())"
   ]
  },
  {
   "cell_type": "code",
   "execution_count": 16,
   "metadata": {},
   "outputs": [
    {
     "name": "stdout",
     "output_type": "stream",
     "text": [
      "number of distinct words =  51929\n",
      "considered, 3\n",
      "considered. 3\n",
      "Impartial, 2\n",
      "'Pho! 1\n",
      "woods 1\n",
      "Catalans, 3\n"
     ]
    }
   ],
   "source": [
    "#count word frequencies...there are 500K distinct words used in these books, really???\n",
    "#i'm not sure about the...maybe this is due to lack of treatment of punctuation characters\n",
    "from collections import defaultdict\n",
    "word_frequency = defaultdict(int)\n",
    "corpus = records['text_chunk'].tolist()\n",
    "for doc in corpus:\n",
    "    words = doc.split(' ')\n",
    "    for word in words:\n",
    "        word_frequency[word] += 1\n",
    "print 'number of distinct words = ', len(word_frequency.keys()) \n",
    "for word in word_frequency.keys()[1:7]:\n",
    "    print word, word_frequency[word]"
   ]
  },
  {
   "cell_type": "code",
   "execution_count": 17,
   "metadata": {},
   "outputs": [
    {
     "name": "stderr",
     "output_type": "stream",
     "text": [
      "Using TensorFlow backend.\n"
     ]
    }
   ],
   "source": [
    "#generate tokenizer\n",
    "vocabulary_size = 52014\n",
    "N_inputs = 100\n",
    "from keras.preprocessing.text import Tokenizer\n",
    "from keras.preprocessing.sequence import pad_sequences\n",
    "tokenizer = Tokenizer(num_words=vocabulary_size)"
   ]
  },
  {
   "cell_type": "code",
   "execution_count": 18,
   "metadata": {
    "collapsed": true
   },
   "outputs": [],
   "source": [
    "#this helper function extracts and tokenizes x, and extracts y and onehot-encodes it\n",
    "from keras.utils import np_utils\n",
    "def tokenize(df, tokenizer):\n",
    "    corpus = df['text_chunk'].tolist()\n",
    "    tokenizer.fit_on_texts(corpus)\n",
    "    corpus_tokenized = tokenizer.texts_to_sequences(corpus)\n",
    "    corpus_padded = pad_sequences(corpus_tokenized, maxlen=N_inputs)\n",
    "    x = np.array(corpus_padded)\n",
    "    y_ids = df['author_id'].values\n",
    "    y = np_utils.to_categorical(y_ids)\n",
    "    return x, y"
   ]
  },
  {
   "cell_type": "code",
   "execution_count": 19,
   "metadata": {},
   "outputs": [
    {
     "name": "stdout",
     "output_type": "stream",
     "text": [
      "x_train.shape =  (2178, 100)\n",
      "y_train.shape =  (2178, 3)\n",
      "N_inputs =  100\n",
      "N_outputs =  3\n",
      "vocabulary_size =  52014 0 13998\n"
     ]
    }
   ],
   "source": [
    "#get training x,y with x-values being tokenized and y values onehot-encoded\n",
    "x_train, y_train = tokenize(train, tokenizer)\n",
    "N_inputs = x_train.shape[1]\n",
    "N_outputs = y_train.shape[1]\n",
    "print 'x_train.shape = ', x_train.shape\n",
    "print 'y_train.shape = ', y_train.shape\n",
    "print 'N_inputs = ', N_inputs\n",
    "print 'N_outputs = ', N_outputs\n",
    "print 'vocabulary_size = ', vocabulary_size, x_train.min(), x_train.max()"
   ]
  },
  {
   "cell_type": "code",
   "execution_count": 20,
   "metadata": {},
   "outputs": [
    {
     "name": "stdout",
     "output_type": "stream",
     "text": [
      "author                                              Leo Tolstoy\n",
      "author_id                                                     2\n",
      "title                                             Anna Karenina\n",
      "input_file                              iso/etext98/nkrnn11.txt\n",
      "text_chunk    spite of the cross expression with which she s...\n",
      "Name: 122592, dtype: object\n",
      "spite of the cross expression with which she stared at the stranger. She positively envied the baby's healthy appearance. She was delighted, too, at the baby's crawling. Not one of her own children had crawled like that. When the baby was put on the carpet and its little dress tucked up behind, it was wonderfully charming. Looking round like some little wild animal at the grown-up big people with her bright black eyes, she smiled, unmistakably pleased at their admiring her, and holding her legs sideways, she pressed vigorously on her arms, and rapidly drew her whole back up after, \n",
      "[    4     1  2109   325    15    30    25  2800    20     1   918    25\n",
      "   953  4634     1  5858  2299   490    25    12   716   103    20     1\n",
      "  5858  5746    18    41     4    17   133   298    16 12467    97     9\n",
      "    52     1   802    12   211    27     1  6650     2   188    95   521\n",
      "  5299    56   448    13    12  4059   808   154   223    97    72    95\n",
      "  1243  2355    20     1  1738    56   908   222    15    17  1255   662\n",
      "   119    25   600  3411   884    20    69  5437    17     2   962    17\n",
      "   640  3574    25  1118  5566    27    17   488     2  2617   487    17\n",
      "   285   167    56   120]\n",
      "[ 0.  0.  1.]\n"
     ]
    }
   ],
   "source": [
    "#display a training record\n",
    "idx = 321\n",
    "print train.iloc[idx]\n",
    "text_chunk = train.iloc[idx]['text_chunk']\n",
    "print text_chunk\n",
    "print x_train[321]\n",
    "print y_train[321]"
   ]
  },
  {
   "cell_type": "code",
   "execution_count": 21,
   "metadata": {},
   "outputs": [
    {
     "name": "stdout",
     "output_type": "stream",
     "text": [
      "['spite', 'of', 'the', 'cross', 'expression', 'with', 'which', 'she', 'stared', 'at', 'the', 'stranger', 'she', 'positively', 'envied']\n",
      "[533, 4, 1, 2109, 325, 15, 30, 25, 2800, 20, 1, 918, 25, 953, 4634]\n"
     ]
    }
   ],
   "source": [
    "#show that the vectorized text preserves word order while dropping punctuation\n",
    "tokens = []\n",
    "words_marked = text_chunk.split(' ')[0:15]\n",
    "words = [word.lower().strip(',').strip('.') for word in words_marked]\n",
    "tokens = [tokenizer.word_index[word] for word in words]\n",
    "print words\n",
    "print tokens"
   ]
  },
  {
   "cell_type": "code",
   "execution_count": 22,
   "metadata": {},
   "outputs": [
    {
     "name": "stdout",
     "output_type": "stream",
     "text": [
      "x_valid.shape =  (2211, 100)\n",
      "y_valid.shape =  (2211, 3)\n"
     ]
    }
   ],
   "source": [
    "#get validation x,y with x-values being tokenized and y values onehot-encoded\n",
    "x_valid, y_valid = tokenize(validate, tokenizer)\n",
    "print 'x_valid.shape = ', x_valid.shape\n",
    "print 'y_valid.shape = ', y_valid.shape"
   ]
  },
  {
   "cell_type": "code",
   "execution_count": 23,
   "metadata": {},
   "outputs": [
    {
     "name": "stdout",
     "output_type": "stream",
     "text": [
      "author                                              Leo Tolstoy\n",
      "author_id                                                     2\n",
      "title                                             Anna Karenina\n",
      "input_file                              iso/etext98/nkrnn11.txt\n",
      "text_chunk    corridor. Here Vronsky showed them the mechani...\n",
      "Name: 122022, dtype: object\n",
      "corridor. Here Vronsky showed them the mechanism for ventilation on a novel system. Then he showed them marble baths, and beds with extraordinary springs. Then he showed them the wards one after another, the storeroom, the linen room, then the heating stove of a new pattern, then the trolleys, which would make no noise as they carried everything needed along the corridors, and many other things. Sviazhsky, as a connoisseur in the latest mechanical improvements, appreciated everything fully. Dolly simply wondered at all she had not seen before, and, anxious to understand it all, made minute inquiries about everything, which \n",
      "[   95  9030     2     1  1046     4   391    25    16    19    10   218\n",
      "    14    39   482    47   837   216    88   100  2989  3309    14  2936\n",
      "     2    21    25  4995    14     1  4820     4     5  1440  1022    33\n",
      "     1   846     2  2167     4     1   236   295    41    16  4289    36\n",
      "  3939    14    17   213   131     4  7478     2  3181    17   198  1319\n",
      "   113   378     2     1   451 14200   117    17   138  1100   171   392\n",
      "     3     2  2357     7     8    84   164   931  2787     7   228    35\n",
      "    37    16   137  1132     3    77    10   171   620    49  2182    22\n",
      "     7     1   120  1608]\n",
      "[ 1.  0.  0.]\n"
     ]
    }
   ],
   "source": [
    "#display a validation record\n",
    "idx = 123\n",
    "print validate.iloc[idx]\n",
    "print validate.iloc[idx]['text_chunk']\n",
    "print x_valid[321]\n",
    "print y_valid[321]"
   ]
  },
  {
   "cell_type": "code",
   "execution_count": 24,
   "metadata": {
    "collapsed": true
   },
   "outputs": [],
   "source": [
    "##architect a simple LSTM model...this one is adapted from \n",
    "##https://machinelearningmastery.com/multi-class-classification-tutorial-keras-deep-learning-library/\n",
    "#from keras.layers import Embedding, LSTM, Dense, Dropout#, Conv1D, MaxPooling1D, Activation\n",
    "#from keras.models import Sequential\n",
    "#from keras.models import Sequential\n",
    "#from keras.layers import Dense\n",
    "#def build_simple_lstm_model(N_inputs, N_hidden, N_outputs,):\n",
    "#    model = Sequential()\n",
    "#    model.add(Dense(N_hidden, input_dim=N_inputs, activation='relu'))\n",
    "#    model.add(Dense(N_outputs, activation='softmax'))\n",
    "#    model.compile(loss='categorical_crossentropy', optimizer='adam', metrics=['accuracy'])\n",
    "#    return model"
   ]
  },
  {
   "cell_type": "code",
   "execution_count": 25,
   "metadata": {
    "collapsed": true
   },
   "outputs": [],
   "source": [
    "##build a better LSTM model...this one is adapted from \n",
    "##http://www.developintelligence.com/blog/2017/06/practical-neural-networks-keras-classifying-yelp-reviews\n",
    "#from keras.layers import Embedding, LSTM, Dense, Dropout#, Conv1D, MaxPooling1D, Activation\n",
    "#from keras.models import Sequential\n",
    "#def build_lstm_model(N_inputs, N_outputs, vocabulary_size, embedding_vector_length):\n",
    "#    model = Sequential()\n",
    "#    model.add(Embedding(vocabulary_size, embedding_vector_length, input_length=N_inputs))\n",
    "#    model.add(LSTM(embedding_vector_length, dropout=0.2, recurrent_dropout=0.2))\n",
    "#    model.add(Dense(N_outputs, activation='softmax'))\n",
    "#    model.compile(loss='categorical_crossentropy', optimizer='adam', metrics=['accuracy'])\n",
    "#    return model"
   ]
  },
  {
   "cell_type": "code",
   "execution_count": 183,
   "metadata": {},
   "outputs": [],
   "source": [
    "#build an even better LSTM model...this one is adapted from\n",
    "#http://www.developintelligence.com/blog/2017/06/practical-neural-networks-keras-classifying-yelp-reviews\n",
    "from keras.layers import Embedding, LSTM, Dense, Dropout, Conv1D, MaxPooling1D\n",
    "from keras.models import Sequential\n",
    "def build_lstm_model(N_inputs, N_outputs, vocabulary_size, embedding_vector_length, conv1d_kernel_size):\n",
    "    model = Sequential()\n",
    "    model.add(Embedding(vocabulary_size, embedding_vector_length, input_length=N_inputs))\n",
    "    model.add(Dropout(0.3))\n",
    "    model.add(Conv1D(2*embedding_vector_length, conv1d_kernel_size, activation='relu'))\n",
    "    pool_size = 2*conv1d_kernel_size\n",
    "    model.add(MaxPooling1D(pool_size=pool_size))\n",
    "    lstm_size = embedding_vector_length/pool_size\n",
    "    model.add(LSTM(lstm_size, activation='linear'))\n",
    "    model.add(Dense(N_outputs, activation='sigmoid'))\n",
    "    model.compile(loss='categorical_crossentropy', optimizer='adam', metrics=['accuracy'])\n",
    "    return model"
   ]
  },
  {
   "cell_type": "code",
   "execution_count": 198,
   "metadata": {
    "collapsed": true
   },
   "outputs": [],
   "source": [
    "#this is a half-assed version of\n",
    "#https://towardsdatascience.com/applied-deep-learning-part-1-artificial-neural-networks-d7834f67a4f6\n",
    "def build_lstm_model(N_inputs, N_outputs):\n",
    "    model = Sequential()\n",
    "    model.add(Dense(N_inputs, input_shape=(1,), activation='tanh'))\n",
    "    model.add(Dense(N_inputs/2, activation='tanh'))\n",
    "    dense_inputs = int(np.sqrt(N_inputs + N_outputs))\n",
    "    model.add(Dense(dense_inputs, activation='tanh'))\n",
    "    model.add(Dense(N_outputs, activation='softmax'))\n",
    "    model.compile(loss='categorical_crossentropy', optimizer='adam', metrics=['accuracy'])\n",
    "    return model"
   ]
  },
  {
   "cell_type": "code",
   "execution_count": 201,
   "metadata": {
    "collapsed": true
   },
   "outputs": [],
   "source": [
    "#Dense?"
   ]
  },
  {
   "cell_type": "code",
   "execution_count": 202,
   "metadata": {
    "scrolled": false
   },
   "outputs": [
    {
     "name": "stdout",
     "output_type": "stream",
     "text": [
      "N_training_epochs =  60\n",
      "batch_size =  3000\n",
      "number of samples =  4389\n",
      "vocabulary_size =  52014\n",
      "embedding_vector_length =  50\n",
      "conv1d_kernel_size =  4\n",
      "N_inputs =  100 100\n",
      "N_outputs =  3 3\n"
     ]
    }
   ],
   "source": [
    "#build the lstm model to the training data\n",
    "N_training_epochs = 60\n",
    "batch_size = 3000\n",
    "embedding_vector_length = 50\n",
    "conv1d_kernel_size = 4\n",
    "print 'N_training_epochs = ', N_training_epochs\n",
    "print 'batch_size = ', batch_size\n",
    "print 'number of samples = ', x_train.shape[0] + x_valid.shape[0]\n",
    "print 'vocabulary_size = ', vocabulary_size\n",
    "print 'embedding_vector_length = ', embedding_vector_length\n",
    "print 'conv1d_kernel_size = ', conv1d_kernel_size\n",
    "print 'N_inputs = ', N_inputs, x_train.shape[1]\n",
    "print 'N_outputs = ', N_outputs, y_train.shape[1]\n",
    "#lstm_model = build_lstm_model(N_inputs, N_outputs, vocabulary_size, embedding_vector_length, conv1d_kernel_size)\n",
    "lstm_model = build_lstm_model(N_inputs, N_outputs)"
   ]
  },
  {
   "cell_type": "code",
   "execution_count": 203,
   "metadata": {
    "scrolled": true
   },
   "outputs": [
    {
     "ename": "ValueError",
     "evalue": "Error when checking input: expected dense_55_input to have 3 dimensions, but got array with shape (2178, 100)",
     "output_type": "error",
     "traceback": [
      "\u001b[0;31m---------------------------------------------------------------------------\u001b[0m",
      "\u001b[0;31mValueError\u001b[0m                                Traceback (most recent call last)",
      "\u001b[0;32m<ipython-input-203-30d4549436bb>\u001b[0m in \u001b[0;36m<module>\u001b[0;34m()\u001b[0m\n\u001b[1;32m      1\u001b[0m \u001b[0;31m#fit model to the training data\u001b[0m\u001b[0;34m\u001b[0m\u001b[0;34m\u001b[0m\u001b[0m\n\u001b[0;32m----> 2\u001b[0;31m \u001b[0mfit_history\u001b[0m \u001b[0;34m=\u001b[0m \u001b[0mlstm_model\u001b[0m\u001b[0;34m.\u001b[0m\u001b[0mfit\u001b[0m\u001b[0;34m(\u001b[0m\u001b[0mx_train\u001b[0m\u001b[0;34m,\u001b[0m \u001b[0my_train\u001b[0m\u001b[0;34m,\u001b[0m \u001b[0mepochs\u001b[0m\u001b[0;34m=\u001b[0m\u001b[0mN_training_epochs\u001b[0m\u001b[0;34m,\u001b[0m \u001b[0mbatch_size\u001b[0m\u001b[0;34m=\u001b[0m\u001b[0mbatch_size\u001b[0m\u001b[0;34m,\u001b[0m \u001b[0mverbose\u001b[0m\u001b[0;34m=\u001b[0m\u001b[0;36m0\u001b[0m\u001b[0;34m,\u001b[0m     \u001b[0mvalidation_data\u001b[0m\u001b[0;34m=\u001b[0m\u001b[0;34m(\u001b[0m\u001b[0mx_valid\u001b[0m\u001b[0;34m,\u001b[0m \u001b[0my_valid\u001b[0m\u001b[0;34m)\u001b[0m\u001b[0;34m)\u001b[0m\u001b[0;34m\u001b[0m\u001b[0m\n\u001b[0m",
      "\u001b[0;32m/usr/local/lib/python2.7/dist-packages/keras/models.pyc\u001b[0m in \u001b[0;36mfit\u001b[0;34m(self, x, y, batch_size, epochs, verbose, callbacks, validation_split, validation_data, shuffle, class_weight, sample_weight, initial_epoch, **kwargs)\u001b[0m\n\u001b[1;32m    854\u001b[0m                               \u001b[0mclass_weight\u001b[0m\u001b[0;34m=\u001b[0m\u001b[0mclass_weight\u001b[0m\u001b[0;34m,\u001b[0m\u001b[0;34m\u001b[0m\u001b[0m\n\u001b[1;32m    855\u001b[0m                               \u001b[0msample_weight\u001b[0m\u001b[0;34m=\u001b[0m\u001b[0msample_weight\u001b[0m\u001b[0;34m,\u001b[0m\u001b[0;34m\u001b[0m\u001b[0m\n\u001b[0;32m--> 856\u001b[0;31m                               initial_epoch=initial_epoch)\n\u001b[0m\u001b[1;32m    857\u001b[0m \u001b[0;34m\u001b[0m\u001b[0m\n\u001b[1;32m    858\u001b[0m     def evaluate(self, x, y, batch_size=32, verbose=1,\n",
      "\u001b[0;32m/usr/local/lib/python2.7/dist-packages/keras/engine/training.pyc\u001b[0m in \u001b[0;36mfit\u001b[0;34m(self, x, y, batch_size, epochs, verbose, callbacks, validation_split, validation_data, shuffle, class_weight, sample_weight, initial_epoch, **kwargs)\u001b[0m\n\u001b[1;32m   1427\u001b[0m             \u001b[0mclass_weight\u001b[0m\u001b[0;34m=\u001b[0m\u001b[0mclass_weight\u001b[0m\u001b[0;34m,\u001b[0m\u001b[0;34m\u001b[0m\u001b[0m\n\u001b[1;32m   1428\u001b[0m             \u001b[0mcheck_batch_axis\u001b[0m\u001b[0;34m=\u001b[0m\u001b[0mFalse\u001b[0m\u001b[0;34m,\u001b[0m\u001b[0;34m\u001b[0m\u001b[0m\n\u001b[0;32m-> 1429\u001b[0;31m             batch_size=batch_size)\n\u001b[0m\u001b[1;32m   1430\u001b[0m         \u001b[0;31m# Prepare validation data.\u001b[0m\u001b[0;34m\u001b[0m\u001b[0;34m\u001b[0m\u001b[0m\n\u001b[1;32m   1431\u001b[0m         \u001b[0;32mif\u001b[0m \u001b[0mvalidation_data\u001b[0m\u001b[0;34m:\u001b[0m\u001b[0;34m\u001b[0m\u001b[0m\n",
      "\u001b[0;32m/usr/local/lib/python2.7/dist-packages/keras/engine/training.pyc\u001b[0m in \u001b[0;36m_standardize_user_data\u001b[0;34m(self, x, y, sample_weight, class_weight, check_batch_axis, batch_size)\u001b[0m\n\u001b[1;32m   1303\u001b[0m                                     \u001b[0mself\u001b[0m\u001b[0;34m.\u001b[0m\u001b[0m_feed_input_shapes\u001b[0m\u001b[0;34m,\u001b[0m\u001b[0;34m\u001b[0m\u001b[0m\n\u001b[1;32m   1304\u001b[0m                                     \u001b[0mcheck_batch_axis\u001b[0m\u001b[0;34m=\u001b[0m\u001b[0mFalse\u001b[0m\u001b[0;34m,\u001b[0m\u001b[0;34m\u001b[0m\u001b[0m\n\u001b[0;32m-> 1305\u001b[0;31m                                     exception_prefix='input')\n\u001b[0m\u001b[1;32m   1306\u001b[0m         y = _standardize_input_data(y, self._feed_output_names,\n\u001b[1;32m   1307\u001b[0m                                     \u001b[0moutput_shapes\u001b[0m\u001b[0;34m,\u001b[0m\u001b[0;34m\u001b[0m\u001b[0m\n",
      "\u001b[0;32m/usr/local/lib/python2.7/dist-packages/keras/engine/training.pyc\u001b[0m in \u001b[0;36m_standardize_input_data\u001b[0;34m(data, names, shapes, check_batch_axis, exception_prefix)\u001b[0m\n\u001b[1;32m    125\u001b[0m                                  \u001b[0;34m' to have '\u001b[0m \u001b[0;34m+\u001b[0m \u001b[0mstr\u001b[0m\u001b[0;34m(\u001b[0m\u001b[0mlen\u001b[0m\u001b[0;34m(\u001b[0m\u001b[0mshapes\u001b[0m\u001b[0;34m[\u001b[0m\u001b[0mi\u001b[0m\u001b[0;34m]\u001b[0m\u001b[0;34m)\u001b[0m\u001b[0;34m)\u001b[0m \u001b[0;34m+\u001b[0m\u001b[0;34m\u001b[0m\u001b[0m\n\u001b[1;32m    126\u001b[0m                                  \u001b[0;34m' dimensions, but got array with shape '\u001b[0m \u001b[0;34m+\u001b[0m\u001b[0;34m\u001b[0m\u001b[0m\n\u001b[0;32m--> 127\u001b[0;31m                                  str(array.shape))\n\u001b[0m\u001b[1;32m    128\u001b[0m             \u001b[0;32mfor\u001b[0m \u001b[0mj\u001b[0m\u001b[0;34m,\u001b[0m \u001b[0;34m(\u001b[0m\u001b[0mdim\u001b[0m\u001b[0;34m,\u001b[0m \u001b[0mref_dim\u001b[0m\u001b[0;34m)\u001b[0m \u001b[0;32min\u001b[0m \u001b[0menumerate\u001b[0m\u001b[0;34m(\u001b[0m\u001b[0mzip\u001b[0m\u001b[0;34m(\u001b[0m\u001b[0marray\u001b[0m\u001b[0;34m.\u001b[0m\u001b[0mshape\u001b[0m\u001b[0;34m,\u001b[0m \u001b[0mshapes\u001b[0m\u001b[0;34m[\u001b[0m\u001b[0mi\u001b[0m\u001b[0;34m]\u001b[0m\u001b[0;34m)\u001b[0m\u001b[0;34m)\u001b[0m\u001b[0;34m:\u001b[0m\u001b[0;34m\u001b[0m\u001b[0m\n\u001b[1;32m    129\u001b[0m                 \u001b[0;32mif\u001b[0m \u001b[0;32mnot\u001b[0m \u001b[0mj\u001b[0m \u001b[0;32mand\u001b[0m \u001b[0;32mnot\u001b[0m \u001b[0mcheck_batch_axis\u001b[0m\u001b[0;34m:\u001b[0m\u001b[0;34m\u001b[0m\u001b[0m\n",
      "\u001b[0;31mValueError\u001b[0m: Error when checking input: expected dense_55_input to have 3 dimensions, but got array with shape (2178, 100)"
     ]
    }
   ],
   "source": [
    "#fit model to the training data\n",
    "fit_history = lstm_model.fit(x_train, y_train, epochs=N_training_epochs, batch_size=batch_size, verbose=0, \\\n",
    "    validation_data=(x_valid, y_valid))"
   ]
  },
  {
   "cell_type": "code",
   "execution_count": 181,
   "metadata": {},
   "outputs": [
    {
     "data": {
      "image/png": "[encoded data removed]",
      "text/plain": [
       "<matplotlib.figure.Figure at 0x7f0d410b3650>"
      ]
     },
     "metadata": {},
     "output_type": "display_data"
    }
   ],
   "source": [
    "#plot accuracy vs training epoch\n",
    "fig, ax = plt.subplots(1,1, figsize=(15, 6))\n",
    "xp = fit_history.epoch\n",
    "yp = fit_history.history['acc']\n",
    "ax.plot(xp, yp, label='training sample')\n",
    "yp = fit_history.history['val_acc']\n",
    "ax.plot(xp, yp, label='validation sample')\n",
    "ax.set_title('classifier accuracy versus epoch')\n",
    "ax.set_ylabel('accuracy')\n",
    "ax.set_xlabel('training epoch')\n",
    "ax.legend()\n",
    "plt.savefig('figs/accuracy.png')"
   ]
  },
  {
   "cell_type": "code",
   "execution_count": 182,
   "metadata": {},
   "outputs": [
    {
     "data": {
      "image/png": "[encoded data removed]",
      "text/plain": [
       "<matplotlib.figure.Figure at 0x7f0d3f4fba90>"
      ]
     },
     "metadata": {},
     "output_type": "display_data"
    }
   ],
   "source": [
    "#plot loss function vs training epoch\n",
    "fig, ax = plt.subplots(1,1, figsize=(15, 6))\n",
    "xp = fit_history.epoch\n",
    "yp = fit_history.history['loss']\n",
    "ax.plot(xp, yp, label='training sample')\n",
    "yp = fit_history.history['val_loss']\n",
    "ax.plot(xp, yp, label='validation sample')\n",
    "ax.set_title('loss function versus epoch')\n",
    "ax.set_ylabel('loss function')\n",
    "ax.set_xlabel('training epoch')\n",
    "ax.legend()\n",
    "plt.savefig('figs/loss.png')"
   ]
  },
  {
   "cell_type": "code",
   "execution_count": 130,
   "metadata": {
    "collapsed": true
   },
   "outputs": [],
   "source": [
    "#model.predict(x_test)"
   ]
  },
  {
   "cell_type": "code",
   "execution_count": null,
   "metadata": {
    "collapsed": true
   },
   "outputs": [],
   "source": []
  }
 ],
 "metadata": {
  "hide_input": false,
  "kernelspec": {
   "display_name": "Python 2",
   "language": "python",
   "name": "python2"
  },
  "language_info": {
   "codemirror_mode": {
    "name": "ipython",
    "version": 2
   },
   "file_extension": ".py",
   "mimetype": "text/x-python",
   "name": "python",
   "nbconvert_exporter": "python",
   "pygments_lexer": "ipython2",
   "version": "2.7.6"
  }
 },
 "nbformat": 4,
 "nbformat_minor": 2
}
