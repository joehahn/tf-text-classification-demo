{
 "cells": [
  {
   "cell_type": "code",
   "execution_count": 1,
   "metadata": {
    "collapsed": true
   },
   "outputs": [],
   "source": [
    "#dl.ipynb\n",
    "#\n",
    "#by Joe Hahn\n",
    "#jmh.datasciences@gmail.com\n",
    "#24 January 2018"
   ]
  },
  {
   "cell_type": "code",
   "execution_count": 2,
   "metadata": {},
   "outputs": [
    {
     "name": "stdout",
     "output_type": "stream",
     "text": [
      "height has been deprecated.\n",
      "\n"
     ]
    }
   ],
   "source": [
    "#import matplotlib pandas etc\n",
    "%matplotlib inline\n",
    "import seaborn as sns\n",
    "import matplotlib.pyplot as plt\n",
    "import datetime\n",
    "import numpy as np\n",
    "import pandas as pd\n",
    "from matplotlib import rcParams\n",
    "sns.set(font_scale=1.5, font='DejaVu Sans')\n",
    "pd.set_option('display.max_columns', None)\n",
    "pd.set_option('display.height', None)\n",
    "pd.set_option('display.width', None)\n",
    "import time\n",
    "time_start = time.time()"
   ]
  },
  {
   "cell_type": "code",
   "execution_count": 3,
   "metadata": {},
   "outputs": [
    {
     "name": "stdout",
     "output_type": "stream",
     "text": [
      "number of records =  125271\n",
      "number of books =  88\n"
     ]
    },
    {
     "data": {
      "text/html": [
       "<div>\n",
       "<table border=\"1\" class=\"dataframe\">\n",
       "  <thead>\n",
       "    <tr style=\"text-align: right;\">\n",
       "      <th></th>\n",
       "      <th>author</th>\n",
       "      <th>author_id</th>\n",
       "      <th>title</th>\n",
       "      <th>input_file</th>\n",
       "      <th>text_chunk</th>\n",
       "    </tr>\n",
       "  </thead>\n",
       "  <tbody>\n",
       "    <tr>\n",
       "      <th>117538</th>\n",
       "      <td>Jules Verne</td>\n",
       "      <td>48</td>\n",
       "      <td>The Mysterious Island</td>\n",
       "      <td>iso/etext98/milnd11.txt</td>\n",
       "      <td>it was fed from some hidden source. The differ...</td>\n",
       "    </tr>\n",
       "    <tr>\n",
       "      <th>83826</th>\n",
       "      <td>Bram Stoker</td>\n",
       "      <td>9</td>\n",
       "      <td>Dracula</td>\n",
       "      <td>iso/etext95/dracu12.txt</td>\n",
       "      <td>that in saying this I am doing what my dear on...</td>\n",
       "    </tr>\n",
       "    <tr>\n",
       "      <th>82201</th>\n",
       "      <td>Laura S. Haviland</td>\n",
       "      <td>51</td>\n",
       "      <td>A Woman'S Life-Work</td>\n",
       "      <td>iso/etext05/wlwrk10.txt</td>\n",
       "      <td>in great excitement and asked her if she wante...</td>\n",
       "    </tr>\n",
       "    <tr>\n",
       "      <th>99610</th>\n",
       "      <td>William Makepeace Thackeray</td>\n",
       "      <td>86</td>\n",
       "      <td>Vanity Fair</td>\n",
       "      <td>iso/etext96/vfair12.txt</td>\n",
       "      <td>little heart beating with joy? Her letters hom...</td>\n",
       "    </tr>\n",
       "    <tr>\n",
       "      <th>2696</th>\n",
       "      <td>Dana</td>\n",
       "      <td>17</td>\n",
       "      <td>Two Years Before The Mast</td>\n",
       "      <td>iso/etext00/2yb4m10.txt</td>\n",
       "      <td>leg and said he had the scurvy; another had cu...</td>\n",
       "    </tr>\n",
       "  </tbody>\n",
       "</table>\n",
       "</div>"
      ],
      "text/plain": [
       "                             author  author_id                      title  \\\n",
       "117538                  Jules Verne         48      The Mysterious Island   \n",
       "83826                   Bram Stoker          9                    Dracula   \n",
       "82201             Laura S. Haviland         51        A Woman'S Life-Work   \n",
       "99610   William Makepeace Thackeray         86                Vanity Fair   \n",
       "2696                           Dana         17  Two Years Before The Mast   \n",
       "\n",
       "                     input_file  \\\n",
       "117538  iso/etext98/milnd11.txt   \n",
       "83826   iso/etext95/dracu12.txt   \n",
       "82201   iso/etext05/wlwrk10.txt   \n",
       "99610   iso/etext96/vfair12.txt   \n",
       "2696    iso/etext00/2yb4m10.txt   \n",
       "\n",
       "                                               text_chunk  \n",
       "117538  it was fed from some hidden source. The differ...  \n",
       "83826   that in saying this I am doing what my dear on...  \n",
       "82201   in great excitement and asked her if she wante...  \n",
       "99610   little heart beating with joy? Her letters hom...  \n",
       "2696    leg and said he had the scurvy; another had cu...  "
      ]
     },
     "execution_count": 3,
     "metadata": {},
     "output_type": "execute_result"
    }
   ],
   "source": [
    "#read 'chunks' dataframe; each record contains a random 100-word-long chunk of text from one of 89\n",
    "#books from the gutenberg project\n",
    "import pickle\n",
    "with open('chunks.pkl', 'rb') as fp:\n",
    "    chunks = pickle.load(fp)\n",
    "print 'number of records = ', len(chunks)\n",
    "print 'number of books = ', len(chunks['input_file'].unique())\n",
    "chunks.head()"
   ]
  },
  {
   "cell_type": "code",
   "execution_count": 4,
   "metadata": {
    "scrolled": false
   },
   "outputs": [
    {
     "data": {
      "text/html": [
       "<div>\n",
       "<table border=\"1\" class=\"dataframe\">\n",
       "  <thead>\n",
       "    <tr style=\"text-align: right;\">\n",
       "      <th></th>\n",
       "      <th>author</th>\n",
       "      <th>title</th>\n",
       "      <th>input_file</th>\n",
       "      <th>N_chunks</th>\n",
       "    </tr>\n",
       "  </thead>\n",
       "  <tbody>\n",
       "    <tr>\n",
       "      <th>0</th>\n",
       "      <td>A.H. Clough</td>\n",
       "      <td>Plutarch's Lives</td>\n",
       "      <td>iso/etext96/plivs10.txt</td>\n",
       "      <td>2200</td>\n",
       "    </tr>\n",
       "    <tr>\n",
       "      <th>1</th>\n",
       "      <td>Adam Smith</td>\n",
       "      <td>Wealth Of Nations</td>\n",
       "      <td>iso/etext02/wltnt10.txt</td>\n",
       "      <td>2200</td>\n",
       "    </tr>\n",
       "    <tr>\n",
       "      <th>2</th>\n",
       "      <td>Adams</td>\n",
       "      <td>The Education Of Henry Adams</td>\n",
       "      <td>iso/etext00/eduha10.txt</td>\n",
       "      <td>1260</td>\n",
       "    </tr>\n",
       "    <tr>\n",
       "      <th>3</th>\n",
       "      <td>Anne C. Lynch Botta</td>\n",
       "      <td>Handbook Of Universal Literature</td>\n",
       "      <td>iso/etext05/8unlt10.txt</td>\n",
       "      <td>1699</td>\n",
       "    </tr>\n",
       "    <tr>\n",
       "      <th>4</th>\n",
       "      <td>Anthony Trollope</td>\n",
       "      <td>The Last Chronicle Of Barset</td>\n",
       "      <td>iso/etext02/lacob11.txt</td>\n",
       "      <td>2200</td>\n",
       "    </tr>\n",
       "  </tbody>\n",
       "</table>\n",
       "</div>"
      ],
      "text/plain": [
       "                author                             title  \\\n",
       "0          A.H. Clough                  Plutarch's Lives   \n",
       "1           Adam Smith                 Wealth Of Nations   \n",
       "2                Adams      The Education Of Henry Adams   \n",
       "3  Anne C. Lynch Botta  Handbook Of Universal Literature   \n",
       "4     Anthony Trollope      The Last Chronicle Of Barset   \n",
       "\n",
       "                input_file  N_chunks  \n",
       "0  iso/etext96/plivs10.txt      2200  \n",
       "1  iso/etext02/wltnt10.txt      2200  \n",
       "2  iso/etext00/eduha10.txt      1260  \n",
       "3  iso/etext05/8unlt10.txt      1699  \n",
       "4  iso/etext02/lacob11.txt      2200  "
      ]
     },
     "execution_count": 4,
     "metadata": {},
     "output_type": "execute_result"
    }
   ],
   "source": [
    "#show titles and number of chunks\n",
    "N = pd.DataFrame(chunks.groupby(['author', 'title', 'input_file'])['text_chunk'].count()).reset_index()\\\n",
    "    .sort_values('author')\n",
    "N = N.rename(columns={'text_chunk':'N_chunks'})\n",
    "N.head()"
   ]
  },
  {
   "cell_type": "code",
   "execution_count": 5,
   "metadata": {},
   "outputs": [
    {
     "name": "stdout",
     "output_type": "stream",
     "text": [
      "records.shape  =  (125271, 5)\n",
      "train.shape    =  (75162, 5)\n",
      "test.shape     =  (20044, 5)\n",
      "validate.shape =  (30065, 5)\n"
     ]
    }
   ],
   "source": [
    "#train-test-validate split\n",
    "train_size = 0.6\n",
    "valid_size=0.6   #this is the fraction of the test sample that is assigned to the validation sample\n",
    "rn_seed = 12\n",
    "from sklearn.model_selection import train_test_split\n",
    "train, test = train_test_split(chunks, train_size=train_size, random_state=rn_seed)\n",
    "valid, test = train_test_split(test, train_size=valid_size, random_state=rn_seed)\n",
    "print 'records.shape  = ', chunks.shape\n",
    "print 'train.shape    = ', train.shape\n",
    "print 'test.shape     = ', test.shape\n",
    "print 'validate.shape = ', valid.shape"
   ]
  },
  {
   "cell_type": "code",
   "execution_count": 6,
   "metadata": {},
   "outputs": [
    {
     "name": "stdout",
     "output_type": "stream",
     "text": [
      "88 88\n"
     ]
    }
   ],
   "source": [
    "#confirm that all 88 books have records in the training sample\n",
    "print len(train['input_file'].unique()), len(chunks['input_file'].unique())"
   ]
  },
  {
   "cell_type": "code",
   "execution_count": 7,
   "metadata": {},
   "outputs": [],
   "source": [
    "##count number of distinct workds in training data...88 books have 241K words while Spanish book adds another 12K words\n",
    "#from collections import defaultdict\n",
    "#word_frequency = defaultdict(int)\n",
    "#corpus = train['text_chunk'].tolist()\n",
    "#for doc in corpus:\n",
    "#    words = doc.split(' ')\n",
    "#    for word in words:\n",
    "#        word_frequency[word] += 1\n",
    "#print 'number of distinct words = ', len(word_frequency.keys()) \n",
    "#for word in word_frequency.keys()[1:7]:\n",
    "#    print word, word_frequency[word]"
   ]
  },
  {
   "cell_type": "code",
   "execution_count": 8,
   "metadata": {},
   "outputs": [
    {
     "name": "stderr",
     "output_type": "stream",
     "text": [
      "Using TensorFlow backend.\n"
     ]
    },
    {
     "name": "stdout",
     "output_type": "stream",
     "text": [
      "number of distinct words in training samples =  123883\n",
      "number of inputs ie words per text_chunk =  100\n"
     ]
    }
   ],
   "source": [
    "#generate tokenizer\n",
    "from keras.preprocessing.text import Tokenizer\n",
    "from keras.preprocessing.sequence import pad_sequences\n",
    "tokenizer = Tokenizer()\n",
    "corpus = train['text_chunk'].tolist()\n",
    "tokenizer.fit_on_texts(corpus)\n",
    "vocabulary_size = len(tokenizer.word_index)\n",
    "print 'number of distinct words in training samples = ', vocabulary_size\n",
    "N_inputs = 100\n",
    "print 'number of inputs ie words per text_chunk = ', N_inputs "
   ]
  },
  {
   "cell_type": "code",
   "execution_count": 9,
   "metadata": {
    "collapsed": true
   },
   "outputs": [],
   "source": [
    "#this helper function extracts and tokenizes x, and extracts y and onehot-encodes it\n",
    "from keras.utils import np_utils\n",
    "def tokenize(df, tokenizer):\n",
    "    corpus = df['text_chunk'].tolist()\n",
    "    corpus_tokenized = tokenizer.texts_to_sequences(corpus)\n",
    "    corpus_padded = pad_sequences(corpus_tokenized, maxlen=N_inputs)\n",
    "    x = np.array(corpus_padded)\n",
    "    y_ids = df['author_id'].values\n",
    "    y = np_utils.to_categorical(y_ids)\n",
    "    return x, y"
   ]
  },
  {
   "cell_type": "code",
   "execution_count": 10,
   "metadata": {},
   "outputs": [
    {
     "name": "stdout",
     "output_type": "stream",
     "text": [
      "x_train.shape =  (75162, 100)\n",
      "y_train.shape =  (75162, 88)\n",
      "N_inputs =  100\n",
      "N_outputs =  88\n",
      "vocabulary_size =  123883 0 123883\n"
     ]
    }
   ],
   "source": [
    "#get training x,y with x-values being tokenized and y values onehot-encoded\n",
    "x_train, y_train = tokenize(train, tokenizer)\n",
    "N_inputs = x_train.shape[1]\n",
    "N_outputs = y_train.shape[1]\n",
    "print 'x_train.shape = ', x_train.shape\n",
    "print 'y_train.shape = ', y_train.shape\n",
    "print 'N_inputs = ', N_inputs\n",
    "print 'N_outputs = ', N_outputs\n",
    "print 'vocabulary_size = ', vocabulary_size, x_train.min(), x_train.max()"
   ]
  },
  {
   "cell_type": "code",
   "execution_count": 11,
   "metadata": {},
   "outputs": [
    {
     "name": "stdout",
     "output_type": "stream",
     "text": [
      "author                                    Harriet Beecher Stowe\n",
      "author_id                                                    36\n",
      "title                                         Uncle Tom'S Cabin\n",
      "input_file                              iso/etext95/utomc11.txt\n",
      "text_chunk    and movements, here interrupted Marks by bring...\n",
      "Name: 89497, dtype: object\n",
      "and movements, here interrupted Marks by bringing his heavy fist down on the table, so as to make all ring again, _\"It'll do!\"_ he said. \"Lord bless ye, Tom, ye needn't break all the glasses!\" said Marks; \"save your fist for time o' need.\" \"But, gentlemen, an't I to come in for a share of the profits?\" said Haley. \"An't it enough we catch the boy for ye?\" said Loker. \"What do ye want?\" \"Wal,\" said Haley, \"if I gives you the job, it's worth something,--say ten per cent. on the profits, expenses paid.\" \"Now,\" said Loker, with a tremendous \n",
      "[ 3183   130  2437  2642    26  1694    12   713  6769   114    22     1\n",
      "   490    35    14     4   134    33  1474   135  8143    60     8    40\n",
      "   192  2526   205   703   205  6391  1083    33     1  5465    40  2642\n",
      "   706    69  6769    15    74  1278   528    19   916  8683     9     4\n",
      "   110     6    15     5  1189     3     1  5350    40  7752  8683    11\n",
      "   287    41  2322     1   536    15   205    40 23895    52    60   205\n",
      "   344 14947    40  7752    50     9   925    23     1  3871   371   796\n",
      "   251   109   465  2110  3095    22     1  5350  4490   779    59    40\n",
      " 23895    13     5  6186]\n",
      "[ 0.  0.  0.  0.  0.  0.  0.  0.  0.  0.  0.  0.  0.  0.  0.  0.  0.  0.\n",
      "  0.  0.  0.  0.  0.  0.  0.  0.  0.  0.  0.  0.  0.  0.  0.  0.  0.  0.\n",
      "  1.  0.  0.  0.  0.  0.  0.  0.  0.  0.  0.  0.  0.  0.  0.  0.  0.  0.\n",
      "  0.  0.  0.  0.  0.  0.  0.  0.  0.  0.  0.  0.  0.  0.  0.  0.  0.  0.\n",
      "  0.  0.  0.  0.  0.  0.  0.  0.  0.  0.  0.  0.  0.  0.  0.  0.]\n"
     ]
    }
   ],
   "source": [
    "#display a training record\n",
    "idx = 121\n",
    "print train.iloc[idx]\n",
    "text_chunk = train.iloc[idx]['text_chunk']\n",
    "print text_chunk\n",
    "print x_train[idx]\n",
    "print y_train[idx]"
   ]
  },
  {
   "cell_type": "code",
   "execution_count": 12,
   "metadata": {},
   "outputs": [
    {
     "name": "stdout",
     "output_type": "stream",
     "text": [
      "['and', 'movements', 'here', 'interrupted', 'marks', 'by', 'bringing', 'his']\n",
      "[2, 3183, 130, 2437, 2642, 26, 1694, 12]\n"
     ]
    }
   ],
   "source": [
    "#show that the vectorized text preserves word order with punctuation dropped\n",
    "tokens = []\n",
    "words_marked = text_chunk.split(' ')[0:8]\n",
    "words = [word.lower().strip(',').strip('.').strip('\"').strip('?') for word in words_marked]\n",
    "tokens = [tokenizer.word_index[word] for word in words]\n",
    "print words\n",
    "print tokens"
   ]
  },
  {
   "cell_type": "code",
   "execution_count": 13,
   "metadata": {},
   "outputs": [
    {
     "name": "stdout",
     "output_type": "stream",
     "text": [
      "x_valid.shape =  (30065, 100)\n",
      "y_valid.shape =  (30065, 88)\n"
     ]
    }
   ],
   "source": [
    "#get validation x,y with x-values being tokenized and y values onehot-encoded\n",
    "x_valid, y_valid = tokenize(valid, tokenizer)\n",
    "print 'x_valid.shape = ', x_valid.shape\n",
    "print 'y_valid.shape = ', y_valid.shape"
   ]
  },
  {
   "cell_type": "code",
   "execution_count": 14,
   "metadata": {},
   "outputs": [
    {
     "name": "stdout",
     "output_type": "stream",
     "text": [
      "author                                         Somerset Maugham\n",
      "author_id                                                    75\n",
      "title                                         \"Of Human Bondage\n",
      "input_file                              iso/etext95/humbn10.txt\n",
      "text_chunk    he would ever be able to use the charcoal with...\n",
      "Name: 84858, dtype: object\n",
      "he would ever be able to use the charcoal with that mastery. The hour passed quickly. Not wishing to press himself upon Miss Price he sat down at some distance from her, and at the end, as he passed her on his way out, she asked him brusquely how he had got on. \"Not very well,\" he smiled. \"If you'd condescended to come and sit near me I could have given you some hints. I suppose you thought yourself too grand.\" \"No, it wasn't that. I was afraid you'd think me a nuisance.\" \"When I do that I'll tell you \n",
      "[   27     2     5 16662  2847     3    12   112 19774   449    22     7\n",
      "   671     4    31  1489    12   201    15     1   104    74     8  4465\n",
      "     6     1   155 11063     3    12   960     7    12   736    22  1668\n",
      "  2450    36     1   736     3    42    44    17   224    19    96     3\n",
      "    42    44    17   323    12    74   266  1589     6  1461    28   546\n",
      "   195   226   323   150    11    16  1332     7     4     1   155     8\n",
      "  3810     5  1054  2536    15    33    93  7929     3   138     2    93\n",
      "  3827    21  4806     4 26122     1   201    32     1  8171     3     5\n",
      "   637   454    39     5]\n",
      "[ 0.  0.  0.  0.  0.  0.  0.  0.  0.  0.  0.  0.  0.  0.  0.  0.  0.  0.\n",
      "  0.  0.  0.  0.  0.  0.  0.  0.  0.  0.  0.  0.  0.  0.  0.  0.  0.  0.\n",
      "  0.  0.  0.  0.  0.  0.  0.  0.  0.  0.  0.  0.  0.  0.  0.  0.  0.  0.\n",
      "  0.  0.  0.  1.  0.  0.  0.  0.  0.  0.  0.  0.  0.  0.  0.  0.  0.  0.\n",
      "  0.  0.  0.  0.  0.  0.  0.  0.  0.  0.  0.  0.  0.  0.  0.  0.]\n"
     ]
    }
   ],
   "source": [
    "#display a validation record\n",
    "idx = 123\n",
    "print valid.iloc[idx]\n",
    "print valid.iloc[idx]['text_chunk']\n",
    "print x_valid[321]\n",
    "print y_valid[321]"
   ]
  },
  {
   "cell_type": "code",
   "execution_count": 15,
   "metadata": {
    "collapsed": true
   },
   "outputs": [],
   "source": [
    "#this LSTM model was adapted from \n",
    "#http://www.developintelligence.com/blog/2017/06/practical-neural-networks-keras-classifying-yelp-reviews\n",
    "from keras.layers import Embedding, LSTM, Dense, Dropout, Conv1D, MaxPooling1D\n",
    "from keras.models import Sequential\n",
    "def build_lstm_model(N_inputs, N_outputs, vocabulary_size, embedding_vector_length, conv_kernel_size, dropout_fraction):\n",
    "    model = Sequential()\n",
    "    model.add(Embedding(vocabulary_size, embedding_vector_length, input_length=N_inputs))\n",
    "    conv_layer_size = embedding_vector_length/2\n",
    "    model.add(Conv1D(conv_layer_size, conv_kernel_size, activation='relu'))\n",
    "    model.add(Dropout(dropout_fraction))\n",
    "    pool_size = int(conv_kernel_size/2)\n",
    "    model.add(MaxPooling1D(pool_size=pool_size))\n",
    "    lstm_size = int(embedding_vector_length/2)\n",
    "    model.add(LSTM(lstm_size, activation='tanh')) #try linear, tanh, relu\n",
    "    model.add(Dropout(dropout_fraction))\n",
    "    model.add(Dense(N_outputs, activation='sigmoid'))\n",
    "    model.compile(loss='categorical_crossentropy', optimizer='adam', metrics=['accuracy'])\n",
    "    return model"
   ]
  },
  {
   "cell_type": "code",
   "execution_count": 16,
   "metadata": {},
   "outputs": [
    {
     "name": "stdout",
     "output_type": "stream",
     "text": [
      "N_training_epochs =  10\n",
      "batch_size =  700\n",
      "number of training + validation samples =  105227\n",
      "vocabulary_size =  123883\n",
      "embedding_vector_length =  500\n",
      "conv_kernel_size =  60\n",
      "dropout_fraction =  0.67\n",
      "N_inputs =  100 100\n",
      "N_outputs =  88 88\n",
      "rn_seed =  12\n"
     ]
    }
   ],
   "source": [
    "#assemble lstm model\n",
    "N_training_epochs = 10\n",
    "batch_size = 700#1000\n",
    "embedding_vector_length = 500#400\n",
    "conv_kernel_size = 60#50\n",
    "dropout_fraction = 0.67\n",
    "print 'N_training_epochs = ', N_training_epochs\n",
    "print 'batch_size = ', batch_size\n",
    "print 'number of training + validation samples = ', x_train.shape[0] + x_valid.shape[0]\n",
    "print 'vocabulary_size = ', vocabulary_size\n",
    "print 'embedding_vector_length = ', embedding_vector_length\n",
    "print 'conv_kernel_size = ', conv_kernel_size\n",
    "print 'dropout_fraction = ', dropout_fraction\n",
    "print 'N_inputs = ', N_inputs, x_train.shape[1]\n",
    "print 'N_outputs = ', N_outputs, y_train.shape[1]\n",
    "print 'rn_seed = ', rn_seed\n",
    "import random\n",
    "random.seed(rn_seed)\n",
    "lstm_model = build_lstm_model(N_inputs, N_outputs, vocabulary_size, embedding_vector_length, conv_kernel_size,\n",
    "    dropout_fraction)"
   ]
  },
  {
   "cell_type": "code",
   "execution_count": 17,
   "metadata": {
    "scrolled": true
   },
   "outputs": [],
   "source": [
    "#fit model to the training data...this takes X minutes on g2.2xl instance\n",
    "from time import time\n",
    "from keras.callbacks import TensorBoard\n",
    "tensorboard = TensorBoard(log_dir=\"tf_logs/{}\".format(time()))\n",
    "fit_history = lstm_model.fit(x_train, y_train, epochs=N_training_epochs, batch_size=batch_size, verbose=0, \\\n",
    "    validation_data=(x_valid, y_valid), callbacks=[tensorboard])"
   ]
  },
  {
   "cell_type": "code",
   "execution_count": 18,
   "metadata": {},
   "outputs": [
    {
     "data": {
      "image/png": "[encoded data removed]",
      "text/plain": [
       "<matplotlib.figure.Figure at 0x7f027d521990>"
      ]
     },
     "metadata": {},
     "output_type": "display_data"
    }
   ],
   "source": [
    "#plot accuracy vs training epoch\n",
    "fig, ax = plt.subplots(1,1, figsize=(15, 6))\n",
    "xp = fit_history.epoch\n",
    "yp = fit_history.history['acc']\n",
    "ax.plot(xp, yp, label='training sample')\n",
    "yp = fit_history.history['val_acc']\n",
    "ax.plot(xp, yp, label='validation sample')\n",
    "ax.set_title('classifier accuracy versus training epoch')\n",
    "ax.set_ylabel('accuracy')\n",
    "ax.set_xlabel('training epoch')\n",
    "ax.set_ylim(0.0, 1.05)\n",
    "ax.legend(loc='lower right')\n",
    "plt.savefig('figs/accuracy.png')"
   ]
  },
  {
   "cell_type": "code",
   "execution_count": 19,
   "metadata": {},
   "outputs": [
    {
     "data": {
      "image/png": "[encoded data removed]",
      "text/plain": [
       "<matplotlib.figure.Figure at 0x7f02bc6e9310>"
      ]
     },
     "metadata": {},
     "output_type": "display_data"
    }
   ],
   "source": [
    "#plot loss function vs training epoch\n",
    "fig, ax = plt.subplots(1,1, figsize=(15, 6))\n",
    "xp = fit_history.epoch\n",
    "yp = fit_history.history['loss']\n",
    "ax.plot(xp, yp, label='training sample')\n",
    "yp = fit_history.history['val_loss']\n",
    "ax.plot(xp, yp, label='validation sample')\n",
    "ax.set_title('loss function versus training epoch')\n",
    "ax.set_ylabel('loss function')\n",
    "ax.set_xlabel('training epoch')\n",
    "ax.legend()\n",
    "plt.savefig('figs/loss.png')"
   ]
  },
  {
   "cell_type": "code",
   "execution_count": 20,
   "metadata": {},
   "outputs": [
    {
     "data": {
      "text/html": [
       "<div>\n",
       "<table border=\"1\" class=\"dataframe\">\n",
       "  <thead>\n",
       "    <tr style=\"text-align: right;\">\n",
       "      <th></th>\n",
       "      <th>author</th>\n",
       "      <th>title</th>\n",
       "      <th>author_id</th>\n",
       "      <th>author_id_pred</th>\n",
       "      <th>input_file</th>\n",
       "      <th>text_chunk</th>\n",
       "    </tr>\n",
       "  </thead>\n",
       "  <tbody>\n",
       "    <tr>\n",
       "      <th>20029</th>\n",
       "      <td>Dickens</td>\n",
       "      <td>Bleak House</td>\n",
       "      <td>22</td>\n",
       "      <td>22</td>\n",
       "      <td>iso/etext97/blkhs10.txt</td>\n",
       "      <td>these her trusty companions, therefore, her ho...</td>\n",
       "    </tr>\n",
       "    <tr>\n",
       "      <th>20030</th>\n",
       "      <td>Samuel Richardson</td>\n",
       "      <td>Pamela</td>\n",
       "      <td>71</td>\n",
       "      <td>71</td>\n",
       "      <td>iso/etext04/pam1w10.txt</td>\n",
       "      <td>pray, dear sir, answered I, breakfast with you...</td>\n",
       "    </tr>\n",
       "    <tr>\n",
       "      <th>20031</th>\n",
       "      <td>Dana</td>\n",
       "      <td>Two Years Before The Mast</td>\n",
       "      <td>17</td>\n",
       "      <td>17</td>\n",
       "      <td>iso/etext00/2yb4m10.txt</td>\n",
       "      <td>if a particularly bad piece is found, one of t...</td>\n",
       "    </tr>\n",
       "    <tr>\n",
       "      <th>20032</th>\n",
       "      <td>Sir James George Frazer</td>\n",
       "      <td>The Golden Bough</td>\n",
       "      <td>72</td>\n",
       "      <td>72</td>\n",
       "      <td>iso/etext03/bough11.txt</td>\n",
       "      <td>the Yabim of New Guinea believe that the spiri...</td>\n",
       "    </tr>\n",
       "    <tr>\n",
       "      <th>20033</th>\n",
       "      <td>Archbishop Wake</td>\n",
       "      <td>Forbidden Gospels and Epistles, Complete</td>\n",
       "      <td>5</td>\n",
       "      <td>5</td>\n",
       "      <td>iso/etext04/fb10w11.txt</td>\n",
       "      <td>made to themselves graven images. 12 And the L...</td>\n",
       "    </tr>\n",
       "    <tr>\n",
       "      <th>20034</th>\n",
       "      <td>Adam Smith</td>\n",
       "      <td>Wealth Of Nations</td>\n",
       "      <td>1</td>\n",
       "      <td>41</td>\n",
       "      <td>iso/etext02/wltnt10.txt</td>\n",
       "      <td>them, than those who have been accused of the ...</td>\n",
       "    </tr>\n",
       "    <tr>\n",
       "      <th>20035</th>\n",
       "      <td>Xenophon</td>\n",
       "      <td>Cyropaedia</td>\n",
       "      <td>87</td>\n",
       "      <td>67</td>\n",
       "      <td>iso/etext00/cyrus10.txt</td>\n",
       "      <td>effect: the missiles fell fast on shields and ...</td>\n",
       "    </tr>\n",
       "    <tr>\n",
       "      <th>20036</th>\n",
       "      <td>Maupassant</td>\n",
       "      <td>Original Short Stories</td>\n",
       "      <td>60</td>\n",
       "      <td>60</td>\n",
       "      <td>iso/etext02/gm00v11.txt</td>\n",
       "      <td>She gazed at them each evening with a weight a...</td>\n",
       "    </tr>\n",
       "    <tr>\n",
       "      <th>20037</th>\n",
       "      <td>Adams</td>\n",
       "      <td>The Education Of Henry Adams</td>\n",
       "      <td>2</td>\n",
       "      <td>2</td>\n",
       "      <td>iso/etext00/eduha10.txt</td>\n",
       "      <td>Adams to Sotheby's, where a small collection o...</td>\n",
       "    </tr>\n",
       "    <tr>\n",
       "      <th>20038</th>\n",
       "      <td>Dana</td>\n",
       "      <td>Two Years Before The Mast</td>\n",
       "      <td>17</td>\n",
       "      <td>60</td>\n",
       "      <td>iso/etext00/2yb4m10.txt</td>\n",
       "      <td>well calculated for dancing, and he moved abou...</td>\n",
       "    </tr>\n",
       "    <tr>\n",
       "      <th>20039</th>\n",
       "      <td>Thomas Malory</td>\n",
       "      <td>Le Mort D'Arthur</td>\n",
       "      <td>81</td>\n",
       "      <td>81</td>\n",
       "      <td>iso/etext98/2mart10.txt</td>\n",
       "      <td>defended me so highly, that meseemeth she will...</td>\n",
       "    </tr>\n",
       "    <tr>\n",
       "      <th>20040</th>\n",
       "      <td>Anne C. Lynch Botta</td>\n",
       "      <td>Handbook Of Universal Literature</td>\n",
       "      <td>3</td>\n",
       "      <td>3</td>\n",
       "      <td>iso/etext05/8unlt10.txt</td>\n",
       "      <td>impulse to the German mind, the effects of whi...</td>\n",
       "    </tr>\n",
       "    <tr>\n",
       "      <th>20041</th>\n",
       "      <td>Sir James George Frazer</td>\n",
       "      <td>The Golden Bough</td>\n",
       "      <td>72</td>\n",
       "      <td>72</td>\n",
       "      <td>iso/etext03/bough11.txt</td>\n",
       "      <td>who now animates him or her, and if, as often ...</td>\n",
       "    </tr>\n",
       "    <tr>\n",
       "      <th>20042</th>\n",
       "      <td>Dickens</td>\n",
       "      <td>Bleak House</td>\n",
       "      <td>22</td>\n",
       "      <td>80</td>\n",
       "      <td>iso/etext97/blkhs10.txt</td>\n",
       "      <td>\"If you get into debt, you must pay your debts...</td>\n",
       "    </tr>\n",
       "    <tr>\n",
       "      <th>20043</th>\n",
       "      <td>Teresa Of Avila</td>\n",
       "      <td>The Life Of St. Teresa Of Jesus</td>\n",
       "      <td>76</td>\n",
       "      <td>76</td>\n",
       "      <td>iso/etext05/8trsa10.txt</td>\n",
       "      <td>extreme loneliness; how much greater my comfor...</td>\n",
       "    </tr>\n",
       "  </tbody>\n",
       "</table>\n",
       "</div>"
      ],
      "text/plain": [
       "                        author                                     title  \\\n",
       "20029                  Dickens                               Bleak House   \n",
       "20030        Samuel Richardson                                    Pamela   \n",
       "20031                     Dana                 Two Years Before The Mast   \n",
       "20032  Sir James George Frazer                          The Golden Bough   \n",
       "20033          Archbishop Wake  Forbidden Gospels and Epistles, Complete   \n",
       "20034               Adam Smith                         Wealth Of Nations   \n",
       "20035                 Xenophon                                Cyropaedia   \n",
       "20036               Maupassant                    Original Short Stories   \n",
       "20037                    Adams              The Education Of Henry Adams   \n",
       "20038                     Dana                 Two Years Before The Mast   \n",
       "20039            Thomas Malory                          Le Mort D'Arthur   \n",
       "20040      Anne C. Lynch Botta          Handbook Of Universal Literature   \n",
       "20041  Sir James George Frazer                          The Golden Bough   \n",
       "20042                  Dickens                               Bleak House   \n",
       "20043          Teresa Of Avila           The Life Of St. Teresa Of Jesus   \n",
       "\n",
       "       author_id  author_id_pred               input_file  \\\n",
       "20029         22              22  iso/etext97/blkhs10.txt   \n",
       "20030         71              71  iso/etext04/pam1w10.txt   \n",
       "20031         17              17  iso/etext00/2yb4m10.txt   \n",
       "20032         72              72  iso/etext03/bough11.txt   \n",
       "20033          5               5  iso/etext04/fb10w11.txt   \n",
       "20034          1              41  iso/etext02/wltnt10.txt   \n",
       "20035         87              67  iso/etext00/cyrus10.txt   \n",
       "20036         60              60  iso/etext02/gm00v11.txt   \n",
       "20037          2               2  iso/etext00/eduha10.txt   \n",
       "20038         17              60  iso/etext00/2yb4m10.txt   \n",
       "20039         81              81  iso/etext98/2mart10.txt   \n",
       "20040          3               3  iso/etext05/8unlt10.txt   \n",
       "20041         72              72  iso/etext03/bough11.txt   \n",
       "20042         22              80  iso/etext97/blkhs10.txt   \n",
       "20043         76              76  iso/etext05/8trsa10.txt   \n",
       "\n",
       "                                              text_chunk  \n",
       "20029  these her trusty companions, therefore, her ho...  \n",
       "20030  pray, dear sir, answered I, breakfast with you...  \n",
       "20031  if a particularly bad piece is found, one of t...  \n",
       "20032  the Yabim of New Guinea believe that the spiri...  \n",
       "20033  made to themselves graven images. 12 And the L...  \n",
       "20034  them, than those who have been accused of the ...  \n",
       "20035  effect: the missiles fell fast on shields and ...  \n",
       "20036  She gazed at them each evening with a weight a...  \n",
       "20037  Adams to Sotheby's, where a small collection o...  \n",
       "20038  well calculated for dancing, and he moved abou...  \n",
       "20039  defended me so highly, that meseemeth she will...  \n",
       "20040  impulse to the German mind, the effects of whi...  \n",
       "20041  who now animates him or her, and if, as often ...  \n",
       "20042  \"If you get into debt, you must pay your debts...  \n",
       "20043  extreme loneliness; how much greater my comfor...  "
      ]
     },
     "execution_count": 20,
     "metadata": {},
     "output_type": "execute_result"
    }
   ],
   "source": [
    "#predict authors of the text-chunks in the testing sample\n",
    "x_test, y_test = tokenize(test, tokenizer)\n",
    "y_test_predict_2D = lstm_model.predict(x_test)\n",
    "test = test.reset_index(drop=True)\n",
    "test['author_id_pred'] = pd.Series([np.argmax(y) for y in y_test_predict_2D])\n",
    "cols = [u'author', u'title', u'author_id', u'author_id_pred', 'input_file', u'text_chunk']\n",
    "test[cols][-15:]"
   ]
  },
  {
   "cell_type": "code",
   "execution_count": 21,
   "metadata": {},
   "outputs": [
    {
     "data": {
      "text/html": [
       "<div>\n",
       "<table border=\"1\" class=\"dataframe\">\n",
       "  <thead>\n",
       "    <tr style=\"text-align: right;\">\n",
       "      <th></th>\n",
       "      <th>N_chunks</th>\n",
       "      <th>accuracy</th>\n",
       "      <th>author</th>\n",
       "      <th>input_file</th>\n",
       "      <th>title</th>\n",
       "    </tr>\n",
       "  </thead>\n",
       "  <tbody>\n",
       "    <tr>\n",
       "      <th>0</th>\n",
       "      <td>1320</td>\n",
       "      <td>1.000000</td>\n",
       "      <td>Cervantes, In Spanish</td>\n",
       "      <td>iso/etext99/2donq10.txt</td>\n",
       "      <td>Don Quijote</td>\n",
       "    </tr>\n",
       "    <tr>\n",
       "      <th>1</th>\n",
       "      <td>665</td>\n",
       "      <td>1.000000</td>\n",
       "      <td>Emile Zola</td>\n",
       "      <td>iso/etext04/8lssm10u.txt</td>\n",
       "      <td>L'Assommoir</td>\n",
       "    </tr>\n",
       "    <tr>\n",
       "      <th>2</th>\n",
       "      <td>500</td>\n",
       "      <td>0.993711</td>\n",
       "      <td>Victor Hugo</td>\n",
       "      <td>iso/etext04/handi10.txt</td>\n",
       "      <td>Han D'Islande</td>\n",
       "    </tr>\n",
       "    <tr>\n",
       "      <th>3</th>\n",
       "      <td>535</td>\n",
       "      <td>0.946309</td>\n",
       "      <td>Unknown Icelanders</td>\n",
       "      <td>iso/etext96/njals10.txt</td>\n",
       "      <td>Njal'S Saga</td>\n",
       "    </tr>\n",
       "    <tr>\n",
       "      <th>4</th>\n",
       "      <td>856</td>\n",
       "      <td>0.943478</td>\n",
       "      <td>Thomas Malory</td>\n",
       "      <td>iso/etext98/2mart10.txt</td>\n",
       "      <td>Le Mort D'Arthur</td>\n",
       "    </tr>\n",
       "    <tr>\n",
       "      <th>5</th>\n",
       "      <td>793</td>\n",
       "      <td>0.925926</td>\n",
       "      <td>Jules Verne</td>\n",
       "      <td>iso/etext98/milnd11.txt</td>\n",
       "      <td>The Mysterious Island</td>\n",
       "    </tr>\n",
       "    <tr>\n",
       "      <th>6</th>\n",
       "      <td>873</td>\n",
       "      <td>0.921569</td>\n",
       "      <td>Mohammed</td>\n",
       "      <td>iso/etext02/koran12a.txt</td>\n",
       "      <td>The Koran</td>\n",
       "    </tr>\n",
       "    <tr>\n",
       "      <th>7</th>\n",
       "      <td>955</td>\n",
       "      <td>0.919847</td>\n",
       "      <td>David Hume</td>\n",
       "      <td>iso/etext03/trthn10.txt</td>\n",
       "      <td>A Treatise Of Human Nature</td>\n",
       "    </tr>\n",
       "    <tr>\n",
       "      <th>8</th>\n",
       "      <td>894</td>\n",
       "      <td>0.912863</td>\n",
       "      <td>Teresa Of Avila</td>\n",
       "      <td>iso/etext05/8trsa10.txt</td>\n",
       "      <td>The Life Of St. Teresa Of Jesus</td>\n",
       "    </tr>\n",
       "    <tr>\n",
       "      <th>9</th>\n",
       "      <td>939</td>\n",
       "      <td>0.909483</td>\n",
       "      <td>John Payne</td>\n",
       "      <td>iso/etext04/tftaa10.txt</td>\n",
       "      <td>Tales From The Arabic Volumes 1-3</td>\n",
       "    </tr>\n",
       "  </tbody>\n",
       "</table>\n",
       "</div>"
      ],
      "text/plain": [
       "   N_chunks  accuracy                 author                input_file  \\\n",
       "0      1320  1.000000  Cervantes, In Spanish   iso/etext99/2donq10.txt   \n",
       "1       665  1.000000             Emile Zola  iso/etext04/8lssm10u.txt   \n",
       "2       500  0.993711            Victor Hugo   iso/etext04/handi10.txt   \n",
       "3       535  0.946309     Unknown Icelanders   iso/etext96/njals10.txt   \n",
       "4       856  0.943478          Thomas Malory   iso/etext98/2mart10.txt   \n",
       "5       793  0.925926            Jules Verne   iso/etext98/milnd11.txt   \n",
       "6       873  0.921569               Mohammed  iso/etext02/koran12a.txt   \n",
       "7       955  0.919847             David Hume   iso/etext03/trthn10.txt   \n",
       "8       894  0.912863        Teresa Of Avila   iso/etext05/8trsa10.txt   \n",
       "9       939  0.909483             John Payne   iso/etext04/tftaa10.txt   \n",
       "\n",
       "                               title  \n",
       "0                        Don Quijote  \n",
       "1                        L'Assommoir  \n",
       "2                      Han D'Islande  \n",
       "3                        Njal'S Saga  \n",
       "4                   Le Mort D'Arthur  \n",
       "5              The Mysterious Island  \n",
       "6                          The Koran  \n",
       "7         A Treatise Of Human Nature  \n",
       "8    The Life Of St. Teresa Of Jesus  \n",
       "9  Tales From The Arabic Volumes 1-3  "
      ]
     },
     "execution_count": 21,
     "metadata": {},
     "output_type": "execute_result"
    }
   ],
   "source": [
    "accuracy_list = []\n",
    "for input_file in test['input_file'].unique():\n",
    "    idx = test['input_file'] == input_file\n",
    "    df = test[idx]\n",
    "    idx = df['author_id'] == df['author_id_pred']\n",
    "    accuracy = idx.sum()*1.0/idx.count()\n",
    "    author = df['author'].values[0]\n",
    "    title = df['title'].values[0]\n",
    "    N_chunks = (train['input_file'] == input_file).sum()\n",
    "    d = {'author':author, 'title':title, 'input_file':input_file, 'N_chunks':N_chunks, 'accuracy':accuracy}\n",
    "    accuracy_list += [d]\n",
    "accuracy = pd.DataFrame(accuracy_list).sort_values('accuracy', ascending=False).reset_index(drop=True)\n",
    "accuracy.head(10)"
   ]
  },
  {
   "cell_type": "code",
   "execution_count": 22,
   "metadata": {},
   "outputs": [
    {
     "data": {
      "text/html": [
       "<div>\n",
       "<table border=\"1\" class=\"dataframe\">\n",
       "  <thead>\n",
       "    <tr style=\"text-align: right;\">\n",
       "      <th></th>\n",
       "      <th>N_chunks</th>\n",
       "      <th>accuracy</th>\n",
       "      <th>author</th>\n",
       "      <th>input_file</th>\n",
       "      <th>title</th>\n",
       "    </tr>\n",
       "  </thead>\n",
       "  <tbody>\n",
       "    <tr>\n",
       "      <th>78</th>\n",
       "      <td>1272</td>\n",
       "      <td>0.650538</td>\n",
       "      <td>Rabelais</td>\n",
       "      <td>iso/etext98/ggpnt10.txt</td>\n",
       "      <td>Gargantua And Pantagruel</td>\n",
       "    </tr>\n",
       "    <tr>\n",
       "      <th>79</th>\n",
       "      <td>593</td>\n",
       "      <td>0.626761</td>\n",
       "      <td>Edward William Watkin</td>\n",
       "      <td>iso/etext04/cnstr10.txt</td>\n",
       "      <td>Canada And The States</td>\n",
       "    </tr>\n",
       "    <tr>\n",
       "      <th>80</th>\n",
       "      <td>592</td>\n",
       "      <td>0.618705</td>\n",
       "      <td>Daniel Defoe</td>\n",
       "      <td>iso/etext95/mollf10.txt</td>\n",
       "      <td>Moll Flanders</td>\n",
       "    </tr>\n",
       "    <tr>\n",
       "      <th>81</th>\n",
       "      <td>474</td>\n",
       "      <td>0.611111</td>\n",
       "      <td>Bird</td>\n",
       "      <td>iso/etext00/utrkj10.txt</td>\n",
       "      <td>Unbeaten Tracks In Japan</td>\n",
       "    </tr>\n",
       "    <tr>\n",
       "      <th>82</th>\n",
       "      <td>639</td>\n",
       "      <td>0.608696</td>\n",
       "      <td>Mary Anne Madden Sadlier</td>\n",
       "      <td>iso/etext05/8purg10.txt</td>\n",
       "      <td>Purgatory</td>\n",
       "    </tr>\n",
       "    <tr>\n",
       "      <th>83</th>\n",
       "      <td>481</td>\n",
       "      <td>0.596899</td>\n",
       "      <td>H. Rider Haggard</td>\n",
       "      <td>iso/etext02/shrhe10.txt</td>\n",
       "      <td>She</td>\n",
       "    </tr>\n",
       "    <tr>\n",
       "      <th>84</th>\n",
       "      <td>464</td>\n",
       "      <td>0.558333</td>\n",
       "      <td>Reuben Post Halleck</td>\n",
       "      <td>iso/etext04/mrclt10.txt</td>\n",
       "      <td>History Of American Literature</td>\n",
       "    </tr>\n",
       "    <tr>\n",
       "      <th>85</th>\n",
       "      <td>578</td>\n",
       "      <td>0.544118</td>\n",
       "      <td>Kate Milner Rabb</td>\n",
       "      <td>iso/etext05/8ntle10.txt</td>\n",
       "      <td>National Epics</td>\n",
       "    </tr>\n",
       "    <tr>\n",
       "      <th>86</th>\n",
       "      <td>473</td>\n",
       "      <td>0.542857</td>\n",
       "      <td>Thomas H. Huxley</td>\n",
       "      <td>iso/etext04/8sced10.txt</td>\n",
       "      <td>Science &amp; Education</td>\n",
       "    </tr>\n",
       "    <tr>\n",
       "      <th>87</th>\n",
       "      <td>560</td>\n",
       "      <td>0.485549</td>\n",
       "      <td>Various</td>\n",
       "      <td>iso/etext04/8jrc710.txt</td>\n",
       "      <td>The Junior Classics</td>\n",
       "    </tr>\n",
       "  </tbody>\n",
       "</table>\n",
       "</div>"
      ],
      "text/plain": [
       "    N_chunks  accuracy                    author               input_file  \\\n",
       "78      1272  0.650538                  Rabelais  iso/etext98/ggpnt10.txt   \n",
       "79       593  0.626761     Edward William Watkin  iso/etext04/cnstr10.txt   \n",
       "80       592  0.618705              Daniel Defoe  iso/etext95/mollf10.txt   \n",
       "81       474  0.611111                      Bird  iso/etext00/utrkj10.txt   \n",
       "82       639  0.608696  Mary Anne Madden Sadlier  iso/etext05/8purg10.txt   \n",
       "83       481  0.596899          H. Rider Haggard  iso/etext02/shrhe10.txt   \n",
       "84       464  0.558333       Reuben Post Halleck  iso/etext04/mrclt10.txt   \n",
       "85       578  0.544118          Kate Milner Rabb  iso/etext05/8ntle10.txt   \n",
       "86       473  0.542857          Thomas H. Huxley  iso/etext04/8sced10.txt   \n",
       "87       560  0.485549                   Various  iso/etext04/8jrc710.txt   \n",
       "\n",
       "                             title  \n",
       "78        Gargantua And Pantagruel  \n",
       "79           Canada And The States  \n",
       "80                   Moll Flanders  \n",
       "81        Unbeaten Tracks In Japan  \n",
       "82                       Purgatory  \n",
       "83                             She  \n",
       "84  History Of American Literature  \n",
       "85                  National Epics  \n",
       "86             Science & Education  \n",
       "87             The Junior Classics  "
      ]
     },
     "execution_count": 22,
     "metadata": {},
     "output_type": "execute_result"
    }
   ],
   "source": [
    "accuracy.tail(10)"
   ]
  },
  {
   "cell_type": "code",
   "execution_count": null,
   "metadata": {},
   "outputs": [],
   "source": []
  },
  {
   "cell_type": "code",
   "execution_count": null,
   "metadata": {
    "collapsed": true
   },
   "outputs": [],
   "source": []
  },
  {
   "cell_type": "code",
   "execution_count": 23,
   "metadata": {
    "collapsed": true
   },
   "outputs": [],
   "source": [
    "#plot accuracy versus N_chunks"
   ]
  },
  {
   "cell_type": "code",
   "execution_count": 24,
   "metadata": {
    "collapsed": true
   },
   "outputs": [],
   "source": [
    "#confusion matrix...what books were most confused?"
   ]
  },
  {
   "cell_type": "code",
   "execution_count": 25,
   "metadata": {},
   "outputs": [
    {
     "name": "stdout",
     "output_type": "stream",
     "text": [
      "training loss fn  =  0.044421576325\n",
      "validation accuracy =  0.797438849739\n",
      "execution time (minutes) =  40.5216290991\n"
     ]
    }
   ],
   "source": [
    "#done!\n",
    "print 'training loss fn  = ', fit_history.history['loss'][-1]\n",
    "print 'validation accuracy = ', fit_history.history['val_acc'][-1]\n",
    "time_stop = time()\n",
    "print 'execution time (minutes) = ', (time_stop - time_start)/60.0"
   ]
  },
  {
   "cell_type": "code",
   "execution_count": null,
   "metadata": {
    "collapsed": true
   },
   "outputs": [],
   "source": []
  }
 ],
 "metadata": {
  "hide_input": false,
  "kernelspec": {
   "display_name": "Python 2",
   "language": "python",
   "name": "python2"
  },
  "language_info": {
   "codemirror_mode": {
    "name": "ipython",
    "version": 2
   },
   "file_extension": ".py",
   "mimetype": "text/x-python",
   "name": "python",
   "nbconvert_exporter": "python",
   "pygments_lexer": "ipython2",
   "version": "2.7.6"
  }
 },
 "nbformat": 4,
 "nbformat_minor": 2
}
