{
 "cells": [
  {
   "cell_type": "code",
   "execution_count": 1,
   "metadata": {
    "collapsed": true
   },
   "outputs": [],
   "source": [
    "#dl.ipynb\n",
    "#\n",
    "#by Joe Hahn\n",
    "#jmh.datasciences@gmail.com\n",
    "#24 January 2018"
   ]
  },
  {
   "cell_type": "code",
   "execution_count": 2,
   "metadata": {},
   "outputs": [
    {
     "name": "stdout",
     "output_type": "stream",
     "text": [
      "height has been deprecated.\n",
      "\n"
     ]
    }
   ],
   "source": [
    "#import matplotlib pandas etc\n",
    "%matplotlib inline\n",
    "import seaborn as sns\n",
    "import matplotlib.pyplot as plt\n",
    "import datetime\n",
    "import numpy as np\n",
    "import pandas as pd\n",
    "from matplotlib import rcParams\n",
    "sns.set(font_scale=1.5, font='DejaVu Sans')\n",
    "pd.set_option('display.max_columns', None)\n",
    "pd.set_option('display.height', None)\n",
    "pd.set_option('display.width', None)\n",
    "import time\n",
    "time_start = time.time()"
   ]
  },
  {
   "cell_type": "code",
   "execution_count": 3,
   "metadata": {},
   "outputs": [
    {
     "name": "stdout",
     "output_type": "stream",
     "text": [
      "number of records =  125271\n",
      "number of books =  88\n"
     ]
    },
    {
     "data": {
      "text/html": [
       "<div>\n",
       "<table border=\"1\" class=\"dataframe\">\n",
       "  <thead>\n",
       "    <tr style=\"text-align: right;\">\n",
       "      <th></th>\n",
       "      <th>author</th>\n",
       "      <th>author_id</th>\n",
       "      <th>title</th>\n",
       "      <th>input_file</th>\n",
       "      <th>text_chunk</th>\n",
       "    </tr>\n",
       "  </thead>\n",
       "  <tbody>\n",
       "    <tr>\n",
       "      <th>117538</th>\n",
       "      <td>Jules Verne</td>\n",
       "      <td>48</td>\n",
       "      <td>The Mysterious Island</td>\n",
       "      <td>iso/etext98/milnd11.txt</td>\n",
       "      <td>it was fed from some hidden source. The differ...</td>\n",
       "    </tr>\n",
       "    <tr>\n",
       "      <th>83826</th>\n",
       "      <td>Bram Stoker</td>\n",
       "      <td>9</td>\n",
       "      <td>Dracula</td>\n",
       "      <td>iso/etext95/dracu12.txt</td>\n",
       "      <td>that in saying this I am doing what my dear on...</td>\n",
       "    </tr>\n",
       "    <tr>\n",
       "      <th>82201</th>\n",
       "      <td>Laura S. Haviland</td>\n",
       "      <td>51</td>\n",
       "      <td>A Woman'S Life-Work</td>\n",
       "      <td>iso/etext05/wlwrk10.txt</td>\n",
       "      <td>in great excitement and asked her if she wante...</td>\n",
       "    </tr>\n",
       "    <tr>\n",
       "      <th>99610</th>\n",
       "      <td>William Makepeace Thackeray</td>\n",
       "      <td>86</td>\n",
       "      <td>Vanity Fair</td>\n",
       "      <td>iso/etext96/vfair12.txt</td>\n",
       "      <td>little heart beating with joy? Her letters hom...</td>\n",
       "    </tr>\n",
       "    <tr>\n",
       "      <th>2696</th>\n",
       "      <td>Dana</td>\n",
       "      <td>17</td>\n",
       "      <td>Two Years Before The Mast</td>\n",
       "      <td>iso/etext00/2yb4m10.txt</td>\n",
       "      <td>leg and said he had the scurvy; another had cu...</td>\n",
       "    </tr>\n",
       "  </tbody>\n",
       "</table>\n",
       "</div>"
      ],
      "text/plain": [
       "                             author  author_id                      title  \\\n",
       "117538                  Jules Verne         48      The Mysterious Island   \n",
       "83826                   Bram Stoker          9                    Dracula   \n",
       "82201             Laura S. Haviland         51        A Woman'S Life-Work   \n",
       "99610   William Makepeace Thackeray         86                Vanity Fair   \n",
       "2696                           Dana         17  Two Years Before The Mast   \n",
       "\n",
       "                     input_file  \\\n",
       "117538  iso/etext98/milnd11.txt   \n",
       "83826   iso/etext95/dracu12.txt   \n",
       "82201   iso/etext05/wlwrk10.txt   \n",
       "99610   iso/etext96/vfair12.txt   \n",
       "2696    iso/etext00/2yb4m10.txt   \n",
       "\n",
       "                                               text_chunk  \n",
       "117538  it was fed from some hidden source. The differ...  \n",
       "83826   that in saying this I am doing what my dear on...  \n",
       "82201   in great excitement and asked her if she wante...  \n",
       "99610   little heart beating with joy? Her letters hom...  \n",
       "2696    leg and said he had the scurvy; another had cu...  "
      ]
     },
     "execution_count": 3,
     "metadata": {},
     "output_type": "execute_result"
    }
   ],
   "source": [
    "#read 'chunks' dataframe; each record contains a random 100-word-long chunk of text from one of 89\n",
    "#books from the gutenberg project\n",
    "import pickle\n",
    "with open('chunks.pkl', 'rb') as fp:\n",
    "    chunks = pickle.load(fp)\n",
    "print 'number of records = ', len(chunks)\n",
    "print 'number of books = ', len(chunks['input_file'].unique())\n",
    "chunks.head()"
   ]
  },
  {
   "cell_type": "code",
   "execution_count": 4,
   "metadata": {
    "scrolled": false
   },
   "outputs": [
    {
     "data": {
      "text/html": [
       "<div>\n",
       "<table border=\"1\" class=\"dataframe\">\n",
       "  <thead>\n",
       "    <tr style=\"text-align: right;\">\n",
       "      <th></th>\n",
       "      <th>author</th>\n",
       "      <th>title</th>\n",
       "      <th>input_file</th>\n",
       "      <th>N_chunks</th>\n",
       "    </tr>\n",
       "  </thead>\n",
       "  <tbody>\n",
       "    <tr>\n",
       "      <th>0</th>\n",
       "      <td>A.H. Clough</td>\n",
       "      <td>Plutarch's Lives</td>\n",
       "      <td>iso/etext96/plivs10.txt</td>\n",
       "      <td>2200</td>\n",
       "    </tr>\n",
       "    <tr>\n",
       "      <th>1</th>\n",
       "      <td>Adam Smith</td>\n",
       "      <td>Wealth Of Nations</td>\n",
       "      <td>iso/etext02/wltnt10.txt</td>\n",
       "      <td>2200</td>\n",
       "    </tr>\n",
       "    <tr>\n",
       "      <th>2</th>\n",
       "      <td>Adams</td>\n",
       "      <td>The Education Of Henry Adams</td>\n",
       "      <td>iso/etext00/eduha10.txt</td>\n",
       "      <td>1260</td>\n",
       "    </tr>\n",
       "    <tr>\n",
       "      <th>3</th>\n",
       "      <td>Anne C. Lynch Botta</td>\n",
       "      <td>Handbook Of Universal Literature</td>\n",
       "      <td>iso/etext05/8unlt10.txt</td>\n",
       "      <td>1699</td>\n",
       "    </tr>\n",
       "    <tr>\n",
       "      <th>4</th>\n",
       "      <td>Anthony Trollope</td>\n",
       "      <td>The Last Chronicle Of Barset</td>\n",
       "      <td>iso/etext02/lacob11.txt</td>\n",
       "      <td>2200</td>\n",
       "    </tr>\n",
       "  </tbody>\n",
       "</table>\n",
       "</div>"
      ],
      "text/plain": [
       "                author                             title  \\\n",
       "0          A.H. Clough                  Plutarch's Lives   \n",
       "1           Adam Smith                 Wealth Of Nations   \n",
       "2                Adams      The Education Of Henry Adams   \n",
       "3  Anne C. Lynch Botta  Handbook Of Universal Literature   \n",
       "4     Anthony Trollope      The Last Chronicle Of Barset   \n",
       "\n",
       "                input_file  N_chunks  \n",
       "0  iso/etext96/plivs10.txt      2200  \n",
       "1  iso/etext02/wltnt10.txt      2200  \n",
       "2  iso/etext00/eduha10.txt      1260  \n",
       "3  iso/etext05/8unlt10.txt      1699  \n",
       "4  iso/etext02/lacob11.txt      2200  "
      ]
     },
     "execution_count": 4,
     "metadata": {},
     "output_type": "execute_result"
    }
   ],
   "source": [
    "#show titles and number of chunks\n",
    "N = pd.DataFrame(chunks.groupby(['author', 'title', 'input_file'])['text_chunk'].count()).reset_index()\\\n",
    "    .sort_values('author')\n",
    "N = N.rename(columns={'text_chunk':'N_chunks'})\n",
    "N.head()"
   ]
  },
  {
   "cell_type": "code",
   "execution_count": 5,
   "metadata": {},
   "outputs": [],
   "source": [
    "##select 10 books\n",
    "#records = pd.DataFrame()\n",
    "#old_ids = [11, 78, 81, 8, 10, 20, 30, 40, 50, 70]\n",
    "#old_ids = [11, 78, 81, 8, 10, 20, 30, 40, 50, 70, 5, 15, 25, 35, 45, 55, 65, 75, 85, 88]\n",
    "#for new_id in range(len(old_ids)):\n",
    "#    idx = chunks['author_id'] == old_ids[new_id]\n",
    "#    df = chunks[idx].copy()\n",
    "#    records = records.append(df, ignore_index=True)\n",
    "#records = records.sample(frac=1.0)\n",
    "#print records['title'].unique()\n",
    "#print 'number of records = ', len(records)\n",
    "#records.head(20)"
   ]
  },
  {
   "cell_type": "code",
   "execution_count": 6,
   "metadata": {},
   "outputs": [
    {
     "name": "stdout",
     "output_type": "stream",
     "text": [
      "records.shape  =  (125271, 5)\n",
      "train.shape    =  (41339, 5)\n",
      "test.shape     =  (41966, 5)\n",
      "validate.shape =  (41966, 5)\n"
     ]
    }
   ],
   "source": [
    "#train-test-validate split\n",
    "train_size = 0.33\n",
    "validate_size=0.5   #this is the fraction of the test sample that is assigned to the validation sample\n",
    "rn_seed = 12\n",
    "from sklearn.model_selection import train_test_split\n",
    "train, test = train_test_split(chunks, train_size=train_size, random_state=rn_seed)\n",
    "validate, test = train_test_split(test, train_size=validate_size, random_state=rn_seed)\n",
    "print 'records.shape  = ', chunks.shape\n",
    "print 'train.shape    = ', train.shape\n",
    "print 'test.shape     = ', test.shape\n",
    "print 'validate.shape = ', validate.shape"
   ]
  },
  {
   "cell_type": "code",
   "execution_count": 7,
   "metadata": {},
   "outputs": [
    {
     "name": "stdout",
     "output_type": "stream",
     "text": [
      "88 88\n"
     ]
    }
   ],
   "source": [
    "#confirm that all 88 books have records in the training sample\n",
    "print len(train['input_file'].unique()), len(chunks['input_file'].unique())"
   ]
  },
  {
   "cell_type": "code",
   "execution_count": 8,
   "metadata": {},
   "outputs": [
    {
     "name": "stdout",
     "output_type": "stream",
     "text": [
      "number of distinct words =  241432\n",
      "considered, 25\n",
      "ready!' 4\n",
      "considered. 12\n",
      "vertebr�, 1\n",
      "ready!\" 1\n",
      "nunnery 1\n"
     ]
    }
   ],
   "source": [
    "#count number of distinct workds in training data...88 books have 241K words while Spanish book adds 12K words\n",
    "from collections import defaultdict\n",
    "word_frequency = defaultdict(int)\n",
    "corpus = train['text_chunk'].tolist()\n",
    "for doc in corpus:\n",
    "    words = doc.split(' ')\n",
    "    for word in words:\n",
    "        word_frequency[word] += 1\n",
    "print 'number of distinct words = ', len(word_frequency.keys()) \n",
    "for word in word_frequency.keys()[1:7]:\n",
    "    print word, word_frequency[word]"
   ]
  },
  {
   "cell_type": "code",
   "execution_count": 9,
   "metadata": {},
   "outputs": [
    {
     "name": "stderr",
     "output_type": "stream",
     "text": [
      "Using TensorFlow backend.\n"
     ]
    }
   ],
   "source": [
    "#generate tokenizer\n",
    "vocabulary_size = 241432\n",
    "N_inputs = 100\n",
    "from keras.preprocessing.text import Tokenizer\n",
    "from keras.preprocessing.sequence import pad_sequences\n",
    "tokenizer = Tokenizer(num_words=vocabulary_size)\n",
    "tokenizer.fit_on_texts(corpus)"
   ]
  },
  {
   "cell_type": "code",
   "execution_count": 10,
   "metadata": {
    "collapsed": true
   },
   "outputs": [],
   "source": [
    "#this helper function extracts and tokenizes x, and extracts y and onehot-encodes it\n",
    "from keras.utils import np_utils\n",
    "def tokenize(df, tokenizer):\n",
    "    corpus = df['text_chunk'].tolist()\n",
    "    corpus_tokenized = tokenizer.texts_to_sequences(corpus)\n",
    "    corpus_padded = pad_sequences(corpus_tokenized, maxlen=N_inputs)\n",
    "    x = np.array(corpus_padded)\n",
    "    y_ids = df['author_id'].values\n",
    "    y = np_utils.to_categorical(y_ids)\n",
    "    return x, y"
   ]
  },
  {
   "cell_type": "code",
   "execution_count": 11,
   "metadata": {},
   "outputs": [
    {
     "name": "stdout",
     "output_type": "stream",
     "text": [
      "x_train.shape =  (41339, 100)\n",
      "y_train.shape =  (41339, 88)\n",
      "N_inputs =  100\n",
      "N_outputs =  88\n",
      "vocabulary_size =  241432 0 94713\n"
     ]
    }
   ],
   "source": [
    "#get training x,y with x-values being tokenized and y values onehot-encoded\n",
    "x_train, y_train = tokenize(train, tokenizer)\n",
    "N_inputs = x_train.shape[1]\n",
    "N_outputs = y_train.shape[1]\n",
    "print 'x_train.shape = ', x_train.shape\n",
    "print 'y_train.shape = ', y_train.shape\n",
    "print 'N_inputs = ', N_inputs\n",
    "print 'N_outputs = ', N_outputs\n",
    "print 'vocabulary_size = ', vocabulary_size, x_train.min(), x_train.max()"
   ]
  },
  {
   "cell_type": "code",
   "execution_count": 12,
   "metadata": {},
   "outputs": [
    {
     "name": "stdout",
     "output_type": "stream",
     "text": [
      "author                                     John Mcelroy, Entire\n",
      "author_id                                                    46\n",
      "title                                             Andersonville\n",
      "input_file                              iso/etext02/andvl11.txt\n",
      "text_chunk    his approaching fate. Among other things he sa...\n",
      "Name: 18351, dtype: object\n",
      "his approaching fate. Among other things he said to his guard, as he washed himself elaborately the night before the day announced for the execution: \"Well, you can be sure of one thing; to-morrow night there will certainly be one clean corpse on this Island.\" Unfortunately for his braggadocio, he let it leak out in some way that he had been well aware all the time that he would not be executed. He was taken to Fort Delaware for confinement, and died there some time after. Frank Beverstock went back to his regiment, and served with it until the close \n",
      "[ 2415  1093   210    66   190     8    40     4    11  1015    14     8\n",
      "  3129   103 17364     1   182    90     1   100  2691    15     1  3398\n",
      "    85    24   102    21   378     3    42   227     4  1123   182    51\n",
      "    54   502    21    42  2120  3225    22    28   608  4300    15    11\n",
      " 42902     8   162    12 16289    57     6    63   126     7     8    17\n",
      "    53    85  1586    32     1    75     7     8    47    18    21  4592\n",
      "     8    10   269     4  2383 11939    15  6100     2   640    51    63\n",
      "    75    86  3903 63804   143   163     4    11  3110     2  1241    13\n",
      "    12   343     1   471]\n",
      "[ 0.  0.  0.  0.  0.  0.  0.  0.  0.  0.  0.  0.  0.  0.  0.  0.  0.  0.\n",
      "  0.  0.  0.  0.  0.  0.  0.  0.  0.  0.  0.  0.  0.  0.  0.  0.  0.  0.\n",
      "  0.  0.  0.  0.  0.  0.  0.  0.  0.  0.  1.  0.  0.  0.  0.  0.  0.  0.\n",
      "  0.  0.  0.  0.  0.  0.  0.  0.  0.  0.  0.  0.  0.  0.  0.  0.  0.  0.\n",
      "  0.  0.  0.  0.  0.  0.  0.  0.  0.  0.  0.  0.  0.  0.  0.  0.]\n"
     ]
    }
   ],
   "source": [
    "#display a training record\n",
    "idx = 121\n",
    "print train.iloc[idx]\n",
    "text_chunk = train.iloc[idx]['text_chunk']\n",
    "print text_chunk\n",
    "print x_train[idx]\n",
    "print y_train[idx]"
   ]
  },
  {
   "cell_type": "code",
   "execution_count": 13,
   "metadata": {},
   "outputs": [
    {
     "name": "stdout",
     "output_type": "stream",
     "text": [
      "['his', 'approaching', 'fate', 'among', 'other', 'things', 'he', 'said']\n",
      "[11, 2415, 1093, 210, 66, 190, 8, 40]\n"
     ]
    }
   ],
   "source": [
    "#show that the vectorized text preserves word order with punctuation dropped\n",
    "tokens = []\n",
    "words_marked = text_chunk.split(' ')[0:8]\n",
    "words = [word.lower().strip(',').strip('.').strip('\"').strip('?') for word in words_marked]\n",
    "tokens = [tokenizer.word_index[word] for word in words]\n",
    "print words\n",
    "print tokens"
   ]
  },
  {
   "cell_type": "code",
   "execution_count": 14,
   "metadata": {},
   "outputs": [
    {
     "name": "stdout",
     "output_type": "stream",
     "text": [
      "x_valid.shape =  (41966, 100)\n",
      "y_valid.shape =  (41966, 88)\n"
     ]
    }
   ],
   "source": [
    "#get validation x,y with x-values being tokenized and y values onehot-encoded\n",
    "x_valid, y_valid = tokenize(validate, tokenizer)\n",
    "print 'x_valid.shape = ', x_valid.shape\n",
    "print 'y_valid.shape = ', y_valid.shape"
   ]
  },
  {
   "cell_type": "code",
   "execution_count": 15,
   "metadata": {},
   "outputs": [
    {
     "name": "stdout",
     "output_type": "stream",
     "text": [
      "author                                      Anne C. Lynch Botta\n",
      "author_id                                                     3\n",
      "title                          Handbook Of Universal Literature\n",
      "input_file                              iso/etext05/8unlt10.txt\n",
      "text_chunk    the peculiar growth of Athens. The whole struc...\n",
      "Name: 78200, dtype: object\n",
      "the peculiar growth of Athens. The whole structure of the theatre, as well as the drama itself, may be traced to the chorus, whose station was the original centre of the whole performance. The orchestra, which occupied a circular level space in the centre of the building, grew out of the chorus or dancing-place of the Homeric times. The altar of Bacchus, around which the dithyrambic chorus danced in a circle, had given rise to a sort of raised platform in the centre of the orchestra, which served as a resting-place for the chorus. The chorus sang alone when the \n",
      "[    0     0   207 11316    14     5   311     3  2102    51    36   453\n",
      " 11316  6826  4190    26     1 16717    72 13255    64 35937     7    16\n",
      "  4951     1   556     3     5  5103    20   216     4   493 14237    22\n",
      "     5  3691     4   134   378     7     5   951    47    21  5325    11\n",
      "   385    10    89  1098     2     5  1788  3477    10  3167    68     1\n",
      "    76    43  4070    27    39  2459    27     6     1  5110     3    11\n",
      "  1805     1  1065   198  2249    74   349     1   344     2     5  2728\n",
      "   565    81   930     8    10   253  9012   175     1  5150     6     1\n",
      "   597     1  1005  3373]\n",
      "[ 0.  0.  0.  0.  0.  0.  0.  0.  0.  0.  0.  0.  0.  0.  0.  0.  0.  0.\n",
      "  0.  0.  0.  0.  0.  0.  0.  0.  0.  0.  0.  0.  0.  0.  0.  0.  0.  0.\n",
      "  0.  0.  0.  0.  0.  1.  0.  0.  0.  0.  0.  0.  0.  0.  0.  0.  0.  0.\n",
      "  0.  0.  0.  0.  0.  0.  0.  0.  0.  0.  0.  0.  0.  0.  0.  0.  0.  0.\n",
      "  0.  0.  0.  0.  0.  0.  0.  0.  0.  0.  0.  0.  0.  0.  0.  0.]\n"
     ]
    }
   ],
   "source": [
    "#display a validation record\n",
    "idx = 123\n",
    "print validate.iloc[idx]\n",
    "print validate.iloc[idx]['text_chunk']\n",
    "print x_valid[321]\n",
    "print y_valid[321]"
   ]
  },
  {
   "cell_type": "code",
   "execution_count": 16,
   "metadata": {
    "collapsed": true
   },
   "outputs": [],
   "source": [
    "#this LSTM model was adapted from \n",
    "#http://www.developintelligence.com/blog/2017/06/practical-neural-networks-keras-classifying-yelp-reviews\n",
    "from keras.layers import Embedding, LSTM, Dense, Dropout, Conv1D, MaxPooling1D\n",
    "from keras.models import Sequential\n",
    "def build_lstm_model(N_inputs, N_outputs, vocabulary_size, embedding_vector_length, conv_kernel_size, dropout_fraction):\n",
    "    model = Sequential()\n",
    "    model.add(Embedding(vocabulary_size, embedding_vector_length, input_length=N_inputs))\n",
    "    conv_layer_size = embedding_vector_length/2\n",
    "    model.add(Conv1D(conv_layer_size, conv_kernel_size, activation='relu'))\n",
    "    model.add(Dropout(dropout_fraction))\n",
    "    pool_size = int(conv_kernel_size/2)\n",
    "    model.add(MaxPooling1D(pool_size=pool_size))\n",
    "    lstm_size = int(embedding_vector_length/2)\n",
    "    model.add(LSTM(lstm_size, activation='tanh')) #try linear, tanh, relu\n",
    "    model.add(Dropout(dropout_fraction))\n",
    "    model.add(Dense(N_outputs, activation='sigmoid'))\n",
    "    model.compile(loss='categorical_crossentropy', optimizer='adam', metrics=['accuracy'])\n",
    "    return model"
   ]
  },
  {
   "cell_type": "code",
   "execution_count": 17,
   "metadata": {},
   "outputs": [
    {
     "name": "stdout",
     "output_type": "stream",
     "text": [
      "N_training_epochs =  10\n",
      "batch_size =  350\n",
      "number of training + validation samples =  83305\n",
      "vocabulary_size =  241432\n",
      "embedding_vector_length =  400\n",
      "conv_kernel_size =  50\n",
      "dropout_fraction =  0.67\n",
      "N_inputs =  100 100\n",
      "N_outputs =  88 88\n",
      "rn_seed =  16\n"
     ]
    }
   ],
   "source": [
    "#assemble lstm model\n",
    "N_training_epochs = 10\n",
    "batch_size = 350\n",
    "embedding_vector_length = 400\n",
    "conv_kernel_size = 50\n",
    "dropout_fraction = 0.67\n",
    "rn_seed = 16\n",
    "print 'N_training_epochs = ', N_training_epochs\n",
    "print 'batch_size = ', batch_size\n",
    "print 'number of training + validation samples = ', x_train.shape[0] + x_valid.shape[0]\n",
    "print 'vocabulary_size = ', vocabulary_size\n",
    "print 'embedding_vector_length = ', embedding_vector_length\n",
    "print 'conv_kernel_size = ', conv_kernel_size\n",
    "print 'dropout_fraction = ', dropout_fraction\n",
    "print 'N_inputs = ', N_inputs, x_train.shape[1]\n",
    "print 'N_outputs = ', N_outputs, y_train.shape[1]\n",
    "print 'rn_seed = ', rn_seed\n",
    "import random\n",
    "random.seed(rn_seed)\n",
    "lstm_model = build_lstm_model(N_inputs, N_outputs, vocabulary_size, embedding_vector_length, conv_kernel_size,\n",
    "    dropout_fraction)"
   ]
  },
  {
   "cell_type": "code",
   "execution_count": 18,
   "metadata": {
    "scrolled": true
   },
   "outputs": [],
   "source": [
    "#fit model to the training data...this takes X minutes on g2.2xl instance\n",
    "from time import time\n",
    "from keras.callbacks import TensorBoard\n",
    "tensorboard = TensorBoard(log_dir=\"tf_logs/{}\".format(time()))\n",
    "fit_history = lstm_model.fit(x_train, y_train, epochs=N_training_epochs, batch_size=batch_size, verbose=0, \\\n",
    "    validation_data=(x_valid, y_valid), callbacks=[tensorboard])"
   ]
  },
  {
   "cell_type": "code",
   "execution_count": 19,
   "metadata": {},
   "outputs": [
    {
     "data": {
      "image/png": "[encoded data removed]",
      "text/plain": [
       "<matplotlib.figure.Figure at 0x7fb9919d0a50>"
      ]
     },
     "metadata": {},
     "output_type": "display_data"
    }
   ],
   "source": [
    "#plot accuracy vs training epoch\n",
    "fig, ax = plt.subplots(1,1, figsize=(15, 6))\n",
    "xp = fit_history.epoch\n",
    "yp = fit_history.history['acc']\n",
    "ax.plot(xp, yp, label='training sample')\n",
    "yp = fit_history.history['val_acc']\n",
    "ax.plot(xp, yp, label='validation sample')\n",
    "ax.set_title('classifier accuracy versus epoch')\n",
    "ax.set_ylabel('accuracy')\n",
    "ax.set_xlabel('training epoch')\n",
    "ax_set_ylim(0.0, 1.05)\n",
    "ax.legend()\n",
    "plt.savefig('figs/accuracy.png')"
   ]
  },
  {
   "cell_type": "code",
   "execution_count": 20,
   "metadata": {},
   "outputs": [
    {
     "data": {
      "image/png": "[encoded data removed]",
      "text/plain": [
       "<matplotlib.figure.Figure at 0x7fb96c4a5850>"
      ]
     },
     "metadata": {},
     "output_type": "display_data"
    }
   ],
   "source": [
    "#plot loss function vs training epoch\n",
    "fig, ax = plt.subplots(1,1, figsize=(15, 6))\n",
    "xp = fit_history.epoch\n",
    "yp = fit_history.history['loss']\n",
    "ax.plot(xp, yp, label='training sample')\n",
    "yp = fit_history.history['val_loss']\n",
    "ax.plot(xp, yp, label='validation sample')\n",
    "ax.set_title('loss function versus epoch')\n",
    "ax.set_ylabel('loss function')\n",
    "ax.set_xlabel('training epoch')\n",
    "ax.legend()\n",
    "plt.savefig('figs/loss.png')"
   ]
  },
  {
   "cell_type": "code",
   "execution_count": 21,
   "metadata": {},
   "outputs": [
    {
     "name": "stdout",
     "output_type": "stream",
     "text": [
      "loss fn  =  0.0649556679641\n",
      "accuracy =  0.756660134289\n",
      "execution time (minutes) =  20.9681863983\n"
     ]
    }
   ],
   "source": [
    "#done!\n",
    "print 'loss fn  = ', fit_history.history['loss'][-1]\n",
    "print 'accuracy = ', fit_history.history['val_acc'][-1]\n",
    "time_stop = time()\n",
    "print 'execution time (minutes) = ', (time_stop - time_start)/60.0"
   ]
  },
  {
   "cell_type": "code",
   "execution_count": null,
   "metadata": {
    "collapsed": true
   },
   "outputs": [],
   "source": []
  }
 ],
 "metadata": {
  "hide_input": false,
  "kernelspec": {
   "display_name": "Python 2",
   "language": "python",
   "name": "python2"
  },
  "language_info": {
   "codemirror_mode": {
    "name": "ipython",
    "version": 2
   },
   "file_extension": ".py",
   "mimetype": "text/x-python",
   "name": "python",
   "nbconvert_exporter": "python",
   "pygments_lexer": "ipython2",
   "version": "2.7.6"
  }
 },
 "nbformat": 4,
 "nbformat_minor": 2
}
