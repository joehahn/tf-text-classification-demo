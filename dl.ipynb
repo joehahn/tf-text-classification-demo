{
 "cells": [
  {
   "cell_type": "code",
   "execution_count": 15,
   "metadata": {
    "collapsed": true
   },
   "outputs": [],
   "source": [
    "#dl.ipynb\n",
    "#\n",
    "#by Joe Hahn\n",
    "#jmh.datasciences@gmail.com\n",
    "#24 January 2018"
   ]
  },
  {
   "cell_type": "code",
   "execution_count": 49,
   "metadata": {},
   "outputs": [
    {
     "name": "stdout",
     "output_type": "stream",
     "text": [
      "number of documents read =  192\n"
     ]
    }
   ],
   "source": [
    "#read list of documents...each 'document' is a list of sentences from each book's middle 70%\n",
    "import subprocess, pickle\n",
    "files = subprocess.check_output(['find', 'data', '-name', '*.pkl']).decode('utf8').split('\\n')[0:-1]\n",
    "docs = []\n",
    "for file in files:\n",
    "    with open(file, 'rb') as fp:\n",
    "        doc = [pickle.load(fp)][0]\n",
    "        docs += [doc]\n",
    "print 'number of documents read = ', len(docs)"
   ]
  },
  {
   "cell_type": "code",
   "execution_count": 54,
   "metadata": {
    "collapsed": true
   },
   "outputs": [],
   "source": [
    "#import matplotlib pandas etc\n",
    "%matplotlib inline\n",
    "import seaborn as sns\n",
    "import matplotlib.pyplot as plt\n",
    "import datetime\n",
    "import numpy as np\n",
    "import pandas as pd\n",
    "from matplotlib import rcParams\n",
    "sns.set(font_scale=1.5, font='DejaVu Sans')\n",
    "pd.set_option('display.max_columns', None)"
   ]
  },
  {
   "cell_type": "code",
   "execution_count": 62,
   "metadata": {},
   "outputs": [
    {
     "data": {
      "text/html": [
       "<div>\n",
       "<table border=\"1\" class=\"dataframe\">\n",
       "  <thead>\n",
       "    <tr style=\"text-align: right;\">\n",
       "      <th></th>\n",
       "      <th>author</th>\n",
       "      <th>title</th>\n",
       "      <th>N_sentences</th>\n",
       "      <th>input_file</th>\n",
       "    </tr>\n",
       "  </thead>\n",
       "  <tbody>\n",
       "    <tr>\n",
       "      <th>150</th>\n",
       "      <td>A. Conan Doyle</td>\n",
       "      <td>The Sign of the Four</td>\n",
       "      <td>2408</td>\n",
       "      <td>iso/etext00/sign410.txt</td>\n",
       "    </tr>\n",
       "    <tr>\n",
       "      <th>97</th>\n",
       "      <td>A.H. Clough</td>\n",
       "      <td>PlutarchLives</td>\n",
       "      <td>13656</td>\n",
       "      <td>iso/etext96/plivs10.txt</td>\n",
       "    </tr>\n",
       "    <tr>\n",
       "      <th>161</th>\n",
       "      <td>Abraham Lincoln</td>\n",
       "      <td>The Writings of Lincoln, v7</td>\n",
       "      <td>3094</td>\n",
       "      <td>iso/etext01/7linc11.txt</td>\n",
       "    </tr>\n",
       "    <tr>\n",
       "      <th>123</th>\n",
       "      <td>Adolphus William Ward</td>\n",
       "      <td>Chaucer</td>\n",
       "      <td>1765</td>\n",
       "      <td>iso/etext03/chacr10.txt</td>\n",
       "    </tr>\n",
       "    <tr>\n",
       "      <th>166</th>\n",
       "      <td>Agatha Christie</td>\n",
       "      <td>Secret Adversary</td>\n",
       "      <td>6518</td>\n",
       "      <td>iso/etext98/secad10.txt</td>\n",
       "    </tr>\n",
       "  </tbody>\n",
       "</table>\n",
       "</div>"
      ],
      "text/plain": [
       "                    author                        title  N_sentences  \\\n",
       "150         A. Conan Doyle         The Sign of the Four         2408   \n",
       "97             A.H. Clough                PlutarchLives        13656   \n",
       "161        Abraham Lincoln  The Writings of Lincoln, v7         3094   \n",
       "123  Adolphus William Ward                      Chaucer         1765   \n",
       "166        Agatha Christie             Secret Adversary         6518   \n",
       "\n",
       "                  input_file  \n",
       "150  iso/etext00/sign410.txt  \n",
       "97   iso/etext96/plivs10.txt  \n",
       "161  iso/etext01/7linc11.txt  \n",
       "123  iso/etext03/chacr10.txt  \n",
       "166  iso/etext98/secad10.txt  "
      ]
     },
     "execution_count": 62,
     "metadata": {},
     "output_type": "execute_result"
    }
   ],
   "source": [
    "meta_data = [doc[-1] for doc in docs]\n",
    "cols = ['author', 'title', 'N_sentences', 'input_file']\n",
    "docs_df = pd.DataFrame(meta_data)[cols].sort_values('author')\n",
    "docs_df.head()"
   ]
  },
  {
   "cell_type": "code",
   "execution_count": 73,
   "metadata": {
    "scrolled": false
   },
   "outputs": [],
   "source": [
    "doc_list = []\n",
    "for doc in docs:\n",
    "    meta = doc[-1]\n",
    "    sentences = doc[:-1]\n",
    "    meta['sentences'] = sentences\n",
    "    doc_list += [meta]\n",
    "cols = ['author', 'title', 'N_sentences', 'sentences', 'input_file']\n",
    "docs_df = pd.DataFrame(doc_list)[cols].sort_values('author')"
   ]
  },
  {
   "cell_type": "code",
   "execution_count": 74,
   "metadata": {},
   "outputs": [
    {
     "data": {
      "text/html": [
       "<div>\n",
       "<table border=\"1\" class=\"dataframe\">\n",
       "  <thead>\n",
       "    <tr style=\"text-align: right;\">\n",
       "      <th></th>\n",
       "      <th>author</th>\n",
       "      <th>title</th>\n",
       "      <th>N_sentences</th>\n",
       "      <th>sentences</th>\n",
       "      <th>input_file</th>\n",
       "    </tr>\n",
       "  </thead>\n",
       "  <tbody>\n",
       "    <tr>\n",
       "      <th>150</th>\n",
       "      <td>A. Conan Doyle</td>\n",
       "      <td>The Sign of the Four</td>\n",
       "      <td>2408</td>\n",
       "      <td>[\"She did not think so., But at least you cann...</td>\n",
       "      <td>iso/etext00/sign410.txt</td>\n",
       "    </tr>\n",
       "    <tr>\n",
       "      <th>97</th>\n",
       "      <td>A.H. Clough</td>\n",
       "      <td>PlutarchLives</td>\n",
       "      <td>13656</td>\n",
       "      <td>[From thence he fled into Epirus, and,\\r\\nthe ...</td>\n",
       "      <td>iso/etext96/plivs10.txt</td>\n",
       "    </tr>\n",
       "    <tr>\n",
       "      <th>161</th>\n",
       "      <td>Abraham Lincoln</td>\n",
       "      <td>The Writings of Lincoln, v7</td>\n",
       "      <td>3094</td>\n",
       "      <td>[Her Britannic Majesty's government, as was ju...</td>\n",
       "      <td>iso/etext01/7linc11.txt</td>\n",
       "    </tr>\n",
       "    <tr>\n",
       "      <th>123</th>\n",
       "      <td>Adolphus William Ward</td>\n",
       "      <td>Chaucer</td>\n",
       "      <td>1765</td>\n",
       "      <td>[When, upon the declaration of the Papal Schis...</td>\n",
       "      <td>iso/etext03/chacr10.txt</td>\n",
       "    </tr>\n",
       "    <tr>\n",
       "      <th>166</th>\n",
       "      <td>Agatha Christie</td>\n",
       "      <td>Secret Adversary</td>\n",
       "      <td>6518</td>\n",
       "      <td>[\"Well, anyway, what ARE we going to\\r\\ndo?, W...</td>\n",
       "      <td>iso/etext98/secad10.txt</td>\n",
       "    </tr>\n",
       "  </tbody>\n",
       "</table>\n",
       "</div>"
      ],
      "text/plain": [
       "                    author                        title  N_sentences  \\\n",
       "150         A. Conan Doyle         The Sign of the Four         2408   \n",
       "97             A.H. Clough                PlutarchLives        13656   \n",
       "161        Abraham Lincoln  The Writings of Lincoln, v7         3094   \n",
       "123  Adolphus William Ward                      Chaucer         1765   \n",
       "166        Agatha Christie             Secret Adversary         6518   \n",
       "\n",
       "                                             sentences  \\\n",
       "150  [\"She did not think so., But at least you cann...   \n",
       "97   [From thence he fled into Epirus, and,\\r\\nthe ...   \n",
       "161  [Her Britannic Majesty's government, as was ju...   \n",
       "123  [When, upon the declaration of the Papal Schis...   \n",
       "166  [\"Well, anyway, what ARE we going to\\r\\ndo?, W...   \n",
       "\n",
       "                  input_file  \n",
       "150  iso/etext00/sign410.txt  \n",
       "97   iso/etext96/plivs10.txt  \n",
       "161  iso/etext01/7linc11.txt  \n",
       "123  iso/etext03/chacr10.txt  \n",
       "166  iso/etext98/secad10.txt  "
      ]
     },
     "execution_count": 74,
     "metadata": {},
     "output_type": "execute_result"
    }
   ],
   "source": [
    "docs_df.head()"
   ]
  },
  {
   "cell_type": "code",
   "execution_count": 65,
   "metadata": {},
   "outputs": [
    {
     "data": {
      "text/plain": [
       "[\"_Damn<e'> et Calive_, 49.\",\n",
       " \"Darius, 54\\r\\nDekker's _Satiro-Mastix_, errata to, 80.\",\n",
       " 'Deleted _for_ delited in Shakespeare, 115.',\n",
       " 'De Morgan, on authors correcting their own\\r\\n     proofs, 89.',\n",
       " \"D'Israeli's _Curiosities of Literature_, 68, 69.\",\n",
       " {'N_sentences': 1668,\n",
       "  'author': 'Henry Wheatley',\n",
       "  'input_file': u'iso/etext95/litbl10.txt',\n",
       "  'title': 'Literary Blunders'}]"
      ]
     },
     "execution_count": 65,
     "metadata": {},
     "output_type": "execute_result"
    }
   ],
   "source": [
    "doc[-6:]"
   ]
  },
  {
   "cell_type": "code",
   "execution_count": 44,
   "metadata": {},
   "outputs": [
    {
     "data": {
      "text/plain": [
       "1"
      ]
     },
     "execution_count": 44,
     "metadata": {},
     "output_type": "execute_result"
    }
   ],
   "source": [
    "len(d)"
   ]
  },
  {
   "cell_type": "code",
   "execution_count": 48,
   "metadata": {
    "scrolled": false
   },
   "outputs": [
    {
     "data": {
      "text/plain": [
       "['SALISBURY.',\n",
       " \"I did not think the king so stor'd with friends.\",\n",
       " 'PEMBROKE.',\n",
       " 'Up once again; put spirit in the French;\\r\\nIf they miscarry, we miscarry too.',\n",
       " {'N_sentences': 1412,\n",
       "  'author': 'Shakespeare',\n",
       "  'input_file': u'iso/etext98/2ws1410.txt',\n",
       "  'title': 'King John'}]"
      ]
     },
     "execution_count": 48,
     "metadata": {},
     "output_type": "execute_result"
    }
   ],
   "source": [
    "d[0][-5:]"
   ]
  },
  {
   "cell_type": "code",
   "execution_count": null,
   "metadata": {
    "collapsed": true
   },
   "outputs": [],
   "source": []
  }
 ],
 "metadata": {
  "hide_input": false,
  "kernelspec": {
   "display_name": "Python 2",
   "language": "python",
   "name": "python2"
  },
  "language_info": {
   "codemirror_mode": {
    "name": "ipython",
    "version": 2
   },
   "file_extension": ".py",
   "mimetype": "text/x-python",
   "name": "python",
   "nbconvert_exporter": "python",
   "pygments_lexer": "ipython2",
   "version": "2.7.6"
  }
 },
 "nbformat": 4,
 "nbformat_minor": 2
}
