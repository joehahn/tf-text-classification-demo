{
 "cells": [
  {
   "cell_type": "code",
   "execution_count": 1,
   "metadata": {
    "collapsed": true
   },
   "outputs": [],
   "source": [
    "#dl.ipynb\n",
    "#\n",
    "#by Joe Hahn\n",
    "#jmh.datasciences@gmail.com\n",
    "#24 January 2018"
   ]
  },
  {
   "cell_type": "code",
   "execution_count": 18,
   "metadata": {},
   "outputs": [
    {
     "name": "stdout",
     "output_type": "stream",
     "text": [
      "height has been deprecated.\n",
      "\n"
     ]
    }
   ],
   "source": [
    "#import matplotlib pandas etc\n",
    "%matplotlib inline\n",
    "import seaborn as sns\n",
    "import matplotlib.pyplot as plt\n",
    "import datetime\n",
    "import numpy as np\n",
    "import pandas as pd\n",
    "from matplotlib import rcParams\n",
    "sns.set(font_scale=1.5, font='DejaVu Sans')\n",
    "pd.set_option('display.max_columns', None)\n",
    "pd.set_option('display.height', None)\n",
    "pd.set_option('display.width', None)"
   ]
  },
  {
   "cell_type": "code",
   "execution_count": 8,
   "metadata": {},
   "outputs": [
    {
     "name": "stdout",
     "output_type": "stream",
     "text": [
      "number of sentences =  1291287\n"
     ]
    },
    {
     "data": {
      "text/html": [
       "<div>\n",
       "<table border=\"1\" class=\"dataframe\">\n",
       "  <thead>\n",
       "    <tr style=\"text-align: right;\">\n",
       "      <th></th>\n",
       "      <th>author</th>\n",
       "      <th>input_file</th>\n",
       "      <th>sentence</th>\n",
       "      <th>title</th>\n",
       "    </tr>\n",
       "  </thead>\n",
       "  <tbody>\n",
       "    <tr>\n",
       "      <th>0</th>\n",
       "      <td>Shakespeare</td>\n",
       "      <td>iso/etext00/00ws110.txt</td>\n",
       "      <td>Open the Gates vnto the Lord Protector, Or wee...</td>\n",
       "      <td>aShakespeare's First Folio/35 Plays</td>\n",
       "    </tr>\n",
       "    <tr>\n",
       "      <th>1</th>\n",
       "      <td>Shakespeare</td>\n",
       "      <td>iso/etext00/00ws110.txt</td>\n",
       "      <td>For Humfrey; being dead, as he shall be, And H...</td>\n",
       "      <td>aShakespeare's First Folio/35 Plays</td>\n",
       "    </tr>\n",
       "    <tr>\n",
       "      <th>2</th>\n",
       "      <td>Shakespeare</td>\n",
       "      <td>iso/etext00/00ws110.txt</td>\n",
       "      <td>Peace be with vs, least we be heauier   Glou.</td>\n",
       "      <td>aShakespeare's First Folio/35 Plays</td>\n",
       "    </tr>\n",
       "    <tr>\n",
       "      <th>3</th>\n",
       "      <td>Shakespeare</td>\n",
       "      <td>iso/etext00/00ws110.txt</td>\n",
       "      <td>Speake thou no more if all the rest will speed...</td>\n",
       "      <td>aShakespeare's First Folio/35 Plays</td>\n",
       "    </tr>\n",
       "    <tr>\n",
       "      <th>4</th>\n",
       "      <td>Shakespeare</td>\n",
       "      <td>iso/etext00/00ws110.txt</td>\n",
       "      <td>Further I will not flatter you, my Lord, That ...</td>\n",
       "      <td>aShakespeare's First Folio/35 Plays</td>\n",
       "    </tr>\n",
       "  </tbody>\n",
       "</table>\n",
       "</div>"
      ],
      "text/plain": [
       "        author               input_file  \\\n",
       "0  Shakespeare  iso/etext00/00ws110.txt   \n",
       "1  Shakespeare  iso/etext00/00ws110.txt   \n",
       "2  Shakespeare  iso/etext00/00ws110.txt   \n",
       "3  Shakespeare  iso/etext00/00ws110.txt   \n",
       "4  Shakespeare  iso/etext00/00ws110.txt   \n",
       "\n",
       "                                            sentence  \\\n",
       "0  Open the Gates vnto the Lord Protector, Or wee...   \n",
       "1  For Humfrey; being dead, as he shall be, And H...   \n",
       "2      Peace be with vs, least we be heauier   Glou.   \n",
       "3  Speake thou no more if all the rest will speed...   \n",
       "4  Further I will not flatter you, my Lord, That ...   \n",
       "\n",
       "                                 title  \n",
       "0  aShakespeare's First Folio/35 Plays  \n",
       "1  aShakespeare's First Folio/35 Plays  \n",
       "2  aShakespeare's First Folio/35 Plays  \n",
       "3  aShakespeare's First Folio/35 Plays  \n",
       "4  aShakespeare's First Folio/35 Plays  "
      ]
     },
     "execution_count": 8,
     "metadata": {},
     "output_type": "execute_result"
    }
   ],
   "source": [
    "#read books dataframe\n",
    "import pickle\n",
    "with open('sentences.pkl', 'rb') as fp:\n",
    "    sentences = pickle.load(fp)\n",
    "print 'number of sentences = ', len(sentences)\n",
    "sentences.head()"
   ]
  },
  {
   "cell_type": "code",
   "execution_count": 10,
   "metadata": {
    "scrolled": false
   },
   "outputs": [
    {
     "name": "stdout",
     "output_type": "stream",
     "text": [
      "number of books in filtered booklist =  335\n",
      "number of books in filtered booklist =  296\n"
     ]
    },
    {
     "data": {
      "text/html": [
       "<div>\n",
       "<table border=\"1\" class=\"dataframe\">\n",
       "  <thead>\n",
       "    <tr style=\"text-align: right;\">\n",
       "      <th></th>\n",
       "      <th>author</th>\n",
       "      <th>title</th>\n",
       "      <th>input_file</th>\n",
       "      <th>sentence</th>\n",
       "    </tr>\n",
       "  </thead>\n",
       "  <tbody>\n",
       "    <tr>\n",
       "      <th>566</th>\n",
       "      <td>various authors</td>\n",
       "      <td>Original Narratives of Early American History</td>\n",
       "      <td>iso/etext00/mohwk10.txt</td>\n",
       "      <td>1512</td>\n",
       "    </tr>\n",
       "    <tr>\n",
       "      <th>564</th>\n",
       "      <td>the Grimm Brothers</td>\n",
       "      <td>Fairy Tales</td>\n",
       "      <td>iso/etext01/grimm10.txt</td>\n",
       "      <td>3000</td>\n",
       "    </tr>\n",
       "    <tr>\n",
       "      <th>563</th>\n",
       "      <td>the Bronte Sisters</td>\n",
       "      <td>eBook of Jane Eyre</td>\n",
       "      <td>iso/etext98/janey11.txt</td>\n",
       "      <td>3000</td>\n",
       "    </tr>\n",
       "    <tr>\n",
       "      <th>562</th>\n",
       "      <td>such missionaries must lead to paradise!</td>\n",
       "      <td>The Confessions of Rousseau, v12</td>\n",
       "      <td>iso/etext03/jj13b10.txt</td>\n",
       "      <td>3000</td>\n",
       "    </tr>\n",
       "    <tr>\n",
       "      <th>561</th>\n",
       "      <td>Yei Theodora Ozaki</td>\n",
       "      <td>Japanese Fairy Tales</td>\n",
       "      <td>iso/etext03/jpnft10.txt</td>\n",
       "      <td>2661</td>\n",
       "    </tr>\n",
       "    <tr>\n",
       "      <th>560</th>\n",
       "      <td>Xenophon</td>\n",
       "      <td>Cyropaedia</td>\n",
       "      <td>iso/etext00/cyrus10.txt</td>\n",
       "      <td>3000</td>\n",
       "    </tr>\n",
       "    <tr>\n",
       "      <th>558</th>\n",
       "      <td>Wollstonecraft</td>\n",
       "      <td>Letters on Sweden, etc.</td>\n",
       "      <td>iso/etext02/ltswd10.txt</td>\n",
       "      <td>1462</td>\n",
       "    </tr>\n",
       "    <tr>\n",
       "      <th>557</th>\n",
       "      <td>William Stewart Rose</td>\n",
       "      <td>Orlando Furios</td>\n",
       "      <td>iso/etext96/orfur10.txt</td>\n",
       "      <td>3000</td>\n",
       "    </tr>\n",
       "    <tr>\n",
       "      <th>556</th>\n",
       "      <td>William S. Gilbert</td>\n",
       "      <td>: Complete Plays of Gilbert and Sullivan #2</td>\n",
       "      <td>iso/etext97/cpogs10.txt</td>\n",
       "      <td>3000</td>\n",
       "    </tr>\n",
       "    <tr>\n",
       "      <th>555</th>\n",
       "      <td>William Makepeace Thackeray</td>\n",
       "      <td>Vanity Fair</td>\n",
       "      <td>iso/etext96/vfair12.txt</td>\n",
       "      <td>3000</td>\n",
       "    </tr>\n",
       "  </tbody>\n",
       "</table>\n",
       "</div>"
      ],
      "text/plain": [
       "                                       author  \\\n",
       "566                           various authors   \n",
       "564                        the Grimm Brothers   \n",
       "563                        the Bronte Sisters   \n",
       "562  such missionaries must lead to paradise!   \n",
       "561                        Yei Theodora Ozaki   \n",
       "560                                  Xenophon   \n",
       "558                            Wollstonecraft   \n",
       "557                      William Stewart Rose   \n",
       "556                        William S. Gilbert   \n",
       "555               William Makepeace Thackeray   \n",
       "\n",
       "                                             title               input_file  \\\n",
       "566  Original Narratives of Early American History  iso/etext00/mohwk10.txt   \n",
       "564                                    Fairy Tales  iso/etext01/grimm10.txt   \n",
       "563                             eBook of Jane Eyre  iso/etext98/janey11.txt   \n",
       "562               The Confessions of Rousseau, v12  iso/etext03/jj13b10.txt   \n",
       "561                           Japanese Fairy Tales  iso/etext03/jpnft10.txt   \n",
       "560                                     Cyropaedia  iso/etext00/cyrus10.txt   \n",
       "558                        Letters on Sweden, etc.  iso/etext02/ltswd10.txt   \n",
       "557                                 Orlando Furios  iso/etext96/orfur10.txt   \n",
       "556    : Complete Plays of Gilbert and Sullivan #2  iso/etext97/cpogs10.txt   \n",
       "555                                    Vanity Fair  iso/etext96/vfair12.txt   \n",
       "\n",
       "     sentence  \n",
       "566      1512  \n",
       "564      3000  \n",
       "563      3000  \n",
       "562      3000  \n",
       "561      2661  \n",
       "560      3000  \n",
       "558      1462  \n",
       "557      3000  \n",
       "556      3000  \n",
       "555      3000  "
      ]
     },
     "execution_count": 10,
     "metadata": {},
     "output_type": "execute_result"
    }
   ],
   "source": [
    "#count number of sentences in each book, preserving longest book for multi-book authors,\n",
    "#then dropping all books shorter than 1000 sentences\n",
    "sort_cols = ['author', 'title', 'input_file']\n",
    "sentence_count = sentences.groupby(sort_cols).count()\n",
    "sentence_count = pd.DataFrame(sentence_count.to_records()).sort_values(['author', 'sentence'], ascending=False)\\\n",
    "    .drop_duplicates(['author'])\n",
    "print 'number of books in filtered booklist = ', len(sentence_count)\n",
    "idx = sentence_count['sentence'] > 1000\n",
    "sentence_count = sentence_count[idx]\n",
    "print 'number of books in filtered booklist = ', len(sentence_count)\n",
    "sentence_count.head(10)"
   ]
  },
  {
   "cell_type": "code",
   "execution_count": 11,
   "metadata": {
    "scrolled": false
   },
   "outputs": [
    {
     "name": "stdout",
     "output_type": "stream",
     "text": [
      "number of sentences =  788002\n"
     ]
    },
    {
     "data": {
      "text/html": [
       "<div>\n",
       "<table border=\"1\" class=\"dataframe\">\n",
       "  <thead>\n",
       "    <tr style=\"text-align: right;\">\n",
       "      <th></th>\n",
       "      <th>author</th>\n",
       "      <th>title</th>\n",
       "      <th>input_file</th>\n",
       "      <th>sentence</th>\n",
       "    </tr>\n",
       "  </thead>\n",
       "  <tbody>\n",
       "    <tr>\n",
       "      <th>327411</th>\n",
       "      <td>A Religious of the Ursuline Community</td>\n",
       "      <td>The Life of the Venerable Mother Mary of the I...</td>\n",
       "      <td>iso/etext04/8vnmm10.txt</td>\n",
       "      <td>CHAPTER I.</td>\n",
       "    </tr>\n",
       "    <tr>\n",
       "      <th>327412</th>\n",
       "      <td>A Religious of the Ursuline Community</td>\n",
       "      <td>The Life of the Venerable Mother Mary of the I...</td>\n",
       "      <td>iso/etext04/8vnmm10.txt</td>\n",
       "      <td>Among the many claimants for her hand, one had...</td>\n",
       "    </tr>\n",
       "    <tr>\n",
       "      <th>327413</th>\n",
       "      <td>A Religious of the Ursuline Community</td>\n",
       "      <td>The Life of the Venerable Mother Mary of the I...</td>\n",
       "      <td>iso/etext04/8vnmm10.txt</td>\n",
       "      <td>Five months only before the Mother of the Inca...</td>\n",
       "    </tr>\n",
       "    <tr>\n",
       "      <th>327414</th>\n",
       "      <td>A Religious of the Ursuline Community</td>\n",
       "      <td>The Life of the Venerable Mother Mary of the I...</td>\n",
       "      <td>iso/etext04/8vnmm10.txt</td>\n",
       "      <td>At length, sixteen of the colonists headed by ...</td>\n",
       "    </tr>\n",
       "    <tr>\n",
       "      <th>327415</th>\n",
       "      <td>A Religious of the Ursuline Community</td>\n",
       "      <td>The Life of the Venerable Mother Mary of the I...</td>\n",
       "      <td>iso/etext04/8vnmm10.txt</td>\n",
       "      <td>she exclaimed, \"surely favours like these are ...</td>\n",
       "    </tr>\n",
       "  </tbody>\n",
       "</table>\n",
       "</div>"
      ],
      "text/plain": [
       "                                       author  \\\n",
       "327411  A Religious of the Ursuline Community   \n",
       "327412  A Religious of the Ursuline Community   \n",
       "327413  A Religious of the Ursuline Community   \n",
       "327414  A Religious of the Ursuline Community   \n",
       "327415  A Religious of the Ursuline Community   \n",
       "\n",
       "                                                    title  \\\n",
       "327411  The Life of the Venerable Mother Mary of the I...   \n",
       "327412  The Life of the Venerable Mother Mary of the I...   \n",
       "327413  The Life of the Venerable Mother Mary of the I...   \n",
       "327414  The Life of the Venerable Mother Mary of the I...   \n",
       "327415  The Life of the Venerable Mother Mary of the I...   \n",
       "\n",
       "                     input_file  \\\n",
       "327411  iso/etext04/8vnmm10.txt   \n",
       "327412  iso/etext04/8vnmm10.txt   \n",
       "327413  iso/etext04/8vnmm10.txt   \n",
       "327414  iso/etext04/8vnmm10.txt   \n",
       "327415  iso/etext04/8vnmm10.txt   \n",
       "\n",
       "                                                 sentence  \n",
       "327411                                         CHAPTER I.  \n",
       "327412  Among the many claimants for her hand, one had...  \n",
       "327413  Five months only before the Mother of the Inca...  \n",
       "327414  At length, sixteen of the colonists headed by ...  \n",
       "327415  she exclaimed, \"surely favours like these are ...  "
      ]
     },
     "execution_count": 11,
     "metadata": {},
     "output_type": "execute_result"
    }
   ],
   "source": [
    "#this join preserves only one book (the longest) by each author exceeding 1000 sentences\n",
    "sentences_sub = sentences.merge(sentence_count[sort_cols], on=sort_cols, how='inner')\\\n",
    "    .sort_values(sort_cols)[sort_cols + ['sentence']]\n",
    "print 'number of sentences = ', len(sentences_sub)\n",
    "sentences_sub.head(5)"
   ]
  },
  {
   "cell_type": "code",
   "execution_count": 13,
   "metadata": {
    "scrolled": false
   },
   "outputs": [
    {
     "name": "stdout",
     "output_type": "stream",
     "text": [
      "number of books by 1 author =  296\n"
     ]
    },
    {
     "data": {
      "text/html": [
       "<div>\n",
       "<table border=\"1\" class=\"dataframe\">\n",
       "  <thead>\n",
       "    <tr style=\"text-align: right;\">\n",
       "      <th></th>\n",
       "      <th>author</th>\n",
       "      <th>title</th>\n",
       "      <th>sentence</th>\n",
       "    </tr>\n",
       "  </thead>\n",
       "  <tbody>\n",
       "    <tr>\n",
       "      <th>0</th>\n",
       "      <td>A Religious of the Ursuline Community</td>\n",
       "      <td>The Life of the Venerable Mother Mary of the I...</td>\n",
       "      <td>2713</td>\n",
       "    </tr>\n",
       "    <tr>\n",
       "      <th>1</th>\n",
       "      <td>A.H. Clough</td>\n",
       "      <td>PlutarchLives</td>\n",
       "      <td>3000</td>\n",
       "    </tr>\n",
       "    <tr>\n",
       "      <th>2</th>\n",
       "      <td>Abraham Lincoln</td>\n",
       "      <td>The Writings of Lincoln, v7</td>\n",
       "      <td>3000</td>\n",
       "    </tr>\n",
       "    <tr>\n",
       "      <th>3</th>\n",
       "      <td>Adam Smith</td>\n",
       "      <td>Wealth of Nations</td>\n",
       "      <td>3000</td>\n",
       "    </tr>\n",
       "    <tr>\n",
       "      <th>4</th>\n",
       "      <td>Adolphus William Ward</td>\n",
       "      <td>Chaucer</td>\n",
       "      <td>1704</td>\n",
       "    </tr>\n",
       "  </tbody>\n",
       "</table>\n",
       "</div>"
      ],
      "text/plain": [
       "                                  author  \\\n",
       "0  A Religious of the Ursuline Community   \n",
       "1                            A.H. Clough   \n",
       "2                        Abraham Lincoln   \n",
       "3                             Adam Smith   \n",
       "4                  Adolphus William Ward   \n",
       "\n",
       "                                               title  sentence  \n",
       "0  The Life of the Venerable Mother Mary of the I...      2713  \n",
       "1                                      PlutarchLives      3000  \n",
       "2                        The Writings of Lincoln, v7      3000  \n",
       "3                                  Wealth of Nations      3000  \n",
       "4                                            Chaucer      1704  "
      ]
     },
     "execution_count": 13,
     "metadata": {},
     "output_type": "execute_result"
    }
   ],
   "source": [
    "#check\n",
    "sentence_count = sentences_sub.groupby(sort_cols).count()\n",
    "cols = ['author', 'title', 'sentence']\n",
    "sentence_count = pd.DataFrame(sentence_count.to_records()).sort_values(['author', 'title'])[cols]\n",
    "print 'number of books by 1 author = ', len(sentence_count)\n",
    "sentence_count.head()"
   ]
  },
  {
   "cell_type": "code",
   "execution_count": 23,
   "metadata": {
    "scrolled": false
   },
   "outputs": [
    {
     "data": {
      "text/html": [
       "<div>\n",
       "<table border=\"1\" class=\"dataframe\">\n",
       "  <thead>\n",
       "    <tr style=\"text-align: right;\">\n",
       "      <th></th>\n",
       "      <th>author</th>\n",
       "      <th>title</th>\n",
       "      <th>input_file</th>\n",
       "      <th>sentence</th>\n",
       "    </tr>\n",
       "  </thead>\n",
       "  <tbody>\n",
       "    <tr>\n",
       "      <th>421998</th>\n",
       "      <td>Thucydides</td>\n",
       "      <td>The History of the Peloponnesian War</td>\n",
       "      <td>iso/etext04/plpwr10.txt</td>\n",
       "      <td>Between ourselves and the Athenians alliance b...</td>\n",
       "    </tr>\n",
       "    <tr>\n",
       "      <th>778738</th>\n",
       "      <td>Chesterton</td>\n",
       "      <td>The Man Who Knew Too Much</td>\n",
       "      <td>iso/etext99/mwktm10a.txt</td>\n",
       "      <td>Neither of them thought it necessary to mentio...</td>\n",
       "    </tr>\n",
       "    <tr>\n",
       "      <th>535034</th>\n",
       "      <td>Arthur Guy Empey</td>\n",
       "      <td>Over The Top</td>\n",
       "      <td>iso/etext05/ovtop10.txt</td>\n",
       "      <td>went an improperly cut wire.</td>\n",
       "    </tr>\n",
       "    <tr>\n",
       "      <th>152360</th>\n",
       "      <td>Frederic Austin Ogg</td>\n",
       "      <td>The Old Northwest, A Chronicle of the Ohio Val...</td>\n",
       "      <td>iso/etext02/oldno10.txt</td>\n",
       "      <td>From the Lakes to the Gulf redskins rose for v...</td>\n",
       "    </tr>\n",
       "    <tr>\n",
       "      <th>415669</th>\n",
       "      <td>Firebaugh</td>\n",
       "      <td>Satyricon of Petronius Arbiter, Complete #8</td>\n",
       "      <td>iso/etext04/pas8w10.txt</td>\n",
       "      <td>vi, 121 et seq.</td>\n",
       "    </tr>\n",
       "  </tbody>\n",
       "</table>\n",
       "</div>"
      ],
      "text/plain": [
       "                     author  \\\n",
       "421998           Thucydides   \n",
       "778738           Chesterton   \n",
       "535034     Arthur Guy Empey   \n",
       "152360  Frederic Austin Ogg   \n",
       "415669            Firebaugh   \n",
       "\n",
       "                                                    title  \\\n",
       "421998               The History of the Peloponnesian War   \n",
       "778738                          The Man Who Knew Too Much   \n",
       "535034                                       Over The Top   \n",
       "152360  The Old Northwest, A Chronicle of the Ohio Val...   \n",
       "415669        Satyricon of Petronius Arbiter, Complete #8   \n",
       "\n",
       "                      input_file  \\\n",
       "421998   iso/etext04/plpwr10.txt   \n",
       "778738  iso/etext99/mwktm10a.txt   \n",
       "535034   iso/etext05/ovtop10.txt   \n",
       "152360   iso/etext02/oldno10.txt   \n",
       "415669   iso/etext04/pas8w10.txt   \n",
       "\n",
       "                                                 sentence  \n",
       "421998  Between ourselves and the Athenians alliance b...  \n",
       "778738  Neither of them thought it necessary to mentio...  \n",
       "535034                       went an improperly cut wire.  \n",
       "152360  From the Lakes to the Gulf redskins rose for v...  \n",
       "415669                                    vi, 121 et seq.  "
      ]
     },
     "execution_count": 23,
     "metadata": {},
     "output_type": "execute_result"
    }
   ],
   "source": [
    "#randomize sentence order\n",
    "sentences_ran = sentences_sub.sample(frac=1)\n",
    "sentences_ran.head()"
   ]
  },
  {
   "cell_type": "code",
   "execution_count": 42,
   "metadata": {},
   "outputs": [
    {
     "name": "stdout",
     "output_type": "stream",
     "text": [
      "(788002, 4)\n",
      "(394001, 4)\n",
      "(263981, 4)\n",
      "(130020, 4)\n"
     ]
    }
   ],
   "source": [
    "#train-test-validate split\n",
    "train_size = 0.5\n",
    "rn_seed = 23\n",
    "from sklearn.model_selection import train_test_split\n",
    "train, test = train_test_split(sentences_ran, train_size=train_size, random_state=rn_seed)\n",
    "validate, test = train_test_split(test, test_size=0.67, random_state=rn_seed)\n",
    "print sentences_ran.shape\n",
    "print train.shape\n",
    "print test.shape\n",
    "print validate.shape"
   ]
  },
  {
   "cell_type": "code",
   "execution_count": 45,
   "metadata": {},
   "outputs": [
    {
     "name": "stdout",
     "output_type": "stream",
     "text": [
      "['\"The Manor, sir \"--\"The Manor!', '162.', 'We have no evidence beyond his own statement that he was a practical observer.', 'Why is the cost of government increasing  2.', 'I therefore determined to go to Besancon, and take some lessons from the Abbe Blanchard, and the idea appeared so rational to me, that I soon made Madam de Warrens of the same opinion, who immediately set about the preparations for my journey, in the same style of profusion with which all her plans were executed.']\n"
     ]
    }
   ],
   "source": [
    "#train word2vec model\n",
    "train_sentences = train['sentence'].tolist()\n",
    "print train_sentences[0:5]\n",
    "from gensim.models import Word2Vec\n",
    "w2v_model = Word2Vec(train_sentences, size=100, alpha=0.025, min_count=1)"
   ]
  },
  {
   "cell_type": "code",
   "execution_count": 49,
   "metadata": {},
   "outputs": [
    {
     "data": {
      "text/plain": [
       "<gensim.models.word2vec.Word2Vec at 0x7ff375129310>"
      ]
     },
     "execution_count": 49,
     "metadata": {},
     "output_type": "execute_result"
    }
   ],
   "source": [
    "w2v_model"
   ]
  },
  {
   "cell_type": "code",
   "execution_count": null,
   "metadata": {
    "collapsed": true
   },
   "outputs": [],
   "source": []
  }
 ],
 "metadata": {
  "hide_input": false,
  "kernelspec": {
   "display_name": "Python 2",
   "language": "python",
   "name": "python2"
  },
  "language_info": {
   "codemirror_mode": {
    "name": "ipython",
    "version": 2
   },
   "file_extension": ".py",
   "mimetype": "text/x-python",
   "name": "python",
   "nbconvert_exporter": "python",
   "pygments_lexer": "ipython2",
   "version": "2.7.6"
  }
 },
 "nbformat": 4,
 "nbformat_minor": 2
}
